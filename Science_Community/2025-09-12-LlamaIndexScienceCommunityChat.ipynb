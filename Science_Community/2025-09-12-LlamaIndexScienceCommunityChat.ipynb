{
 "cells": [
  {
   "cell_type": "markdown",
   "id": "6812cb11",
   "metadata": {},
   "source": [
    "---\n",
    "layout: post\n",
    "title:  LlamaIndex RAG for Science Community\n",
    "date:   2025-09-12\n",
    "maths: true\n",
    "categories: [AI, LlamaIndex, OpenAI, RAG]\n",
    "typora-root-url: /Users/ojitha/GitHub/ojitha.github.io\n",
    "typora-copy-images-to: ../assets/images/${filename}\n",
    "---\n",
    "\n",
    "<style>\n",
    "/* Styles for the two-column layout */\n",
    ".image-text-container {\n",
    "    display: flex; /* Enables flexbox */\n",
    "    flex-wrap: wrap; /* Allows columns to stack on small screens */\n",
    "    gap: 10px; /* Space between the image and text */\n",
    "    align-items: left; /* Vertically centers content in columns */\n",
    "    margin-bottom: 20px; /* Space below this section */\n",
    "}\n",
    "\n",
    ".image-column {\n",
    "    flex: 1; /* Allows this column to grow */\n",
    "    min-width: 150px; /* Minimum width for the image column before stacking */\n",
    "    max-width: 20%; /* Maximum width for the image column to not take up too much space initially */\n",
    "    box-sizing: border-box; /* Include padding/border in element's total width/height */\n",
    "}\n",
    "\n",
    ".text-column {\n",
    "    flex: 2; /* Allows this column to grow more (e.g., twice as much as image-column) */\n",
    "    min-width: 300px; /* Minimum width for the text column before stacking */\n",
    "    box-sizing: border-box;\n",
    "}\n",
    "\n",
    "</style>\n",
    "\n",
    "<div class=\"image-text-container\">\n",
    "    <div class=\"image-column\">\n",
    "        <img src=\"/assets/images/2025-09-12-LlamaIndexScienceCommunityChat/llamaindex_ink_drawing.svg\" alt=\"LangGraph Testing Sketch\" width=\"150\" height=\"150\">\n",
    "    </div>\n",
    "    <div class=\"text-column\">\n",
    "<p>\n",
    " LlamaIndex is a comprehensive data framework designed to connect large language models with private data sources through Retrieval-Augmented Generation (RAG) architecture. The framework operates through two main stages: indexing, where vector embeddings are created from documents, and querying, where relevant information is retrieved and synthesized. LlamaIndex supports multiple chat engines including condense question, context, and condense-plus-context modes for enhanced conversational AI applications. Quality evaluation is crucial for RAG performance, utilizing metrics like Mean Reciprocal Rank (MRR) and Hit Rate to assess retrieval accuracy. The framework includes faithfulness and relevance evaluators to measure response quality, making it essential for building reliable AI applications that require domain-specific knowledge integration with seamless LLM integration capabilities.\n",
    "</p>\n",
    "    </div>\n",
    "</div>\n",
    "\n",
    "<!--more-->\n",
    "\n",
    "📝 source: [Jupyter Notebook](https://github.com/ojitha/rag_llamaindex/blob/main/Science_Community/2025-09-12-LlamaIndexScienceCommunityChat.ipynb){:target=\"_blank\"}\n",
    "\n",
    "📂 App source: \n",
    "\n",
    "------\n",
    "\n",
    "* TOC\n",
    "{:toc}\n",
    "------\n",
    "\n",
    "## Introduction\n",
    "LlamaIndex is a data framework designed to help developers build applications that connect large language models (LLMs) with their own private or custom data sources. It serves as a bridge between LLMs and external data, enabling you to create AI applications that can reason over your specific information. For example, I'v created the AI Chatbot which can retrieve the information from my data and inference to answer the user response:\n",
    "\n",
    "![AI Chatbot for Science Community](/assets/images/2025-09-12-LlamaIndexScienceCommunityChat/AI_Chat_Bot.jpg)\n",
    "\n",
    "1. User prompt to ask Questions?\n",
    "2. Previous question\n",
    "3. Answer of the previous question\n",
    "4. Files in the RAG store\n",
    "5. Specific setting such as Context/System prompt for Context\n",
    "6. Select the Chat Engine\n",
    "7. Common setting for all the prompts\n",
    "\n",
    "\n",
    "\n",
    "\n",
    "### What is LlamaIndex?\n",
    "The main challenge LlamaIndex addresses is that while LLMs like GPT-4 or Claude are trained on vast amounts of general knowledge, they don't have access to your specific data - whether that's company documents, personal files, databases, or real-time information. LlamaIndex provides the infrastructure to make your data \"queryable\" by LLMs.\n",
    "Introducint Llama-index components with OpenAI\n",
    "\n",
    "Key Features\n",
    "- Data Ingestion: LlamaIndex can connect to various data sources including:\n",
    "    - Documents (PDFs, Word files, text files)\n",
    "    - Databases (SQL, NoSQL)\n",
    "    - APIs and web services\n",
    "    - Vector databases\n",
    "    - Knowledge graphs\n",
    "- Indexing and Retrieval: It creates searchable indexes of your data using techniques like:\n",
    "    - Vector embeddings for semantic search\n",
    "    - Keyword-based retrieval\n",
    "    - Hybrid search approaches\n",
    "    - Hierarchical indexing for large datasets\n",
    "- Query Processing: When you ask a question, LlamaIndex:\n",
    "    - Retrieves the most relevant pieces of information from your indexed data\n",
    "    - Provides that context to the LLM\n",
    "    - Returns an answer based on your specific data\n",
    "\n",
    "### Core Architecture Components\n",
    "The LlamaIndex ecosystem is built around three fundamental stages and components. As outlined in _Generative AI for Cloud Solutions_[^1], LlamaIndex operates through two main stages:\n",
    "\n",
    "1. **Indexing stage**: In this stage, LlamaIndex creates a vector index of your private data. This makes it possible to search through your own organization's domain-specific knowledge base. You can input text documents, database records, knowledge graphs, and other data types. \n",
    "\n",
    "2. **Querying stage**: In this stage, the RAG pipeline finds the most relevant information based on the user's query. This information is then passed to the LLM, along with the query, to generate a more accurate response.\"\n",
    "\n",
    "The framework then implements these stages through three main components:\n",
    "\n",
    "1. Data Loading: LlamaIndex provides data connectors, they allow you to pull data from wherever it is stored, such as APIs, PDFs, databases, or external apps.\n",
    "2. Data Indexes: This includes creating vector embeddings and adding metadata to make information retrievable.\n",
    "3. Stroing: Once the embeddings have been created, they are stored to be queried. Llama­Index has multiple storage solutions.\n",
    "4. Engines: This engine takes a natural language query, retrieves relevant information from the index, and passes it to an LLM. You can feed a query via prompt and get the retrieved context with the LLM’s answer using different strategies: Condensce, Context and Condense+context. This includes query engines that combine retrieval and synthesis capabilities[^2].\n",
    "5. Evaluating: RAG solution is an iterative process that can work only if you evaluate your LLM answers for query prompts. LlamaIndex provides tooling to measure how accurate and so on.\n",
    "\n",
    "At the foundational level, LlamaIndex works with Documents and Nodes as its basic building blocks.Documents represent raw data sources, while Nodes are coherent, indexable chunks of information parsed from Documents[^4].\n",
    "\n",
    "### Integration\n",
    "LlamaIndex integrates with popular LLM providers (OpenAI, Anthropic, local models) and vector databases (Pinecone, Chroma, Weaviate), making it quite flexible for different technical stacks. The framework essentially democratizes the ability to create \"ChatGPT for your data\" applications without needing to build all the retrieval and indexing infrastructure from scratch.\n",
    "\n",
    "> You have to setup the environmen (eg: ChatGPT API Key) and the other housekeeping functions:"
   ]
  },
  {
   "cell_type": "code",
   "execution_count": 1,
   "id": "e6d5f4b1",
   "metadata": {},
   "outputs": [],
   "source": [
    "%load_ext dotenv\n",
    "%dotenv ../../../.env\n",
    "\n",
    "from IPython.display import Markdown, display\n",
    "def in_md(md_txt):\n",
    "    md_formated_txt = f\"--- Response -------<br/>{md_txt}<br/>-------------------\"\n",
    "    display(Markdown(md_formated_txt))"
   ]
  },
  {
   "cell_type": "markdown",
   "id": "208f4cc3",
   "metadata": {},
   "source": [
    "In RAG systems, data ingestion is the first critical step where LlamaIndex connects to various data sources through its data connectors. The \"data\" directory in this example contains raw documents that will be processed through LlamaIndex's `SimpleDirectoryReader`, which serves as a <span>universal data loader capable of handling multiple file formats</span>{:gtxt} including \n",
    "\n",
    "- PDFs, \n",
    "- text files, \n",
    "- CSVs, \n",
    "\n",
    "and more. This ingestion phase represents the beginning of the RAG indexing pipeline where unstructured data is transformed into a queryable format for retrieval-augmented generation."
   ]
  },
  {
   "cell_type": "code",
   "execution_count": 2,
   "id": "d46fb4fd",
   "metadata": {},
   "outputs": [],
   "source": [
    "from llama_index.core import SimpleDirectoryReader\n",
    "documents =SimpleDirectoryReader(\n",
    "    input_dir=\"./data\").load_data()"
   ]
  },
  {
   "cell_type": "markdown",
   "id": "274ebf30",
   "metadata": {},
   "source": [
    "LlamaIndex uses a centralized Settings system that manages global configurations for both Large Language Models (LLMs) and embedding models across the entire RAG pipeline. The `Settings.llm` defines which language model will be used for text generation and query processing, while `Settings.embed_model` specifies the embedding model for creating vector representations. This unified configuration approach ensures consistency throughout the indexing and querying phases, allowing seamless integration between different components of the RAG system while supporting various LLM providers like OpenAI, Anthropic, or local models."
   ]
  },
  {
   "cell_type": "code",
   "execution_count": 3,
   "id": "03c99a2e",
   "metadata": {},
   "outputs": [],
   "source": [
    "from llama_index.core import Settings\n",
    "from llama_index.embeddings.openai import OpenAIEmbedding\n",
    "from llama_index.llms.openai import OpenAI\n",
    "\n",
    "\n",
    "llm = OpenAI(model=\"gpt-4o\", temperature=0.3)\n",
    "embed_model = OpenAIEmbedding()\n",
    "\n",
    "Settings.llm = llm\n",
    "Settings.embed_model = embed_model"
   ]
  },
  {
   "cell_type": "markdown",
   "id": "2779cff3",
   "metadata": {},
   "source": [
    "Node creation is fundamental to RAG systems, where *documents are parsed and split into manageable, coherent chunks called nodes*. LlamaIndex's `TokenTextSplitter` employs a token-based chunking strategy with configurable `chunk_size` and `chunk_overlap` parameters. The `chunk_size` (1024 tokens) ensures each node contains sufficient context while staying within LLM token limits, while `chunk_overlap` (20 tokens) maintains semantic continuity between adjacent chunks. \n",
    "\n",
    "> This chunking strategy is critical for balancing **retrieval precision** and **context preservation**, as smaller chunks provide more precise matches while larger chunks retain more comprehensive context for better answer generation.\n",
    "{:.green}"
   ]
  },
  {
   "cell_type": "code",
   "execution_count": 4,
   "id": "ec475ac0",
   "metadata": {},
   "outputs": [],
   "source": [
    "from llama_index.core.node_parser import TokenTextSplitter\n",
    "\n",
    "\n",
    "splittter = TokenTextSplitter(\n",
    "    chunk_size= 1024,\n",
    "    chunk_overlap=20\n",
    ")\n",
    "nodes = splittter.get_nodes_from_documents(documents)"
   ]
  },
  {
   "cell_type": "code",
   "execution_count": 5,
   "id": "254a0626",
   "metadata": {},
   "outputs": [
    {
     "name": "stdout",
     "output_type": "stream",
     "text": [
      "TextNode(id_='cd821c26-64cf-4755-98f2-9e831ab0d306', embedding=None, metadata={'file_path': '/Users/ojitha/GitHub/rag_llamaindex/Science_Community/data/AlbertEinstein.txt', 'file_name': 'AlbertEinstein.txt', 'file_type': 'text/plain', 'file_size': 8235, 'creation_date': '2025-09-12', 'last_modified_date': '2025-09-12'}, excluded_embed_metadata_keys=['file_name', 'file_type', 'file_size', 'creation_date', 'last_modified_date', 'last_accessed_date'], excluded_llm_metadata_keys=['file_name', 'file_type', 'file_size', 'creation_date', 'last_modified_date', 'last_accessed_date'], relationships={<NodeRelationship.SOURCE: '1'>: RelatedNodeInfo(node_id='2a37d51d-ac93-4091-aad5-06b963941e44', node_type=<ObjectType.DOCUMENT: '4'>, metadata={'file_path': '/Users/ojitha/GitHub/rag_llamaindex/Science_Community/data/AlbertEinstein.txt', 'file_name': 'AlbertEinstein.txt', 'file_type': 'text/plain', 'file_size': 8235, 'creation_date': '2025-09-12', 'last_modified_date': '2025-09-12'}, hash='ebbeab8f1fb4d45db4be9071d503bd1d253736c0a2213119e2ac3946f6f207d0'), <NodeRelationship.NEXT: '3'>: RelatedNodeInfo(node_id='c69ff2bd-5b11-4201-ae2d-2c02163add35', node_type=<ObjectType.TEXT: '1'>, metadata={}, hash='7f6bac3350f6db083a409040284e8883997660c647b36ff4bb89c3fbe9b775f3')}, metadata_template='{key}: {value}', metadata_separator='\\n', text='# Albert Einstein: A Biography\\n\\n## Early Life (1879-1896)\\n\\nAlbert Einstein was born on March 14, 1879, in Ulm, in the Kingdom of Württemberg in the German Empire. His parents were Hermann Einstein, a salesman and engineer, and Pauline Koch Einstein. When Albert was one year old, the family moved to Munich, where his father and uncle founded Elektrotechnische Fabrik J. Einstein & Cie, a company that manufactured electrical equipment.\\n\\nEinstein showed early signs of intellectual curiosity, though contrary to popular myth, he was not a poor student. He excelled in mathematics and physics from a young age. When he was five, his father gave him a compass, and Einstein was fascinated by the invisible forces that moved the needle—an experience he later described as pivotal in developing his scientific curiosity.\\n\\nIn 1894, Einstein\\'s family moved to Italy for business reasons, but Albert remained in Munich to finish his education. However, he left school early and rejoined his family in Italy. He then applied to the Swiss Federal Polytechnic in Zurich but failed the entrance exam, though he scored exceptionally well in mathematics and physics. After completing his secondary education in Switzerland, he was accepted to the Polytechnic in 1896.\\n\\n## Education and Early Career (1896-1905)\\n\\nEinstein studied at the Swiss Federal Polytechnic from 1896 to 1900, where he met Mileva Marić, a fellow physics student who would later become his first wife. After graduating in 1900, Einstein struggled to find academic employment and worked various temporary jobs, including as a tutor and substitute teacher.\\n\\nIn 1902, he secured a position at the Swiss Patent Office in Bern, where he worked as a technical assistant examiner. This job provided him with financial stability and, perhaps more importantly, time to pursue his own scientific research. The work at the patent office also exposed him to practical applications of electromagnetic theory, which influenced his later work.\\n\\nEinstein earned his doctorate from the University of Zurich in 1905 with a dissertation titled \"On a New Determination of Molecular Dimensions.\"\\n\\n## The Miracle Year (1905)\\n\\n1905 became known as Einstein\\'s \"Annus Mirabilis\" (miracle year) because he published four groundbreaking papers that revolutionized physics:\\n\\n### 1. Photoelectric Effect\\nEinstein\\'s paper on the photoelectric effect explained how light could behave as particles (photons), providing crucial evidence for quantum theory. This work earned him the Nobel Prize in Physics in 1921.\\n\\n### 2. Brownian Motion\\nHis explanation of Brownian motion provided empirical evidence for the existence of atoms and molecules, convincing skeptics of atomic theory.\\n\\n### 3. Special Theory of Relativity\\nPerhaps his most famous contribution, special relativity introduced the concept that space and time are interwoven into spacetime, and that the speed of light is constant for all observers. This theory challenged Newton\\'s absolute concepts of space and time.\\n\\n### 4. Mass-Energy Equivalence\\nThe famous equation E=mc² emerged from his work on special relativity, showing that mass and energy are interchangeable.\\n\\n## Academic Career and General Relativity (1905-1915)\\n\\nFollowing his 1905 publications, Einstein gained recognition in the scientific community. He moved through various academic positions:\\n\\n- 1908: Lecturer at the University of Bern\\n- 1909: Professor at the University of Zurich\\n- 1911: Professor at Charles University in Prague\\n- 1912: Professor at ETH Zurich\\n- 1914: Director of the Kaiser Wilhelm Institute for Physics in Berlin\\n\\nDuring this period, Einstein worked on extending his special theory of relativity to include gravity. In 1915, he completed his General Theory of Relativity, which described gravity not as a force, but as a curvature of spacetime caused by mass and energy. This theory made several predictions that were later confirmed experimentally, including the bending of light around massive objects.\\n\\n## International Fame (1915-1933)\\n\\nEinstein\\'s general relativity gained worldwide attention when Sir Arthur Eddington\\'s 1919 solar eclipse expedition confirmed the theory\\'s prediction that light would bend around the sun. Overnight, Einstein became an international celebrity and the face of modern science.\\n\\nDuring this period, Einstein made significant contributions to quantum mechanics, statistical mechanics, and cosmology, though he remained skeptical of quantum mechanics\\' probabilistic interpretation, famously stating \"God does not play dice with the universe.\"\\n\\n## Personal Life\\n\\nEinstein married Mileva Marić in 1903, and they had two sons: Hans Albert and Eduard. The couple also had a daughter, Lieserl, born before their marriage, whose fate remains unknown. Einstein and Mileva divorced in 1919.\\n\\nLater in 1919, Einstein married', mimetype='text/plain', start_char_idx=0, end_char_idx=4824, metadata_seperator='\\n', text_template='{metadata_str}\\n\\n{content}')\n"
     ]
    }
   ],
   "source": [
    "import pprint\n",
    "\n",
    "pprint.pprint(nodes[0], indent=2)"
   ]
  },
  {
   "cell_type": "markdown",
   "id": "1bd6425b",
   "metadata": {},
   "source": [
    "Vector embeddings form the core of dense retrieval in RAG systems, where text nodes are **encoded** into high-dimensional numerical vectors that capture semantic meaning beyond simple keyword matching. LlamaIndex's `VectorStoreIndex` transforms each node into dense vector representations using the configured embedding model, enabling semantic similarity search.\n",
    "\n",
    "> These **dense vectors** (typically 768-1536 dimensions) are populated with *non-zero values representing rich semantic relationships* and contextual understanding. \n",
    "\n",
    "During the <u>retrieval phase</u>, user queries are embedded into the same vector space, *allowing the system to find semantically similar content using **cosine similarity** or other **distance metrics**, even when exact keywords don't match*. \n",
    "\n",
    "The `similarity_top_k` parameter controls how many of the most semantically similar nodes are retrieved for context generation."
   ]
  },
  {
   "cell_type": "code",
   "execution_count": 6,
   "id": "b864ac19",
   "metadata": {},
   "outputs": [
    {
     "name": "stderr",
     "output_type": "stream",
     "text": [
      "2025-09-12 20:21:23,238 - INFO - HTTP Request: POST https://api.openai.com/v1/embeddings \"HTTP/1.1 200 OK\"\n"
     ]
    }
   ],
   "source": [
    "from llama_index.core import VectorStoreIndex\n",
    "\n",
    "\n",
    "index = VectorStoreIndex(nodes)"
   ]
  },
  {
   "cell_type": "markdown",
   "id": "f94eef6c",
   "metadata": {},
   "source": [
    "> The `similarity_top_k` is the  number of most similar chunks or nodes retrieved for a given query.\n",
    "{:.info-box}"
   ]
  },
  {
   "cell_type": "code",
   "execution_count": 7,
   "id": "44c27982",
   "metadata": {},
   "outputs": [],
   "source": [
    "q_engine = index.as_query_engine(similarity_top_k = 5) "
   ]
  },
  {
   "cell_type": "code",
   "execution_count": 8,
   "id": "7a8209d3",
   "metadata": {},
   "outputs": [
    {
     "name": "stderr",
     "output_type": "stream",
     "text": [
      "2025-09-12 20:21:23,746 - INFO - HTTP Request: POST https://api.openai.com/v1/embeddings \"HTTP/1.1 200 OK\"\n",
      "2025-09-12 20:21:26,220 - INFO - HTTP Request: POST https://api.openai.com/v1/chat/completions \"HTTP/1.1 200 OK\"\n"
     ]
    }
   ],
   "source": [
    "response = q_engine.query(\"who are the scientists in these documents?\")"
   ]
  },
  {
   "cell_type": "code",
   "execution_count": 9,
   "id": "0630043d",
   "metadata": {},
   "outputs": [
    {
     "data": {
      "text/markdown": [
       "--- Response -------<br/>The documents mention several scientists, including Albert Einstein, Marie Curie, Paul Langevin, Max Planck, Henri Poincaré, Ernest Rutherford, Hendrik Lorentz, and Niels Bohr.<br/>-------------------"
      ],
      "text/plain": [
       "<IPython.core.display.Markdown object>"
      ]
     },
     "metadata": {},
     "output_type": "display_data"
    }
   ],
   "source": [
    "in_md(response.response)"
   ]
  },
  {
   "cell_type": "code",
   "execution_count": 10,
   "id": "30c69b01",
   "metadata": {},
   "outputs": [
    {
     "data": {
      "text/plain": [
       "5"
      ]
     },
     "execution_count": 10,
     "metadata": {},
     "output_type": "execute_result"
    }
   ],
   "source": [
    "len(response.source_nodes)"
   ]
  },
  {
   "cell_type": "code",
   "execution_count": 11,
   "id": "71fe1e70",
   "metadata": {},
   "outputs": [
    {
     "data": {
      "text/plain": [
       "NodeWithScore(node=TextNode(id_='cd821c26-64cf-4755-98f2-9e831ab0d306', embedding=None, metadata={'file_path': '/Users/ojitha/GitHub/rag_llamaindex/Science_Community/data/AlbertEinstein.txt', 'file_name': 'AlbertEinstein.txt', 'file_type': 'text/plain', 'file_size': 8235, 'creation_date': '2025-09-12', 'last_modified_date': '2025-09-12'}, excluded_embed_metadata_keys=['file_name', 'file_type', 'file_size', 'creation_date', 'last_modified_date', 'last_accessed_date'], excluded_llm_metadata_keys=['file_name', 'file_type', 'file_size', 'creation_date', 'last_modified_date', 'last_accessed_date'], relationships={<NodeRelationship.SOURCE: '1'>: RelatedNodeInfo(node_id='2a37d51d-ac93-4091-aad5-06b963941e44', node_type='4', metadata={'file_path': '/Users/ojitha/GitHub/rag_llamaindex/Science_Community/data/AlbertEinstein.txt', 'file_name': 'AlbertEinstein.txt', 'file_type': 'text/plain', 'file_size': 8235, 'creation_date': '2025-09-12', 'last_modified_date': '2025-09-12'}, hash='ebbeab8f1fb4d45db4be9071d503bd1d253736c0a2213119e2ac3946f6f207d0'), <NodeRelationship.NEXT: '3'>: RelatedNodeInfo(node_id='c69ff2bd-5b11-4201-ae2d-2c02163add35', node_type='1', metadata={}, hash='7f6bac3350f6db083a409040284e8883997660c647b36ff4bb89c3fbe9b775f3')}, metadata_template='{key}: {value}', metadata_separator='\\n', text='# Albert Einstein: A Biography\\n\\n## Early Life (1879-1896)\\n\\nAlbert Einstein was born on March 14, 1879, in Ulm, in the Kingdom of Württemberg in the German Empire. His parents were Hermann Einstein, a salesman and engineer, and Pauline Koch Einstein. When Albert was one year old, the family moved to Munich, where his father and uncle founded Elektrotechnische Fabrik J. Einstein & Cie, a company that manufactured electrical equipment.\\n\\nEinstein showed early signs of intellectual curiosity, though contrary to popular myth, he was not a poor student. He excelled in mathematics and physics from a young age. When he was five, his father gave him a compass, and Einstein was fascinated by the invisible forces that moved the needle—an experience he later described as pivotal in developing his scientific curiosity.\\n\\nIn 1894, Einstein\\'s family moved to Italy for business reasons, but Albert remained in Munich to finish his education. However, he left school early and rejoined his family in Italy. He then applied to the Swiss Federal Polytechnic in Zurich but failed the entrance exam, though he scored exceptionally well in mathematics and physics. After completing his secondary education in Switzerland, he was accepted to the Polytechnic in 1896.\\n\\n## Education and Early Career (1896-1905)\\n\\nEinstein studied at the Swiss Federal Polytechnic from 1896 to 1900, where he met Mileva Marić, a fellow physics student who would later become his first wife. After graduating in 1900, Einstein struggled to find academic employment and worked various temporary jobs, including as a tutor and substitute teacher.\\n\\nIn 1902, he secured a position at the Swiss Patent Office in Bern, where he worked as a technical assistant examiner. This job provided him with financial stability and, perhaps more importantly, time to pursue his own scientific research. The work at the patent office also exposed him to practical applications of electromagnetic theory, which influenced his later work.\\n\\nEinstein earned his doctorate from the University of Zurich in 1905 with a dissertation titled \"On a New Determination of Molecular Dimensions.\"\\n\\n## The Miracle Year (1905)\\n\\n1905 became known as Einstein\\'s \"Annus Mirabilis\" (miracle year) because he published four groundbreaking papers that revolutionized physics:\\n\\n### 1. Photoelectric Effect\\nEinstein\\'s paper on the photoelectric effect explained how light could behave as particles (photons), providing crucial evidence for quantum theory. This work earned him the Nobel Prize in Physics in 1921.\\n\\n### 2. Brownian Motion\\nHis explanation of Brownian motion provided empirical evidence for the existence of atoms and molecules, convincing skeptics of atomic theory.\\n\\n### 3. Special Theory of Relativity\\nPerhaps his most famous contribution, special relativity introduced the concept that space and time are interwoven into spacetime, and that the speed of light is constant for all observers. This theory challenged Newton\\'s absolute concepts of space and time.\\n\\n### 4. Mass-Energy Equivalence\\nThe famous equation E=mc² emerged from his work on special relativity, showing that mass and energy are interchangeable.\\n\\n## Academic Career and General Relativity (1905-1915)\\n\\nFollowing his 1905 publications, Einstein gained recognition in the scientific community. He moved through various academic positions:\\n\\n- 1908: Lecturer at the University of Bern\\n- 1909: Professor at the University of Zurich\\n- 1911: Professor at Charles University in Prague\\n- 1912: Professor at ETH Zurich\\n- 1914: Director of the Kaiser Wilhelm Institute for Physics in Berlin\\n\\nDuring this period, Einstein worked on extending his special theory of relativity to include gravity. In 1915, he completed his General Theory of Relativity, which described gravity not as a force, but as a curvature of spacetime caused by mass and energy. This theory made several predictions that were later confirmed experimentally, including the bending of light around massive objects.\\n\\n## International Fame (1915-1933)\\n\\nEinstein\\'s general relativity gained worldwide attention when Sir Arthur Eddington\\'s 1919 solar eclipse expedition confirmed the theory\\'s prediction that light would bend around the sun. Overnight, Einstein became an international celebrity and the face of modern science.\\n\\nDuring this period, Einstein made significant contributions to quantum mechanics, statistical mechanics, and cosmology, though he remained skeptical of quantum mechanics\\' probabilistic interpretation, famously stating \"God does not play dice with the universe.\"\\n\\n## Personal Life\\n\\nEinstein married Mileva Marić in 1903, and they had two sons: Hans Albert and Eduard. The couple also had a daughter, Lieserl, born before their marriage, whose fate remains unknown. Einstein and Mileva divorced in 1919.\\n\\nLater in 1919, Einstein married', mimetype='text/plain', start_char_idx=0, end_char_idx=4824, metadata_seperator='\\n', text_template='{metadata_str}\\n\\n{content}'), score=0.7521222064033365)"
      ]
     },
     "execution_count": 11,
     "metadata": {},
     "output_type": "execute_result"
    }
   ],
   "source": [
    "response.source_nodes[4]"
   ]
  },
  {
   "cell_type": "markdown",
   "id": "712562df",
   "metadata": {},
   "source": [
    "### Summarization\n",
    "\n",
    "LlamaIndex's `SummaryIndex` provides an alternative indexing approach optimized for generating comprehensive summaries rather than precise retrieval. Unlike `VectorStoreIndex` which uses semantic similarity for selective retrieval, SummaryIndex processes all nodes sequentially to create holistic responses. \n",
    "\n",
    "> This index type is particularly effective for document summarization tasks where you need to synthesize information from multiple sources rather than finding specific facts. \n",
    "\n",
    "The `SummaryIndex` leverages the LLM's context window to process large amounts of text systematically, making it ideal for generating executive summaries, research overviews, or comprehensive analyses of entire document collections."
   ]
  },
  {
   "cell_type": "code",
   "execution_count": 12,
   "id": "385a0c4d",
   "metadata": {},
   "outputs": [],
   "source": [
    "from llama_index.core import SummaryIndex\n",
    "\n",
    "\n",
    "summary_index = SummaryIndex(nodes)\n",
    "s_engine = summary_index.as_query_engine()"
   ]
  },
  {
   "cell_type": "code",
   "execution_count": 13,
   "id": "344d0fa0",
   "metadata": {},
   "outputs": [
    {
     "name": "stderr",
     "output_type": "stream",
     "text": [
      "2025-09-12 20:21:29,052 - INFO - HTTP Request: POST https://api.openai.com/v1/chat/completions \"HTTP/1.1 200 OK\"\n"
     ]
    }
   ],
   "source": [
    "summary = s_engine.query(\"Povide the summary\")"
   ]
  },
  {
   "cell_type": "code",
   "execution_count": 14,
   "id": "d4287d31",
   "metadata": {},
   "outputs": [
    {
     "data": {
      "text/markdown": [
       "--- Response -------<br/>Albert Einstein and Marie Curie, two of the most influential scientists of the early 20th century, first met at the 1911 Solvay Conference in Brussels. Despite the personal challenges they faced—Curie with a scandal in the French press and Einstein as a Jewish outsider—they formed a mutual respect and friendship. Their initial meeting was marked by deep conversations about their groundbreaking work in physics, with Einstein admiring Curie's dedication to isolating radium and Curie intrigued by Einstein's theory of relativity. This meeting laid the foundation for a lasting intellectual partnership, characterized by shared scientific interests and personal understanding.<br/>-------------------"
      ],
      "text/plain": [
       "<IPython.core.display.Markdown object>"
      ]
     },
     "metadata": {},
     "output_type": "display_data"
    }
   ],
   "source": [
    "in_md(summary.response)"
   ]
  },
  {
   "cell_type": "markdown",
   "id": "5dbb78ab",
   "metadata": {},
   "source": [
    "## Chat Engines\n",
    "Using LlamaIndex, you can\n",
    "- Q&A\n",
    "- Summarise\n",
    "- Chat Engines\n",
    "    1. Condense Question\n",
    "    2. Context Question \n",
    "    3. Condense+Context Question\n",
    "\n",
    "I am using the same question test to compare the differences of thes 3 chat engines:\n",
    "\n",
    "- who are the scientists in these documents?\n",
    "- Have these scientist met in their lifetime?\n",
    "- what are the topics they discussed?\n",
    "- what are the other topics they discussed?\n",
    "- Which physicist who had a romantic relationship with Marie Curie?\n",
    "- what happen after that?\n",
    "- what happen after that?\n",
    "\n",
    "The dataset is in the `data` folder.\n"
   ]
  },
  {
   "cell_type": "markdown",
   "id": "e85aa487",
   "metadata": {},
   "source": [
    "### Condense Question Chat Engine\n",
    "\n",
    ">The Condense Question chat engine implements a <span>stateless conversational RAG pattern</span>{:gtxt} that transforms multi-turn conversations into standalone queries.\n",
    "{:.info-box}\n",
    "\n",
    "This architecture addresses the challenge of maintaining conversation context by condensing the entire chat history and current question into a single, comprehensive query before performing retrieval. \n",
    "\n",
    "The engine first analyzes the conversation thread to understand contextual references, then reformulates the current question to be self-contained, including all necessary context from previous exchanges. \n",
    "\n",
    "This approach *ensures that each retrieval operation has complete context without requiring complex memory management*, making it <span>ideal for scenarios where conversation history needs to inform the current response</span>{:gtxt} while maintaining simplicity in the RAG pipeline.\n",
    "\n",
    "Chat query is inhanced by the chat engine as shwon in the following conversation. You can find this enhanced query as `Querying with: ...`."
   ]
  },
  {
   "cell_type": "code",
   "execution_count": 15,
   "id": "44114419",
   "metadata": {},
   "outputs": [],
   "source": [
    "cq_c_engine = index.as_chat_engine(\"condense_question\", verbose=True)"
   ]
  },
  {
   "cell_type": "code",
   "execution_count": 16,
   "id": "ad726380",
   "metadata": {},
   "outputs": [
    {
     "name": "stderr",
     "output_type": "stream",
     "text": [
      "2025-09-12 20:21:29,089 - INFO - Querying with: who are the scientists in these documents?\n"
     ]
    },
    {
     "name": "stdout",
     "output_type": "stream",
     "text": [
      "Querying with: who are the scientists in these documents?\n"
     ]
    },
    {
     "name": "stderr",
     "output_type": "stream",
     "text": [
      "2025-09-12 20:21:29,925 - INFO - HTTP Request: POST https://api.openai.com/v1/embeddings \"HTTP/1.1 200 OK\"\n",
      "2025-09-12 20:21:32,280 - INFO - HTTP Request: POST https://api.openai.com/v1/chat/completions \"HTTP/1.1 200 OK\"\n"
     ]
    }
   ],
   "source": [
    "cq_c_response = cq_c_engine.chat(\"who are the scientists in these documents?\")"
   ]
  },
  {
   "cell_type": "code",
   "execution_count": 17,
   "id": "d39e71da",
   "metadata": {},
   "outputs": [
    {
     "data": {
      "text/markdown": [
       "--- Response -------<br/>The scientists mentioned in the documents include Albert Einstein, Marie Curie, Paul Langevin, Max Planck, Henri Poincaré, Ernest Rutherford, Hendrik Lorentz, and Niels Bohr. Additionally, the 1911 First Solvay Conference attendees listed are Walther Nernst, Marcel Brillouin, Ernest Solvay, Emil Warburg, Jean Baptiste Perrin, Wilhelm Wien, Robert Goldschmidt, Heinrich Rubens, Arnold Sommerfeld, Frederick Lindemann, Maurice de Broglie, Martin Knudsen, Friedrich Hasenöhrl, Georges Hostelet, Edouard Herzen, James Hopwood Jeans, and Heike Kamerlingh Onnes.<br/>-------------------"
      ],
      "text/plain": [
       "<IPython.core.display.Markdown object>"
      ]
     },
     "metadata": {},
     "output_type": "display_data"
    }
   ],
   "source": [
    "in_md(cq_c_response.response)"
   ]
  },
  {
   "cell_type": "code",
   "execution_count": 18,
   "id": "28ce0c1b",
   "metadata": {},
   "outputs": [
    {
     "name": "stderr",
     "output_type": "stream",
     "text": [
      "2025-09-12 20:21:33,682 - INFO - HTTP Request: POST https://api.openai.com/v1/chat/completions \"HTTP/1.1 200 OK\"\n",
      "2025-09-12 20:21:33,684 - INFO - Querying with: Did the scientists mentioned, such as Albert Einstein, Marie Curie, and the attendees of the 1911 First Solvay Conference, meet each other during their lifetimes?\n"
     ]
    },
    {
     "name": "stdout",
     "output_type": "stream",
     "text": [
      "Querying with: Did the scientists mentioned, such as Albert Einstein, Marie Curie, and the attendees of the 1911 First Solvay Conference, meet each other during their lifetimes?\n"
     ]
    },
    {
     "name": "stderr",
     "output_type": "stream",
     "text": [
      "2025-09-12 20:21:33,989 - INFO - HTTP Request: POST https://api.openai.com/v1/embeddings \"HTTP/1.1 200 OK\"\n",
      "2025-09-12 20:21:35,729 - INFO - HTTP Request: POST https://api.openai.com/v1/chat/completions \"HTTP/1.1 200 OK\"\n"
     ]
    }
   ],
   "source": [
    "cq_c_response = cq_c_engine.chat(\"Have these scientist met in their lifetime?\")"
   ]
  },
  {
   "cell_type": "code",
   "execution_count": 19,
   "id": "a3866605",
   "metadata": {},
   "outputs": [
    {
     "data": {
      "text/markdown": [
       "--- Response -------<br/>Yes, the scientists mentioned, including Albert Einstein, Marie Curie, and the attendees of the 1911 First Solvay Conference, did meet each other during their lifetimes. They gathered at the Solvay Conferences, which were significant events for discussing advancements in physics and brought together many of the leading scientific minds of the time.<br/>-------------------"
      ],
      "text/plain": [
       "<IPython.core.display.Markdown object>"
      ]
     },
     "metadata": {},
     "output_type": "display_data"
    }
   ],
   "source": [
    "in_md(cq_c_response.response)"
   ]
  },
  {
   "cell_type": "markdown",
   "id": "04f10285",
   "metadata": {},
   "source": [
    "In the document `Components/data/AlbertEinstein.txt` has been mentioned this meeting."
   ]
  },
  {
   "cell_type": "code",
   "execution_count": 20,
   "id": "7cc8f5cb",
   "metadata": {},
   "outputs": [
    {
     "name": "stderr",
     "output_type": "stream",
     "text": [
      "2025-09-12 20:21:37,061 - INFO - HTTP Request: POST https://api.openai.com/v1/chat/completions \"HTTP/1.1 200 OK\"\n",
      "2025-09-12 20:21:37,064 - INFO - Querying with: What topics were discussed by the scientists, including Albert Einstein, Marie Curie, and the attendees of the 1911 First Solvay Conference, when they met during their lifetimes?\n"
     ]
    },
    {
     "name": "stdout",
     "output_type": "stream",
     "text": [
      "Querying with: What topics were discussed by the scientists, including Albert Einstein, Marie Curie, and the attendees of the 1911 First Solvay Conference, when they met during their lifetimes?\n"
     ]
    },
    {
     "name": "stderr",
     "output_type": "stream",
     "text": [
      "2025-09-12 20:21:37,367 - INFO - HTTP Request: POST https://api.openai.com/v1/embeddings \"HTTP/1.1 200 OK\"\n",
      "2025-09-12 20:21:40,329 - INFO - HTTP Request: POST https://api.openai.com/v1/chat/completions \"HTTP/1.1 200 OK\"\n"
     ]
    }
   ],
   "source": [
    "cq_c_response = cq_c_engine.chat(\"what are the topics they discussed?\")"
   ]
  },
  {
   "cell_type": "code",
   "execution_count": 21,
   "id": "ab85669d",
   "metadata": {},
   "outputs": [
    {
     "data": {
      "text/markdown": [
       "--- Response -------<br/>During the 1911 First Solvay Conference, the scientists, including Albert Einstein, Marie Curie, and other attendees, primarily discussed the revolutionary concept of quantum theory. This gathering of prominent physicists focused on the latest developments and challenges in understanding quantum mechanics, an area that was rapidly reshaping the scientific landscape at the time. Additionally, Einstein and Curie engaged in discussions about the implications of their respective work, such as the behavior of radioactive decay in curved spacetime, reflecting their deep interest in the intersection of their scientific pursuits.<br/>-------------------"
      ],
      "text/plain": [
       "<IPython.core.display.Markdown object>"
      ]
     },
     "metadata": {},
     "output_type": "display_data"
    }
   ],
   "source": [
    "in_md(cq_c_response.response)"
   ]
  },
  {
   "cell_type": "code",
   "execution_count": 22,
   "id": "3189fa27",
   "metadata": {},
   "outputs": [
    {
     "name": "stderr",
     "output_type": "stream",
     "text": [
      "2025-09-12 20:21:42,288 - INFO - HTTP Request: POST https://api.openai.com/v1/chat/completions \"HTTP/1.1 200 OK\"\n",
      "2025-09-12 20:21:42,297 - INFO - Querying with: What other topics, besides quantum theory and the implications of Einstein's and Curie's work, did the scientists discuss at the 1911 First Solvay Conference?\n"
     ]
    },
    {
     "name": "stdout",
     "output_type": "stream",
     "text": [
      "Querying with: What other topics, besides quantum theory and the implications of Einstein's and Curie's work, did the scientists discuss at the 1911 First Solvay Conference?\n"
     ]
    },
    {
     "name": "stderr",
     "output_type": "stream",
     "text": [
      "2025-09-12 20:21:42,618 - INFO - HTTP Request: POST https://api.openai.com/v1/embeddings \"HTTP/1.1 200 OK\"\n",
      "2025-09-12 20:21:44,043 - INFO - HTTP Request: POST https://api.openai.com/v1/chat/completions \"HTTP/1.1 200 OK\"\n"
     ]
    }
   ],
   "source": [
    "cq_c_response = cq_c_engine.chat(\"what are the other topics they discussed?\")"
   ]
  },
  {
   "cell_type": "code",
   "execution_count": 23,
   "id": "347d43f0",
   "metadata": {},
   "outputs": [
    {
     "data": {
      "text/markdown": [
       "--- Response -------<br/>At the 1911 First Solvay Conference, besides quantum theory and the implications of Einstein's and Curie's work, the scientists also discussed their shared concerns about the growing tensions in Europe. Additionally, they likely engaged in conversations about their experiences as outsiders in the scientific community, given the challenges both faced—Curie as a woman and Einstein as a Jew.<br/>-------------------"
      ],
      "text/plain": [
       "<IPython.core.display.Markdown object>"
      ]
     },
     "metadata": {},
     "output_type": "display_data"
    }
   ],
   "source": [
    "in_md(cq_c_response.response)"
   ]
  },
  {
   "cell_type": "code",
   "execution_count": 24,
   "id": "54596f6e",
   "metadata": {},
   "outputs": [
    {
     "name": "stderr",
     "output_type": "stream",
     "text": [
      "2025-09-12 20:21:45,725 - INFO - HTTP Request: POST https://api.openai.com/v1/chat/completions \"HTTP/1.1 200 OK\"\n",
      "2025-09-12 20:21:45,727 - INFO - Querying with: What are the most significant events or developments that occurred among the scientists who attended the 1911 First Solvay Conference, including Albert Einstein and Marie Curie?\n"
     ]
    },
    {
     "name": "stdout",
     "output_type": "stream",
     "text": [
      "Querying with: What are the most significant events or developments that occurred among the scientists who attended the 1911 First Solvay Conference, including Albert Einstein and Marie Curie?\n"
     ]
    },
    {
     "name": "stderr",
     "output_type": "stream",
     "text": [
      "2025-09-12 20:21:46,093 - INFO - HTTP Request: POST https://api.openai.com/v1/embeddings \"HTTP/1.1 200 OK\"\n",
      "2025-09-12 20:21:53,045 - INFO - HTTP Request: POST https://api.openai.com/v1/chat/completions \"HTTP/1.1 200 OK\"\n"
     ]
    }
   ],
   "source": [
    "cq_c_response = cq_c_engine.chat(\"What are the most significant things that have happened among them?\")"
   ]
  },
  {
   "cell_type": "code",
   "execution_count": 25,
   "id": "70b5b4c7",
   "metadata": {},
   "outputs": [
    {
     "data": {
      "text/markdown": [
       "--- Response -------<br/>The 1911 First Solvay Conference was a pivotal event in the history of physics, bringing together many of the greatest scientific minds of the time to discuss quantum theory. Among the significant developments and interactions:\n",
       "\n",
       "1. **Quantum Theory Discussions**: The conference was primarily focused on the revolutionary concept of quantum theory, which was still in its early stages of development. This gathering allowed for the exchange of ideas that would shape the future of physics.\n",
       "\n",
       "2. **Marie Curie and Albert Einstein's Interaction**: A notable event was the meeting between Marie Curie and Albert Einstein. They engaged in deep discussions about their work, with Curie expressing interest in how radioactive decay might behave in Einstein's curved spacetime.\n",
       "\n",
       "3. **Mutual Support and Respect**: Einstein expressed his admiration for Curie's work and offered support during a time when she was facing personal scandal. Their mutual respect and understanding of each other's challenges as outsiders in the scientific community were significant.\n",
       "\n",
       "4. **Networking and Collaboration**: The conference provided an opportunity for scientists like Max Planck, Henri Poincaré, Ernest Rutherford, and Hendrik Lorentz to interact and collaborate, fostering relationships that would lead to further scientific advancements.\n",
       "\n",
       "5. **Influence on Future Conferences**: The success and impact of the 1911 conference set the stage for future Solvay Conferences, which continued to be a major forum for discussing groundbreaking scientific ideas.\n",
       "\n",
       "These interactions and discussions at the conference played a crucial role in advancing the understanding of quantum mechanics and relativity, influencing the direction of 20th-century physics.<br/>-------------------"
      ],
      "text/plain": [
       "<IPython.core.display.Markdown object>"
      ]
     },
     "metadata": {},
     "output_type": "display_data"
    }
   ],
   "source": [
    "in_md(cq_c_response.response) "
   ]
  },
  {
   "cell_type": "code",
   "execution_count": 26,
   "id": "1e4574f5",
   "metadata": {},
   "outputs": [
    {
     "name": "stderr",
     "output_type": "stream",
     "text": [
      "2025-09-12 20:21:54,563 - INFO - HTTP Request: POST https://api.openai.com/v1/chat/completions \"HTTP/1.1 200 OK\"\n",
      "2025-09-12 20:21:54,569 - INFO - Querying with: What significant events or developments occurred following the 1911 First Solvay Conference, particularly in relation to the scientists who attended and the discussions they had on quantum theory and other topics?\n"
     ]
    },
    {
     "name": "stdout",
     "output_type": "stream",
     "text": [
      "Querying with: What significant events or developments occurred following the 1911 First Solvay Conference, particularly in relation to the scientists who attended and the discussions they had on quantum theory and other topics?\n"
     ]
    },
    {
     "name": "stderr",
     "output_type": "stream",
     "text": [
      "2025-09-12 20:21:54,916 - INFO - HTTP Request: POST https://api.openai.com/v1/embeddings \"HTTP/1.1 200 OK\"\n",
      "2025-09-12 20:22:00,221 - INFO - HTTP Request: POST https://api.openai.com/v1/chat/completions \"HTTP/1.1 200 OK\"\n"
     ]
    }
   ],
   "source": [
    "cq_c_response = cq_c_engine.chat(\"what happen after that?\")"
   ]
  },
  {
   "cell_type": "code",
   "execution_count": 27,
   "id": "9699618f",
   "metadata": {},
   "outputs": [
    {
     "data": {
      "text/markdown": [
       "--- Response -------<br/>Following the 1911 First Solvay Conference, significant developments occurred in the realm of quantum theory and other scientific areas. The conference itself was a pivotal moment for the discussion of quantum theory, bringing together key figures like Marie Curie, Albert Einstein, Max Planck, and others who were instrumental in advancing the field. After the conference, these scientists continued to develop their groundbreaking theories and research.\n",
       "\n",
       "Albert Einstein further developed his theories on relativity, which continued to reshape the understanding of space and time. Max Planck's work on energy quanta laid the foundation for future quantum mechanics developments. The interactions and debates among these scientists, particularly between Einstein and Niels Bohr in later conferences, further propelled the exploration and understanding of quantum mechanics.\n",
       "\n",
       "Marie Curie continued her pioneering research on radioactivity, contributing significantly to the field and maintaining her status as a leading scientist despite personal challenges. The conference also fostered collaborations and mutual respect among the attendees, which influenced their subsequent scientific endeavors and the broader scientific community.<br/>-------------------"
      ],
      "text/plain": [
       "<IPython.core.display.Markdown object>"
      ]
     },
     "metadata": {},
     "output_type": "display_data"
    }
   ],
   "source": [
    "in_md(cq_c_response.response) "
   ]
  },
  {
   "cell_type": "code",
   "execution_count": 28,
   "id": "db5e350d",
   "metadata": {},
   "outputs": [
    {
     "name": "stderr",
     "output_type": "stream",
     "text": [
      "2025-09-12 20:22:01,518 - INFO - HTTP Request: POST https://api.openai.com/v1/chat/completions \"HTTP/1.1 200 OK\"\n",
      "2025-09-12 20:22:01,522 - INFO - Querying with: What significant developments and events occurred in the field of physics and among the scientists, such as Albert Einstein, Marie Curie, and others, following the 1911 First Solvay Conference?\n"
     ]
    },
    {
     "name": "stdout",
     "output_type": "stream",
     "text": [
      "Querying with: What significant developments and events occurred in the field of physics and among the scientists, such as Albert Einstein, Marie Curie, and others, following the 1911 First Solvay Conference?\n"
     ]
    },
    {
     "name": "stderr",
     "output_type": "stream",
     "text": [
      "2025-09-12 20:22:01,989 - INFO - HTTP Request: POST https://api.openai.com/v1/embeddings \"HTTP/1.1 200 OK\"\n",
      "2025-09-12 20:22:07,268 - INFO - HTTP Request: POST https://api.openai.com/v1/chat/completions \"HTTP/1.1 200 OK\"\n"
     ]
    }
   ],
   "source": [
    "cq_c_response = cq_c_engine.chat(\"what happen after that?\")"
   ]
  },
  {
   "cell_type": "code",
   "execution_count": 29,
   "id": "f51d7576",
   "metadata": {},
   "outputs": [
    {
     "data": {
      "text/markdown": [
       "--- Response -------<br/>Following the 1911 First Solvay Conference, several significant developments and events occurred in the field of physics and among the scientists who attended. Albert Einstein continued to develop his theories, leading to the publication of the general theory of relativity in 1915, which fundamentally changed our understanding of gravity. Marie Curie persisted in her pioneering work on radioactivity, furthering research that would have lasting impacts on both science and medicine.\n",
       "\n",
       "The Solvay Conferences continued to be a crucial meeting ground for physicists, fostering discussions that would shape the future of quantum mechanics and relativity. Scientists like Max Planck, who had already made significant contributions to quantum theory, continued to influence the field, while figures like Niels Bohr engaged in pivotal debates with Einstein about the nature of quantum mechanics.\n",
       "\n",
       "The scientific community also faced challenges due to the political tensions in Europe, which affected collaborations and the movement of scientists. Despite these challenges, the relationships and exchanges fostered at events like the Solvay Conferences played a vital role in advancing scientific knowledge during this period.<br/>-------------------"
      ],
      "text/plain": [
       "<IPython.core.display.Markdown object>"
      ]
     },
     "metadata": {},
     "output_type": "display_data"
    }
   ],
   "source": [
    "in_md(cq_c_response.response) "
   ]
  },
  {
   "cell_type": "markdown",
   "id": "404df6d2",
   "metadata": {},
   "source": [
    "### Context Chat Engine\n",
    "\n",
    "> The Context chat engine leverages explicit memory management through `ChatMemoryBuffer` to maintain conversational state across multiple interactions.\n",
    "{:.info-box} \n",
    "\n",
    "This architecture retrieves relevant context based on the current query while preserving conversation history up to a specified token limit (3900 tokens in this example). \n",
    "\n",
    "The engine combines retrieved documents with chat memory, allowing it to reference previous exchanges while grounding responses in the knowledge base. The `system_prompt` provides domain-specific context that influences how the LLM interprets and responds to queries, making this approach particularly effective for specialized applications where conversation continuity and expert knowledge synthesis are essential for maintaining coherent multi-turn interactions."
   ]
  },
  {
   "cell_type": "code",
   "execution_count": 30,
   "id": "27715d95",
   "metadata": {},
   "outputs": [],
   "source": [
    "from llama_index.core.memory import ChatMemoryBuffer\n",
    "\n",
    "\n",
    "memory = ChatMemoryBuffer.from_defaults(token_limit=3900)\n",
    "ctx_c_engine = index.as_chat_engine(\n",
    "    chat_mode=\"context\"\n",
    "    , memory=memory\n",
    "    , system_prompt = (\n",
    "        \"You are familiar with biographies of Albert and Marie, as well as their professional and social friendships and relationships.\"\n",
    "    ))"
   ]
  },
  {
   "cell_type": "code",
   "execution_count": 31,
   "id": "ae60ec2a",
   "metadata": {},
   "outputs": [
    {
     "name": "stderr",
     "output_type": "stream",
     "text": [
      "2025-09-12 20:22:07,676 - INFO - HTTP Request: POST https://api.openai.com/v1/embeddings \"HTTP/1.1 200 OK\"\n",
      "2025-09-12 20:22:11,057 - INFO - HTTP Request: POST https://api.openai.com/v1/chat/completions \"HTTP/1.1 200 OK\"\n"
     ]
    }
   ],
   "source": [
    "ctx_c_response = ctx_c_engine.chat(\"who are the scientists in these documents?\")"
   ]
  },
  {
   "cell_type": "code",
   "execution_count": 32,
   "id": "f4d7698b",
   "metadata": {},
   "outputs": [
    {
     "data": {
      "text/markdown": [
       "--- Response -------<br/>The documents mention several prominent scientists who were part of the early 20th-century scientific community, particularly those who attended the Solvay Conferences. Here are the scientists mentioned:\n",
       "\n",
       "1. Albert Einstein\n",
       "2. Marie Curie\n",
       "3. Paul Langevin\n",
       "4. Max Planck\n",
       "5. Henri Poincaré\n",
       "6. Ernest Rutherford\n",
       "7. Hendrik Lorentz\n",
       "8. Niels Bohr\n",
       "9. Walther Nernst\n",
       "10. Marcel Brillouin\n",
       "11. Ernest Solvay\n",
       "12. Emil Warburg\n",
       "13. Jean Baptiste Perrin\n",
       "14. Wilhelm Wien\n",
       "15. Robert Goldschmidt\n",
       "16. Heinrich Rubens\n",
       "17. Arnold Sommerfeld\n",
       "18. Frederick Lindemann\n",
       "19. Maurice de Broglie\n",
       "20. Martin Knudsen\n",
       "21. Friedrich Hasenöhrl\n",
       "22. Georges Hostelet\n",
       "23. Edouard Herzen\n",
       "24. James Hopwood Jeans\n",
       "25. Heike Kamerlingh Onnes\n",
       "\n",
       "These scientists were part of a closely-knit community working on cutting-edge physics and often met at the Solvay Conferences to discuss significant scientific advancements, particularly in the field of quantum mechanics and relativity.<br/>-------------------"
      ],
      "text/plain": [
       "<IPython.core.display.Markdown object>"
      ]
     },
     "metadata": {},
     "output_type": "display_data"
    }
   ],
   "source": [
    "in_md(ctx_c_response.response)"
   ]
  },
  {
   "cell_type": "code",
   "execution_count": 33,
   "id": "181b1eeb",
   "metadata": {},
   "outputs": [
    {
     "name": "stderr",
     "output_type": "stream",
     "text": [
      "2025-09-12 20:22:11,669 - INFO - HTTP Request: POST https://api.openai.com/v1/embeddings \"HTTP/1.1 200 OK\"\n",
      "2025-09-12 20:22:19,349 - INFO - HTTP Request: POST https://api.openai.com/v1/chat/completions \"HTTP/1.1 200 OK\"\n"
     ]
    }
   ],
   "source": [
    "ctx_c_response = ctx_c_engine.chat(\"Have these scientist met in their lifetime?\")"
   ]
  },
  {
   "cell_type": "code",
   "execution_count": 34,
   "id": "5844ca36",
   "metadata": {},
   "outputs": [
    {
     "data": {
      "text/markdown": [
       "--- Response -------<br/>Yes, many of these scientists met in their lifetime, particularly at the Solvay Conferences, which were pivotal gatherings for discussing advancements in physics. The Solvay Conferences, starting in 1911, served as a primary meeting ground for these scientists. For example:\n",
       "\n",
       "- Albert Einstein and Marie Curie attended multiple Solvay Conferences together, including the first one in 1911 and the famous fifth conference in 1927.\n",
       "- Paul Langevin, Max Planck, Henri Poincaré, Ernest Rutherford, and Hendrik Lorentz were also present at the 1911 Solvay Conference.\n",
       "- Niels Bohr attended later Solvay Conferences, including the 1927 conference, where he engaged in famous debates with Einstein about quantum mechanics.\n",
       "\n",
       "These conferences brought together many of the leading scientists of the time, allowing them to collaborate, debate, and advance the field of physics collectively.<br/>-------------------"
      ],
      "text/plain": [
       "<IPython.core.display.Markdown object>"
      ]
     },
     "metadata": {},
     "output_type": "display_data"
    }
   ],
   "source": [
    "in_md(ctx_c_response.response)"
   ]
  },
  {
   "cell_type": "code",
   "execution_count": 35,
   "id": "e2b4e55b",
   "metadata": {},
   "outputs": [
    {
     "name": "stderr",
     "output_type": "stream",
     "text": [
      "2025-09-12 20:22:19,720 - INFO - HTTP Request: POST https://api.openai.com/v1/embeddings \"HTTP/1.1 200 OK\"\n",
      "2025-09-12 20:22:26,312 - INFO - HTTP Request: POST https://api.openai.com/v1/chat/completions \"HTTP/1.1 200 OK\"\n"
     ]
    }
   ],
   "source": [
    "ctx_c_response = ctx_c_engine.chat(\"what are the topics they discussed?\")"
   ]
  },
  {
   "cell_type": "code",
   "execution_count": 36,
   "id": "63cb1d7f",
   "metadata": {},
   "outputs": [
    {
     "data": {
      "text/markdown": [
       "--- Response -------<br/>The scientists at the Solvay Conferences discussed several groundbreaking topics in physics, particularly focusing on quantum theory and relativity. Here are some of the key topics they explored:\n",
       "\n",
       "1. **Quantum Theory:** The early Solvay Conferences, starting with the first one in 1911, were pivotal in discussing the emerging field of quantum mechanics. Scientists debated the nature of atomic and subatomic particles, energy quantization, and the implications of quantum theory on classical physics.\n",
       "\n",
       "2. **Theory of Relativity:** Albert Einstein's theories of special and general relativity were significant topics of discussion. These theories challenged existing notions of space, time, and gravity, leading to profound implications for physics.\n",
       "\n",
       "3. **Radioactivity:** Marie Curie's work on radioactivity was a crucial subject, as it opened new realms in understanding atomic structure and nuclear physics.\n",
       "\n",
       "4. **Atomic Structure:** Discussions on the structure of the atom, including models proposed by scientists like Niels Bohr, were central to these conferences.\n",
       "\n",
       "5. **Wave-Particle Duality:** The dual nature of light and matter, exhibiting both wave-like and particle-like properties, was a topic of intense debate, particularly between Einstein and Bohr.\n",
       "\n",
       "6. **Statistical Mechanics and Thermodynamics:** These areas were explored to understand the behavior of systems at the atomic level, contributing to the development of statistical physics.\n",
       "\n",
       "7. **Philosophical Implications of Physics:** The conferences also delved into the philosophical questions raised by new physical theories, such as determinism, causality, and the nature of reality.\n",
       "\n",
       "These discussions were instrumental in shaping modern physics, as they brought together the leading minds to collaborate and challenge each other's ideas, leading to significant advancements in the field.<br/>-------------------"
      ],
      "text/plain": [
       "<IPython.core.display.Markdown object>"
      ]
     },
     "metadata": {},
     "output_type": "display_data"
    }
   ],
   "source": [
    "in_md(ctx_c_response.response)"
   ]
  },
  {
   "cell_type": "code",
   "execution_count": 37,
   "id": "2ea51b18",
   "metadata": {},
   "outputs": [
    {
     "name": "stderr",
     "output_type": "stream",
     "text": [
      "2025-09-12 20:22:27,337 - INFO - HTTP Request: POST https://api.openai.com/v1/embeddings \"HTTP/1.1 200 OK\"\n",
      "2025-09-12 20:22:33,928 - INFO - HTTP Request: POST https://api.openai.com/v1/chat/completions \"HTTP/1.1 200 OK\"\n"
     ]
    }
   ],
   "source": [
    "ctx_c_response = ctx_c_engine.chat(\"what are the other topics they discussed?\")"
   ]
  },
  {
   "cell_type": "code",
   "execution_count": 38,
   "id": "254e471d",
   "metadata": {},
   "outputs": [
    {
     "data": {
      "text/markdown": [
       "--- Response -------<br/>In addition to the major topics previously mentioned, the scientists at the Solvay Conferences and in their personal interactions likely discussed a variety of other scientific and philosophical topics, including:\n",
       "\n",
       "1. **Electromagnetism:** The integration of electromagnetic theory with quantum mechanics and relativity was a significant area of interest, particularly in understanding light and radiation.\n",
       "\n",
       "2. **Nuclear Physics:** As the understanding of the atomic nucleus developed, discussions likely included nuclear reactions, isotopes, and the forces within the nucleus.\n",
       "\n",
       "3. **Chemical Physics:** The intersection of chemistry and physics, particularly in understanding molecular structures and reactions, was an area of exploration, especially relevant to Marie Curie's work on radioactivity.\n",
       "\n",
       "4. **Experimental Techniques:** Advances in experimental methods and instrumentation for studying atomic and subatomic phenomena were crucial for validating theoretical predictions.\n",
       "\n",
       "5. **Mathematical Physics:** The development of mathematical tools and frameworks to describe physical phenomena, including tensor calculus and group theory, was essential for advancing theories like relativity and quantum mechanics.\n",
       "\n",
       "6. **Philosophy of Science:** Broader philosophical discussions about the nature of scientific inquiry, the role of observation and theory, and the limits of scientific knowledge were likely part of their conversations.\n",
       "\n",
       "7. **Social and Political Issues:** Given the historical context, they may have discussed the impact of political events on scientific collaboration, funding, and the movement of scientists across borders.\n",
       "\n",
       "These topics reflect the broad and interdisciplinary nature of the discussions among these pioneering scientists, as they sought to understand and explain the fundamental principles governing the natural world.<br/>-------------------"
      ],
      "text/plain": [
       "<IPython.core.display.Markdown object>"
      ]
     },
     "metadata": {},
     "output_type": "display_data"
    }
   ],
   "source": [
    "in_md(ctx_c_response.response)    "
   ]
  },
  {
   "cell_type": "code",
   "execution_count": 39,
   "id": "f0cf24a5",
   "metadata": {},
   "outputs": [
    {
     "name": "stderr",
     "output_type": "stream",
     "text": [
      "2025-09-12 20:22:34,452 - INFO - HTTP Request: POST https://api.openai.com/v1/embeddings \"HTTP/1.1 200 OK\"\n",
      "2025-09-12 20:22:48,844 - INFO - HTTP Request: POST https://api.openai.com/v1/chat/completions \"HTTP/1.1 200 OK\"\n"
     ]
    }
   ],
   "source": [
    "ctx_c_response = ctx_c_engine.chat(\"What are the most significant things that have happened among them?\")"
   ]
  },
  {
   "cell_type": "code",
   "execution_count": 40,
   "id": "870beb25",
   "metadata": {},
   "outputs": [
    {
     "data": {
      "text/markdown": [
       "--- Response -------<br/>Several significant events and interactions occurred among these scientists, shaping the course of modern physics and their personal and professional lives. Here are some of the most notable:\n",
       "\n",
       "1. **Solvay Conferences:** The Solvay Conferences themselves were significant events, bringing together the greatest minds in physics to discuss and debate the latest scientific theories and discoveries. The 1927 conference, in particular, is famous for the debates between Albert Einstein and Niels Bohr on the interpretation of quantum mechanics.\n",
       "\n",
       "2. **Einstein and Curie's Friendship:** Albert Einstein and Marie Curie developed a close personal and professional friendship. They exchanged letters discussing scientific ideas and personal matters, and Curie supported Einstein against anti-German sentiment in France.\n",
       "\n",
       "3. **Development of Quantum Mechanics:** The collaboration and debates among these scientists, including figures like Niels Bohr, Werner Heisenberg, and Erwin Schrödinger, were crucial in developing and refining quantum mechanics, a cornerstone of modern physics.\n",
       "\n",
       "4. **Einstein's Theory of Relativity:** Albert Einstein's development of the theories of special and general relativity revolutionized the understanding of space, time, and gravity, influencing many of his contemporaries and future generations of physicists.\n",
       "\n",
       "5. **Marie Curie's Work on Radioactivity:** Marie Curie's pioneering research on radioactivity laid the groundwork for nuclear physics and chemistry, earning her two Nobel Prizes and inspiring many scientists in the field.\n",
       "\n",
       "6. **Einstein's Flight from Nazi Germany:** Einstein's emigration to the United States in 1933, due to the rise of the Nazi regime, was a significant event, impacting his life and career and highlighting the broader challenges faced by scientists during this period.\n",
       "\n",
       "7. **Philosophical Debates:** The philosophical debates, particularly between Einstein and Bohr, about the nature of reality and the interpretation of quantum mechanics, had a lasting impact on the philosophy of science.\n",
       "\n",
       "These events and interactions not only advanced scientific knowledge but also demonstrated the importance of collaboration, debate, and friendship in the scientific community.<br/>-------------------"
      ],
      "text/plain": [
       "<IPython.core.display.Markdown object>"
      ]
     },
     "metadata": {},
     "output_type": "display_data"
    }
   ],
   "source": [
    "in_md(ctx_c_response.response)    "
   ]
  },
  {
   "cell_type": "code",
   "execution_count": 41,
   "id": "08cd3713",
   "metadata": {},
   "outputs": [
    {
     "name": "stderr",
     "output_type": "stream",
     "text": [
      "2025-09-12 20:22:49,292 - INFO - HTTP Request: POST https://api.openai.com/v1/embeddings \"HTTP/1.1 200 OK\"\n",
      "2025-09-12 20:23:01,150 - INFO - HTTP Request: POST https://api.openai.com/v1/chat/completions \"HTTP/1.1 200 OK\"\n"
     ]
    }
   ],
   "source": [
    "ctx_c_response = ctx_c_engine.chat(\"what happen after that?\")"
   ]
  },
  {
   "cell_type": "code",
   "execution_count": 42,
   "id": "d382dd24",
   "metadata": {},
   "outputs": [
    {
     "data": {
      "text/markdown": [
       "--- Response -------<br/>After the significant events and interactions among these scientists, several developments unfolded in both their personal lives and the broader scientific community:\n",
       "\n",
       "1. **Continued Scientific Advancements:** The foundational work laid by these scientists continued to influence and propel advancements in physics. Quantum mechanics and relativity became integral parts of modern physics, leading to new discoveries and technologies.\n",
       "\n",
       "2. **World War II and the Manhattan Project:** The onset of World War II had a profound impact on the scientific community. Many scientists, including some from the Solvay Conferences, were involved in the development of the atomic bomb through the Manhattan Project. Although Einstein was not directly involved in the project, his letter to President Roosevelt urging atomic research was a catalyst for its initiation.\n",
       "\n",
       "3. **Post-War Scientific Collaboration:** After the war, there was a renewed emphasis on international scientific collaboration. Organizations like CERN were established to foster cooperative research in Europe, partly as a response to the wartime disruptions.\n",
       "\n",
       "4. **Einstein's Later Years:** Albert Einstein spent his later years at the Institute for Advanced Study in Princeton, New Jersey, working on a unified field theory, though he was unsuccessful. He remained active in social and political causes, advocating for civil rights and nuclear disarmament until his death in 1955.\n",
       "\n",
       "5. **Legacy of Marie Curie:** Marie Curie's legacy continued through her contributions to science and her family. Her daughter, Irène Joliot-Curie, followed in her footsteps, winning a Nobel Prize in Chemistry in 1935 for her work on artificial radioactivity.\n",
       "\n",
       "6. **Development of New Theories:** The groundwork laid by these scientists paved the way for new theories and discoveries in physics, including the development of quantum field theory and the Standard Model of particle physics.\n",
       "\n",
       "7. **Cultural Impact:** The cultural impact of these scientists, particularly Einstein, continued to grow. Einstein became an enduring symbol of genius and intellectual achievement, influencing both scientific thought and popular culture.\n",
       "\n",
       "These developments highlight the lasting influence of the early 20th-century scientific community on both the scientific world and society at large.<br/>-------------------"
      ],
      "text/plain": [
       "<IPython.core.display.Markdown object>"
      ]
     },
     "metadata": {},
     "output_type": "display_data"
    }
   ],
   "source": [
    "in_md(ctx_c_response.response)    "
   ]
  },
  {
   "cell_type": "code",
   "execution_count": 43,
   "id": "fd3d277b",
   "metadata": {},
   "outputs": [
    {
     "name": "stderr",
     "output_type": "stream",
     "text": [
      "2025-09-12 20:23:01,738 - INFO - HTTP Request: POST https://api.openai.com/v1/embeddings \"HTTP/1.1 200 OK\"\n",
      "2025-09-12 20:23:09,421 - INFO - HTTP Request: POST https://api.openai.com/v1/chat/completions \"HTTP/1.1 200 OK\"\n"
     ]
    }
   ],
   "source": [
    "ctx_c_response = ctx_c_engine.chat(\"what happen after that?\")"
   ]
  },
  {
   "cell_type": "code",
   "execution_count": 44,
   "id": "4f1a8356",
   "metadata": {},
   "outputs": [
    {
     "data": {
      "text/markdown": [
       "--- Response -------<br/>Following the post-war period and the contributions of these scientists, several key developments and trends emerged in the scientific and global landscape:\n",
       "\n",
       "1. **Cold War Era Science:** The Cold War period saw significant scientific advancements driven by competition between the United States and the Soviet Union. This included the space race, leading to milestones like the launch of Sputnik and the Apollo moon landings.\n",
       "\n",
       "2. **Expansion of Physics:** The fields of quantum mechanics and relativity continued to expand, leading to the development of quantum electrodynamics (QED) and later quantum chromodynamics (QCD), which are part of the Standard Model of particle physics.\n",
       "\n",
       "3. **Technological Innovations:** The foundational work in physics contributed to numerous technological innovations, including the development of semiconductors, transistors, and eventually, computers and the internet.\n",
       "\n",
       "4. **Nuclear Energy and Weapons:** The development of nuclear energy for both civilian and military purposes continued to evolve, with ongoing debates about its safety, ethical implications, and environmental impact.\n",
       "\n",
       "5. **Human Rights and Scientific Responsibility:** Influenced by the humanitarian concerns of scientists like Einstein, there was a growing emphasis on the ethical responsibilities of scientists, particularly regarding the use of scientific discoveries for military purposes.\n",
       "\n",
       "6. **Global Scientific Collaboration:** International collaboration in science became more prominent, with organizations like the United Nations Educational, Scientific and Cultural Organization (UNESCO) promoting scientific cooperation across borders.\n",
       "\n",
       "7. **Einstein's Enduring Influence:** Albert Einstein's theories continued to be tested and confirmed, with his work remaining a cornerstone of modern physics. His influence extended beyond science, as he became an icon of intellectual curiosity and humanitarian values.\n",
       "\n",
       "8. **Legacy of the Solvay Conferences:** The tradition of international scientific conferences continued, fostering dialogue and collaboration among scientists worldwide, much like the original Solvay Conferences.\n",
       "\n",
       "These developments reflect the enduring impact of the early 20th-century scientific community on both the progression of science and its integration into broader societal and global contexts.<br/>-------------------"
      ],
      "text/plain": [
       "<IPython.core.display.Markdown object>"
      ]
     },
     "metadata": {},
     "output_type": "display_data"
    }
   ],
   "source": [
    "in_md(ctx_c_response.response)"
   ]
  },
  {
   "cell_type": "markdown",
   "id": "b13f9ead",
   "metadata": {},
   "source": [
    "### Condense Plus Context Chat Engine\n",
    "\n",
    ">The Condense Plus Context chat engine represents a hybrid approach that combines the best features of both condense question and context chat engines. This sophisticated architecture first condenses the conversation history into a standalone question (condense question mode), then retrieves relevant context based on this reformulated query while maintaining conversation memory through `ChatMemoryBuffer`.\n",
    "{:.info-box}\n",
    "\n",
    "This *dual-phase process* ensures optimal retrieval accuracy by creating self-contained queries while preserving conversational continuity through explicit memory management. \n",
    "\n",
    "The `context_prompt` parameter provides domain-specific guidance, while the verbose mode reveals the condensation process, making this approach ideal for complex conversational RAG applications requiring both high retrieval precision and coherent multi-turn dialogue capabilities.\n",
    "\n",
    "> Chat query is inhanced by the chat engine as shwon in the following conversation. You can find this enhanced query as `Querying with: ...`."
   ]
  },
  {
   "cell_type": "code",
   "execution_count": 45,
   "id": "e03f5e9b",
   "metadata": {},
   "outputs": [],
   "source": [
    "from tabnanny import verbose\n",
    "from llama_index.core.memory import ChatMemoryBuffer \n",
    "\n",
    "condenseContext_memory = ChatMemoryBuffer.from_defaults(token_limit=3900)\n",
    "\n",
    "condenseContext_engine = index.as_chat_engine(\n",
    "    chat_mode= \"condense_plus_context\"\n",
    "    ,memory= condenseContext_memory\n",
    "    ,llm = llm\n",
    "    , context_prompt =  \"You are familiar with biographies of Albert and Marie, as well as their professional and social friendships and relationships.\"\n",
    "    , verbose = True\n",
    ")"
   ]
  },
  {
   "cell_type": "code",
   "execution_count": 46,
   "id": "8d8dab92",
   "metadata": {},
   "outputs": [
    {
     "name": "stderr",
     "output_type": "stream",
     "text": [
      "2025-09-12 20:23:09,464 - INFO - Condensed question: who are the scientists in these documents?\n"
     ]
    },
    {
     "name": "stdout",
     "output_type": "stream",
     "text": [
      "Condensed question: who are the scientists in these documents?\n"
     ]
    },
    {
     "name": "stderr",
     "output_type": "stream",
     "text": [
      "2025-09-12 20:23:09,829 - INFO - HTTP Request: POST https://api.openai.com/v1/embeddings \"HTTP/1.1 200 OK\"\n",
      "2025-09-12 20:23:22,937 - INFO - HTTP Request: POST https://api.openai.com/v1/chat/completions \"HTTP/1.1 200 OK\"\n"
     ]
    }
   ],
   "source": [
    "condenseContext_response =condenseContext_engine.chat(\"who are the scientists in these documents?\")"
   ]
  },
  {
   "cell_type": "code",
   "execution_count": 47,
   "id": "2933a286",
   "metadata": {},
   "outputs": [
    {
     "data": {
      "text/markdown": [
       "--- Response -------<br/>To help identify the scientists in the documents, it would be useful to know which documents you are referring to. However, if you are asking about scientists commonly associated with Albert Einstein and Marie Curie, here are a few notable ones:\n",
       "\n",
       "1. **Albert Einstein**:\n",
       "   - **Max Planck**: A physicist known for his work on quantum theory, which Einstein built upon.\n",
       "   - **Niels Bohr**: A physicist who made foundational contributions to understanding atomic structure and quantum theory.\n",
       "   - **Werner Heisenberg**: Known for the development of quantum mechanics and the uncertainty principle.\n",
       "   - **Erwin Schrödinger**: A physicist who developed wave mechanics, one of the formulations of quantum mechanics.\n",
       "   - **Wolfgang Pauli**: Known for the Pauli exclusion principle in quantum physics.\n",
       "   - **Satyendra Nath Bose**: Collaborated with Einstein on Bose-Einstein statistics.\n",
       "\n",
       "2. **Marie Curie**:\n",
       "   - **Henri Becquerel**: Discovered radioactivity, which Curie further investigated.\n",
       "   - **Pierre Curie**: Marie Curie's husband and collaborator in her research on radioactivity.\n",
       "   - **Irène Joliot-Curie**: Marie Curie's daughter, who also won a Nobel Prize in Chemistry.\n",
       "   - **Frédéric Joliot-Curie**: Irène's husband, who collaborated with her on artificial radioactivity.\n",
       "   - **Albert Einstein**: Although primarily associated with physics, Einstein and Curie had mutual respect and were contemporaries.\n",
       "\n",
       "If you have specific documents or contexts in mind, please provide more details for a more tailored response.<br/>-------------------"
      ],
      "text/plain": [
       "<IPython.core.display.Markdown object>"
      ]
     },
     "metadata": {},
     "output_type": "display_data"
    }
   ],
   "source": [
    "in_md(condenseContext_response.response)"
   ]
  },
  {
   "cell_type": "code",
   "execution_count": 48,
   "id": "9f0ac970",
   "metadata": {},
   "outputs": [
    {
     "name": "stderr",
     "output_type": "stream",
     "text": [
      "2025-09-12 20:23:24,663 - INFO - HTTP Request: POST https://api.openai.com/v1/chat/completions \"HTTP/1.1 200 OK\"\n",
      "2025-09-12 20:23:24,672 - INFO - Condensed question: Did the scientists associated with Albert Einstein and Marie Curie, such as Max Planck, Niels Bohr, Werner Heisenberg, Erwin Schrödinger, Wolfgang Pauli, Satyendra Nath Bose, Henri Becquerel, Pierre Curie, Irène Joliot-Curie, and Frédéric Joliot-Curie, meet each other during their lifetimes?\n"
     ]
    },
    {
     "name": "stdout",
     "output_type": "stream",
     "text": [
      "Condensed question: Did the scientists associated with Albert Einstein and Marie Curie, such as Max Planck, Niels Bohr, Werner Heisenberg, Erwin Schrödinger, Wolfgang Pauli, Satyendra Nath Bose, Henri Becquerel, Pierre Curie, Irène Joliot-Curie, and Frédéric Joliot-Curie, meet each other during their lifetimes?\n"
     ]
    },
    {
     "name": "stderr",
     "output_type": "stream",
     "text": [
      "2025-09-12 20:23:25,076 - INFO - HTTP Request: POST https://api.openai.com/v1/embeddings \"HTTP/1.1 200 OK\"\n",
      "2025-09-12 20:23:39,422 - INFO - HTTP Request: POST https://api.openai.com/v1/chat/completions \"HTTP/1.1 200 OK\"\n"
     ]
    }
   ],
   "source": [
    "condenseContext_response =condenseContext_engine.chat(\"Have these scientist met in their lifetime?\")"
   ]
  },
  {
   "cell_type": "code",
   "execution_count": 49,
   "id": "06ad8101",
   "metadata": {},
   "outputs": [
    {
     "data": {
      "text/markdown": [
       "--- Response -------<br/>Yes, many of the scientists mentioned did meet during their lifetimes, particularly those who were contemporaries and active in the early to mid-20th century. Here are some notable interactions:\n",
       "\n",
       "1. **Albert Einstein and Marie Curie**: They met on several occasions and had a mutual respect for each other's work. They both attended the Solvay Conferences, which were gatherings of prominent scientists to discuss issues in physics. Einstein admired Curie's perseverance and scientific contributions.\n",
       "\n",
       "2. **Albert Einstein and Niels Bohr**: They had a famous series of debates on the fundamentals of quantum mechanics, particularly at the Solvay Conferences. These debates were pivotal in the development of quantum theory.\n",
       "\n",
       "3. **Marie Curie and Henri Becquerel**: They collaborated closely after Becquerel discovered radioactivity. Curie's research expanded on his initial findings, leading to her own groundbreaking discoveries.\n",
       "\n",
       "4. **Marie Curie and Pierre Curie**: As husband and wife, they worked closely together on their research into radioactivity, which led to their joint Nobel Prize in Physics in 1903.\n",
       "\n",
       "5. **Irène Joliot-Curie and Frédéric Joliot-Curie**: They were married and collaborated on research that led to their Nobel Prize in Chemistry in 1935 for their synthesis of new radioactive elements.\n",
       "\n",
       "6. **Albert Einstein and Max Planck**: They had a professional relationship and mutual respect. Planck was one of the early supporters of Einstein's theory of relativity.\n",
       "\n",
       "7. **Albert Einstein and Satyendra Nath Bose**: Although they collaborated on Bose-Einstein statistics, it was primarily through correspondence. It is not well-documented whether they met in person.\n",
       "\n",
       "These interactions were part of a vibrant scientific community in Europe during the early 20th century, where many of these scientists met through conferences, academic institutions, and collaborative research.<br/>-------------------"
      ],
      "text/plain": [
       "<IPython.core.display.Markdown object>"
      ]
     },
     "metadata": {},
     "output_type": "display_data"
    }
   ],
   "source": [
    "in_md(condenseContext_response.response)"
   ]
  },
  {
   "cell_type": "code",
   "execution_count": 50,
   "id": "7db3818f",
   "metadata": {},
   "outputs": [
    {
     "name": "stderr",
     "output_type": "stream",
     "text": [
      "2025-09-12 20:23:40,852 - INFO - HTTP Request: POST https://api.openai.com/v1/chat/completions \"HTTP/1.1 200 OK\"\n",
      "2025-09-12 20:23:40,854 - INFO - Condensed question: What topics did the scientists mentioned, such as Albert Einstein, Marie Curie, Niels Bohr, and others, discuss during their meetings and interactions?\n"
     ]
    },
    {
     "name": "stdout",
     "output_type": "stream",
     "text": [
      "Condensed question: What topics did the scientists mentioned, such as Albert Einstein, Marie Curie, Niels Bohr, and others, discuss during their meetings and interactions?\n"
     ]
    },
    {
     "name": "stderr",
     "output_type": "stream",
     "text": [
      "2025-09-12 20:23:41,265 - INFO - HTTP Request: POST https://api.openai.com/v1/embeddings \"HTTP/1.1 200 OK\"\n",
      "2025-09-12 20:23:49,963 - INFO - HTTP Request: POST https://api.openai.com/v1/chat/completions \"HTTP/1.1 200 OK\"\n"
     ]
    }
   ],
   "source": [
    "condenseContext_response =condenseContext_engine.chat(\"what are the topics they discussed?\")"
   ]
  },
  {
   "cell_type": "code",
   "execution_count": 51,
   "id": "d84516e4",
   "metadata": {},
   "outputs": [
    {
     "data": {
      "text/markdown": [
       "--- Response -------<br/>The interactions among these scientists often revolved around some of the most groundbreaking and complex topics in physics and chemistry of their time. Here are some of the key topics they discussed:\n",
       "\n",
       "1. **Albert Einstein and Marie Curie**:\n",
       "   - **Radioactivity**: Curie's pioneering work in radioactivity was a topic of great interest, and Einstein admired her contributions to the field.\n",
       "   - **Scientific Collaboration and Recognition**: They both navigated the challenges of scientific recognition and the politics of the Nobel Prize, often discussing the broader implications of their work.\n",
       "\n",
       "2. **Albert Einstein and Niels Bohr**:\n",
       "   - **Quantum Mechanics**: Their debates, particularly at the Solvay Conferences, focused on the interpretation of quantum mechanics. Einstein famously challenged the probabilistic nature of quantum mechanics, encapsulated in his quote, \"God does not play dice with the universe.\"\n",
       "   - **Wave-Particle Duality**: Discussions on the nature of light and matter, which were central to the development of quantum theory.\n",
       "\n",
       "3. **Marie Curie and Henri Becquerel**:\n",
       "   - **Radioactivity**: They discussed the nature and properties of radioactivity, which Becquerel discovered and Curie further explored, leading to the identification of new radioactive elements like polonium and radium.\n",
       "\n",
       "4. **Marie Curie and Pierre Curie**:\n",
       "   - **Discovery of Radium and Polonium**: Their collaborative work focused on isolating and studying these elements, which were crucial to understanding radioactivity.\n",
       "   - **Applications of Radioactivity**: They explored the potential uses of radioactive materials in medicine and science.\n",
       "\n",
       "5. **Irène Joliot-Curie and Frédéric Joliot-Curie**:\n",
       "   - **Artificial Radioactivity**: They discussed and conducted experiments that led to the discovery of artificial radioactivity, which had significant implications for nuclear physics and chemistry.\n",
       "\n",
       "6. **Albert Einstein and Max Planck**:\n",
       "   - **Theory of Relativity**: Planck was an early supporter of Einstein's theory, and they discussed its implications for physics.\n",
       "   - **Quantum Theory**: While Planck laid the groundwork for quantum theory, Einstein's work on the photoelectric effect furthered its development, leading to discussions on the dual nature of light.\n",
       "\n",
       "7. **Albert Einstein and Satyendra Nath Bose**:\n",
       "   - **Bose-Einstein Statistics**: Their collaboration through correspondence led to the development of Bose-Einstein statistics, which describe the behavior of indistinguishable particles and laid the groundwork for the concept of Bose-Einstein condensates.\n",
       "\n",
       "These discussions were instrumental in advancing scientific understanding and often took place in formal settings like conferences, as well as through personal correspondence and collaborations.<br/>-------------------"
      ],
      "text/plain": [
       "<IPython.core.display.Markdown object>"
      ]
     },
     "metadata": {},
     "output_type": "display_data"
    }
   ],
   "source": [
    "in_md(condenseContext_response.response)"
   ]
  },
  {
   "cell_type": "code",
   "execution_count": 52,
   "id": "9351128e",
   "metadata": {},
   "outputs": [
    {
     "name": "stderr",
     "output_type": "stream",
     "text": [
      "2025-09-12 20:23:50,992 - INFO - HTTP Request: POST https://api.openai.com/v1/chat/completions \"HTTP/1.1 200 OK\"\n",
      "2025-09-12 20:23:50,995 - INFO - Condensed question: What additional topics did these scientists discuss during their interactions?\n"
     ]
    },
    {
     "name": "stdout",
     "output_type": "stream",
     "text": [
      "Condensed question: What additional topics did these scientists discuss during their interactions?\n"
     ]
    },
    {
     "name": "stderr",
     "output_type": "stream",
     "text": [
      "2025-09-12 20:23:51,299 - INFO - HTTP Request: POST https://api.openai.com/v1/embeddings \"HTTP/1.1 200 OK\"\n",
      "2025-09-12 20:23:59,728 - INFO - HTTP Request: POST https://api.openai.com/v1/chat/completions \"HTTP/1.1 200 OK\"\n"
     ]
    }
   ],
   "source": [
    "condenseContext_response =condenseContext_engine.chat(\"what are the other topics they discussed?\")"
   ]
  },
  {
   "cell_type": "code",
   "execution_count": 53,
   "id": "be1e685b",
   "metadata": {},
   "outputs": [
    {
     "data": {
      "text/markdown": [
       "--- Response -------<br/>Beyond their scientific work, these scientists also engaged in discussions on a variety of other topics, reflecting their broader interests and the socio-political context of their times:\n",
       "\n",
       "1. **Philosophy of Science**:\n",
       "   - **Albert Einstein and Niels Bohr**: Their debates on quantum mechanics often touched on philosophical questions about the nature of reality, determinism, and the role of the observer in scientific measurements.\n",
       "\n",
       "2. **Education and Scientific Collaboration**:\n",
       "   - **Marie Curie**: As a pioneering female scientist, Curie was deeply involved in discussions about education, particularly for women, and the importance of international scientific collaboration. She helped establish the Radium Institute in Paris, which became a hub for scientific research.\n",
       "\n",
       "3. **Ethics and Responsibility**:\n",
       "   - **Albert Einstein**: He was vocal about the ethical responsibilities of scientists, especially in the context of nuclear weapons development during and after World War II. He famously signed a letter to President Franklin D. Roosevelt urging the development of atomic research, which contributed to the Manhattan Project.\n",
       "\n",
       "4. **Social and Political Issues**:\n",
       "   - **Albert Einstein**: He was an advocate for civil rights, pacifism, and Zionism. He often discussed these topics in public forums and private correspondences, emphasizing the role of science in promoting peace and understanding.\n",
       "   - **Marie Curie**: While less politically active than Einstein, Curie was involved in efforts to support scientific research and education, particularly during and after World War I, when she helped equip ambulances with X-ray machines to aid in medical treatment.\n",
       "\n",
       "5. **Personal and Professional Challenges**:\n",
       "   - **Marie Curie**: She faced significant challenges as a woman in science, including issues of recognition and funding. Her correspondence and interactions often reflected her efforts to overcome these barriers.\n",
       "   - **Albert Einstein**: He discussed the challenges of working in a politically turbulent Europe, particularly as a Jewish scientist during the rise of Nazism, which eventually led to his emigration to the United States.\n",
       "\n",
       "These discussions reveal that these scientists were not only focused on advancing their respective fields but were also deeply engaged with the broader implications of their work and the societal issues of their time.<br/>-------------------"
      ],
      "text/plain": [
       "<IPython.core.display.Markdown object>"
      ]
     },
     "metadata": {},
     "output_type": "display_data"
    }
   ],
   "source": [
    "in_md(condenseContext_response.response)"
   ]
  },
  {
   "cell_type": "code",
   "execution_count": 54,
   "id": "ad5440bb",
   "metadata": {},
   "outputs": [
    {
     "name": "stderr",
     "output_type": "stream",
     "text": [
      "2025-09-12 20:24:00,618 - INFO - HTTP Request: POST https://api.openai.com/v1/chat/completions \"HTTP/1.1 200 OK\"\n",
      "2025-09-12 20:24:00,621 - INFO - Condensed question: What are the most significant events or interactions that occurred among these scientists?\n"
     ]
    },
    {
     "name": "stdout",
     "output_type": "stream",
     "text": [
      "Condensed question: What are the most significant events or interactions that occurred among these scientists?\n"
     ]
    },
    {
     "name": "stderr",
     "output_type": "stream",
     "text": [
      "2025-09-12 20:24:01,027 - INFO - HTTP Request: POST https://api.openai.com/v1/embeddings \"HTTP/1.1 200 OK\"\n",
      "2025-09-12 20:24:09,664 - INFO - HTTP Request: POST https://api.openai.com/v1/chat/completions \"HTTP/1.1 200 OK\"\n"
     ]
    }
   ],
   "source": [
    "condenseContext_response =condenseContext_engine.chat(\"What are the most significant things that have happened among them?\")"
   ]
  },
  {
   "cell_type": "code",
   "execution_count": 55,
   "id": "fff5245a",
   "metadata": {},
   "outputs": [
    {
     "data": {
      "text/markdown": [
       "--- Response -------<br/>The interactions and collaborations among these scientists led to several significant developments in science and had a profound impact on the scientific community and beyond. Here are some of the most notable events and achievements:\n",
       "\n",
       "1. **Albert Einstein and Marie Curie**:\n",
       "   - **Solvay Conferences**: Both attended these influential meetings, which were critical for the development of modern physics. These conferences facilitated discussions on quantum mechanics and relativity, bringing together the brightest minds of the time.\n",
       "\n",
       "2. **Albert Einstein and Niels Bohr**:\n",
       "   - **Einstein-Bohr Debates**: Their debates on the interpretation of quantum mechanics were pivotal in shaping the philosophical foundations of quantum theory. These discussions highlighted the tension between Einstein's preference for deterministic theories and Bohr's acceptance of probabilistic interpretations.\n",
       "\n",
       "3. **Marie Curie and Henri Becquerel**:\n",
       "   - **Discovery of Radioactivity**: Becquerel's discovery of radioactivity, followed by Curie's extensive research, led to the identification of polonium and radium. This work laid the foundation for the field of nuclear physics and had significant implications for medicine and industry.\n",
       "\n",
       "4. **Marie Curie and Pierre Curie**:\n",
       "   - **Nobel Prize in Physics (1903)**: Marie and Pierre Curie, along with Henri Becquerel, were awarded the Nobel Prize for their joint research on radioactivity. This recognition was a landmark achievement for Marie Curie, making her the first woman to win a Nobel Prize.\n",
       "\n",
       "5. **Irène Joliot-Curie and Frédéric Joliot-Curie**:\n",
       "   - **Nobel Prize in Chemistry (1935)**: Their discovery of artificial radioactivity was a significant advancement in nuclear chemistry, leading to further research in nuclear reactions and the development of nuclear energy.\n",
       "\n",
       "6. **Albert Einstein and Max Planck**:\n",
       "   - **Support for Relativity**: Planck's support of Einstein's theory of relativity helped gain acceptance for the theory within the scientific community. This collaboration was crucial in establishing relativity as a cornerstone of modern physics.\n",
       "\n",
       "7. **Albert Einstein and Satyendra Nath Bose**:\n",
       "   - **Bose-Einstein Statistics**: Their collaboration led to the development of Bose-Einstein statistics, which describe the behavior of particles known as bosons. This work was foundational for later developments in quantum mechanics and the study of Bose-Einstein condensates.\n",
       "\n",
       "These significant events and achievements not only advanced scientific knowledge but also influenced the direction of research and the development of new technologies in the 20th century. The collaborations and debates among these scientists were instrumental in shaping modern physics and chemistry.<br/>-------------------"
      ],
      "text/plain": [
       "<IPython.core.display.Markdown object>"
      ]
     },
     "metadata": {},
     "output_type": "display_data"
    }
   ],
   "source": [
    "in_md(condenseContext_response.response)"
   ]
  },
  {
   "cell_type": "code",
   "execution_count": 56,
   "id": "e85c4dbf",
   "metadata": {},
   "outputs": [
    {
     "name": "stderr",
     "output_type": "stream",
     "text": [
      "2025-09-12 20:24:10,828 - INFO - HTTP Request: POST https://api.openai.com/v1/chat/completions \"HTTP/1.1 200 OK\"\n",
      "2025-09-12 20:24:10,833 - INFO - Condensed question: What significant developments or events occurred following these achievements and interactions among the scientists?\n"
     ]
    },
    {
     "name": "stdout",
     "output_type": "stream",
     "text": [
      "Condensed question: What significant developments or events occurred following these achievements and interactions among the scientists?\n"
     ]
    },
    {
     "name": "stderr",
     "output_type": "stream",
     "text": [
      "2025-09-12 20:24:11,368 - INFO - HTTP Request: POST https://api.openai.com/v1/embeddings \"HTTP/1.1 200 OK\"\n",
      "2025-09-12 20:24:23,240 - INFO - HTTP Request: POST https://api.openai.com/v1/chat/completions \"HTTP/1.1 200 OK\"\n"
     ]
    }
   ],
   "source": [
    "condenseContext_response =condenseContext_engine.chat(\"what happen after that?\")"
   ]
  },
  {
   "cell_type": "code",
   "execution_count": 57,
   "id": "25c5d3b9",
   "metadata": {},
   "outputs": [
    {
     "data": {
      "text/markdown": [
       "--- Response -------<br/>After these significant achievements and interactions, the legacy of these scientists continued to influence the fields of physics and chemistry, as well as broader societal and scientific developments. Here's what happened in the subsequent years:\n",
       "\n",
       "1. **Albert Einstein**:\n",
       "   - **Later Years and Legacy**: Einstein continued to work on theoretical physics, focusing on a unified field theory, although he did not achieve a breakthrough comparable to his earlier work. He became an iconic public figure, advocating for peace, civil rights, and scientific collaboration. Einstein's theories, particularly relativity, have continued to be foundational in physics, influencing areas such as cosmology and quantum mechanics.\n",
       "   - **Impact on Technology**: His work laid the groundwork for technologies like GPS, which relies on the principles of general relativity.\n",
       "\n",
       "2. **Marie Curie**:\n",
       "   - **Continued Research and Influence**: Curie continued her research on radioactivity until her death in 1934. Her work paved the way for advancements in medical treatments, such as cancer radiotherapy. She also established research institutes in Paris and Warsaw, which became centers for scientific research.\n",
       "   - **Legacy and Recognition**: Curie's legacy as a pioneering woman in science has inspired generations of female scientists. She remains the only person to have won Nobel Prizes in two different scientific fields (Physics and Chemistry).\n",
       "\n",
       "3. **Niels Bohr**:\n",
       "   - **Contributions to Quantum Mechanics**: Bohr continued to develop quantum theory and played a crucial role in the establishment of the Copenhagen interpretation. He also contributed to the development of nuclear energy and was involved in discussions about the ethical implications of atomic weapons.\n",
       "   - **Post-War Efforts**: After World War II, Bohr advocated for peaceful uses of nuclear energy and international cooperation in science.\n",
       "\n",
       "4. **Irène Joliot-Curie and Frédéric Joliot-Curie**:\n",
       "   - **Scientific and Political Involvement**: Both continued their research in nuclear physics and were involved in the French atomic energy program. They also engaged in political activities, advocating for scientific research and education.\n",
       "   - **Legacy**: Their work on artificial radioactivity had lasting impacts on nuclear science and technology.\n",
       "\n",
       "5. **Max Planck**:\n",
       "   - **Later Life and Influence**: Planck continued to be an influential figure in the scientific community, serving as president of the Kaiser Wilhelm Society (later the Max Planck Society). His contributions to quantum theory remain fundamental to modern physics.\n",
       "\n",
       "6. **Satyendra Nath Bose**:\n",
       "   - **Recognition and Influence**: Bose's work on quantum statistics gained recognition over time, and he became a prominent figure in Indian science. The concept of bosons, named in his honor, is central to particle physics.\n",
       "\n",
       "The collective contributions of these scientists have had a profound and lasting impact on science and technology, shaping the modern world in countless ways. Their work continues to inspire new generations of scientists and researchers.<br/>-------------------"
      ],
      "text/plain": [
       "<IPython.core.display.Markdown object>"
      ]
     },
     "metadata": {},
     "output_type": "display_data"
    }
   ],
   "source": [
    "in_md(condenseContext_response.response)"
   ]
  },
  {
   "cell_type": "code",
   "execution_count": 58,
   "id": "f79d9e3b",
   "metadata": {},
   "outputs": [
    {
     "name": "stderr",
     "output_type": "stream",
     "text": [
      "2025-09-12 20:24:24,372 - INFO - HTTP Request: POST https://api.openai.com/v1/chat/completions \"HTTP/1.1 200 OK\"\n",
      "2025-09-12 20:24:24,374 - INFO - Condensed question: What developments and impacts followed the significant achievements and interactions of these scientists?\n"
     ]
    },
    {
     "name": "stdout",
     "output_type": "stream",
     "text": [
      "Condensed question: What developments and impacts followed the significant achievements and interactions of these scientists?\n"
     ]
    },
    {
     "name": "stderr",
     "output_type": "stream",
     "text": [
      "2025-09-12 20:24:24,885 - INFO - HTTP Request: POST https://api.openai.com/v1/embeddings \"HTTP/1.1 200 OK\"\n",
      "2025-09-12 20:24:48,210 - INFO - HTTP Request: POST https://api.openai.com/v1/chat/completions \"HTTP/1.1 200 OK\"\n"
     ]
    }
   ],
   "source": [
    "condenseContext_response =condenseContext_engine.chat(\"what happen after that?\")"
   ]
  },
  {
   "cell_type": "code",
   "execution_count": 59,
   "id": "8b4472de",
   "metadata": {},
   "outputs": [
    {
     "data": {
      "text/markdown": [
       "--- Response -------<br/>Following the significant contributions and interactions of these scientists, their work continued to influence scientific progress and societal developments in various ways:\n",
       "\n",
       "1. **Advancements in Physics and Chemistry**:\n",
       "   - **Quantum Mechanics and Relativity**: The foundational work of Einstein, Bohr, Planck, and others laid the groundwork for further advancements in quantum mechanics and relativity. These theories have been integral to developments in particle physics, cosmology, and quantum computing.\n",
       "   - **Nuclear Science**: The research initiated by Marie Curie and continued by Irène Joliot-Curie and Frédéric Joliot-Curie contributed to the development of nuclear energy and medical applications, such as cancer treatments using radiation therapy.\n",
       "\n",
       "2. **Technological Innovations**:\n",
       "   - **Applications of Relativity**: Einstein's theories have been crucial for technologies like GPS, which requires precise time measurements adjusted for relativistic effects.\n",
       "   - **Quantum Technologies**: The principles of quantum mechanics have led to the development of technologies such as semiconductors, lasers, and quantum computers.\n",
       "\n",
       "3. **Scientific Institutions and Collaboration**:\n",
       "   - **Research Institutes**: Institutions like the Radium Institute in Paris and the Max Planck Society in Germany have continued to be leading centers for scientific research and innovation.\n",
       "   - **International Collaboration**: The legacy of these scientists has fostered a spirit of international collaboration in science, exemplified by organizations like CERN and the International Atomic Energy Agency (IAEA).\n",
       "\n",
       "4. **Social and Ethical Implications**:\n",
       "   - **Nuclear Weapons and Peace Efforts**: The development of nuclear weapons during World War II, which was indirectly influenced by the work on radioactivity and nuclear physics, led to significant ethical debates. Scientists like Einstein and Bohr were involved in discussions about the peaceful use of nuclear energy and the prevention of nuclear proliferation.\n",
       "   - **Science and Society**: The contributions of these scientists have highlighted the importance of science in addressing global challenges, from energy and health to environmental sustainability.\n",
       "\n",
       "5. **Inspiration and Education**:\n",
       "   - **Role Models**: Marie Curie, in particular, has become an enduring symbol of women's contributions to science, inspiring countless women to pursue careers in STEM fields.\n",
       "   - **Educational Impact**: The discoveries and theories developed by these scientists are integral parts of science education worldwide, forming the basis of curricula in physics and chemistry.\n",
       "\n",
       "Overall, the work and legacy of these scientists have had a lasting impact on both the scientific community and society at large, continuing to influence research, technology, and policy decisions well into the 21st century.<br/>-------------------"
      ],
      "text/plain": [
       "<IPython.core.display.Markdown object>"
      ]
     },
     "metadata": {},
     "output_type": "display_data"
    }
   ],
   "source": [
    "in_md(condenseContext_response.response)"
   ]
  },
  {
   "cell_type": "markdown",
   "id": "fdfc077b",
   "metadata": {},
   "source": [
    "## Retrivers\n",
    "\n",
    "Retrievers are fundamental components in RAG systems responsible for finding and ranking the most relevant chunks or nodes based on query similarity. LlamaIndex's `VectorIndexRetriever` performs semantic search using vector embeddings, where the `similarity_top_k` parameter determines how many of the most relevant nodes are retrieved for context generation.\n",
    "\n",
    "> The *retriever acts as the bridge between the query and the knowledge base*, using distance metrics like cosine similarity to identify content that best matches the semantic intent of the user's question. \n",
    "{:.green}\n",
    "\n",
    "This component is crucial for RAG performance as it directly impacts the quality of context provided to the LLM for answer generation."
   ]
  },
  {
   "cell_type": "code",
   "execution_count": 61,
   "id": "5ef58508",
   "metadata": {},
   "outputs": [],
   "source": [
    "from llama_index.core.retrievers import VectorIndexRetriever\n",
    "\n",
    "\n",
    "retriever = VectorIndexRetriever(index=index, similarity_top_k=3)"
   ]
  },
  {
   "cell_type": "markdown",
   "id": "d1467845",
   "metadata": {},
   "source": [
    "### Configure response synthesizer\n",
    "\n",
    "Response synthesis is the final stage of the RAG pipeline where the LLM combines retrieved context with the user query to generate coherent, factually-grounded answers. \n",
    "\n",
    "LlamaIndex's response synthesizer offers multiple synthesis modes including:\n",
    "\n",
    "- \"refine\" \n",
    "- \"compact\" and \n",
    "- \"tree_summarize\" \n",
    "\n",
    "each optimized for different use cases. The \"refine\" mode processes retrieved nodes iteratively, refining the answer with each additional piece of context, making it ideal for comprehensive responses that need to incorporate information from multiple sources. \n",
    "\n",
    "This component ensures that the LLM's generation capabilities are augmented with relevant, retrieved knowledge while maintaining factual accuracy and minimizing hallucination through grounded response generation."
   ]
  },
  {
   "cell_type": "code",
   "execution_count": 63,
   "id": "812d149c",
   "metadata": {},
   "outputs": [],
   "source": [
    "from llama_index.core import get_response_synthesizer\n",
    "\n",
    "synthesizer = get_response_synthesizer(response_mode=\"refine\")"
   ]
  },
  {
   "cell_type": "markdown",
   "id": "a50122cb",
   "metadata": {},
   "source": [
    "The *Retriever-Synthesizer pattern* represents the modular architecture of RAG systems in LlamaIndex. The retriever component performs semantic search to identify and rank relevant nodes, while the synthesizer processes these retrieved contexts with the user query to generate the final response. \n",
    "\n",
    "This separation of concerns allows for fine-tuned control over both retrieval accuracy and synthesis quality. The `RetrieverQueryEngine` coordinates these components, ensuring that the most relevant information is retrieved first and then effectively synthesized into coherent answers.\n",
    "\n",
    "This architecture enables experimentation with different retrieval strategies and synthesis modes independently, allowing for optimal RAG performance tuning."
   ]
  },
  {
   "cell_type": "code",
   "execution_count": 64,
   "id": "7c4aedbd",
   "metadata": {},
   "outputs": [],
   "source": [
    "from llama_index.core.query_engine import RetrieverQueryEngine\n",
    "\n",
    "\n",
    "retriever_query_engine = RetrieverQueryEngine(\n",
    "    retriever = retriever, response_synthesizer=synthesizer\n",
    ")"
   ]
  },
  {
   "cell_type": "code",
   "execution_count": 65,
   "id": "ffe45b2e",
   "metadata": {},
   "outputs": [
    {
     "name": "stderr",
     "output_type": "stream",
     "text": [
      "2025-09-12 21:31:31,350 - INFO - HTTP Request: POST https://api.openai.com/v1/embeddings \"HTTP/1.1 200 OK\"\n",
      "2025-09-12 21:31:33,319 - INFO - HTTP Request: POST https://api.openai.com/v1/chat/completions \"HTTP/1.1 200 OK\"\n",
      "2025-09-12 21:31:34,622 - INFO - HTTP Request: POST https://api.openai.com/v1/chat/completions \"HTTP/1.1 200 OK\"\n",
      "2025-09-12 21:31:35,441 - INFO - HTTP Request: POST https://api.openai.com/v1/chat/completions \"HTTP/1.1 200 OK\"\n"
     ]
    }
   ],
   "source": [
    "retriever_response = retriever_query_engine.query(\"Who met at the 1911 First Solvay Conference?\")"
   ]
  },
  {
   "cell_type": "code",
   "execution_count": 66,
   "id": "e583b3a4",
   "metadata": {},
   "outputs": [
    {
     "data": {
      "text/markdown": [
       "--- Response -------<br/>At the 1911 First Solvay Conference, Marie Curie and Albert Einstein were among the notable attendees.<br/>-------------------"
      ],
      "text/plain": [
       "<IPython.core.display.Markdown object>"
      ]
     },
     "metadata": {},
     "output_type": "display_data"
    }
   ],
   "source": [
    "in_md(retriever_response.response)"
   ]
  },
  {
   "cell_type": "markdown",
   "id": "ecd65cbb",
   "metadata": {},
   "source": [
    "An alternative approach in RAG systems involves using the index directly as a retriever, which provides more granular control over the retrieval process. \n",
    "\n",
    "This method allows direct access to retrieved nodes with their similarity scores, enabling detailed analysis of retrieval quality and debugging of RAG performance. \n",
    "\n",
    "By examining individual nodes and their relevance scores, developers can\n",
    "- fine-tune similarity thresholds, \n",
    "- analyze retrieval accuracy, \n",
    "- and optimize the knowledge base organization \n",
    "\n",
    "for better semantic matching between queries and relevant content."
   ]
  },
  {
   "cell_type": "code",
   "execution_count": 68,
   "id": "dc898f09",
   "metadata": {},
   "outputs": [],
   "source": [
    "retrieved_index =  index.as_retriever(similarity_top_k=3)"
   ]
  },
  {
   "cell_type": "code",
   "execution_count": 69,
   "id": "565a18d3",
   "metadata": {},
   "outputs": [
    {
     "name": "stderr",
     "output_type": "stream",
     "text": [
      "2025-09-12 21:37:21,695 - INFO - HTTP Request: POST https://api.openai.com/v1/embeddings \"HTTP/1.1 200 OK\"\n"
     ]
    }
   ],
   "source": [
    "retrieved_nodes = retrieved_index.retrieve(\"Who met at the 1911 First Solvay Conference?\")"
   ]
  },
  {
   "cell_type": "code",
   "execution_count": 72,
   "id": "64ba8610",
   "metadata": {},
   "outputs": [
    {
     "name": "stdout",
     "output_type": "stream",
     "text": [
      "Node ID: 245c9289-4899-4e04-8909-c6d7b3c9cc25\n",
      "Text: Based on my research, Einstein and Marie Curie shared many\n",
      "mutual acquaintances through scientific conferences, particularly the\n",
      "famous Solvay Conferences, and the broader European scientific\n",
      "community of the early 20th century. Here are the key people both\n",
      "scientists knew and how they were connected: Major Mutual\n",
      "Acquaintances Paul Langevin (18...\n",
      "Score:  0.841\n",
      "\n",
      "Node ID: 2e1fb072-65d1-4889-b906-5d499f866244\n",
      "Text: # When Marie Curie Met Albert Einstein  ## Brussels, October\n",
      "1911  The first Solvay Conference buzzed with intellectual energy as\n",
      "the greatest minds in physics gathered to discuss the revolutionary\n",
      "concept of quantum theory. Among the distinguished attendees, two\n",
      "figures commanded particular attention: the legendary Marie Curie,\n",
      "recently awarded...\n",
      "Score:  0.832\n",
      "\n",
      "Node ID: eb0fd574-b6ec-402f-b7c0-47d87b103fe3\n",
      "Text: 29 Legendary Scientists Came Together in the \"Most Intelligent\n",
      "Photo\" Ever Taken 1927 Fifth Solvay Conference (the famous \"most\n",
      "intelligent photo\"): Both Einstein and Curie attended this conference,\n",
      "which included many Nobel Prize winners and featured the famous\n",
      "debates about quantum mechanics \"The Most Intelligent Photo Ever\n",
      "Taken\": The 1927 So...\n",
      "Score:  0.829\n",
      "\n"
     ]
    }
   ],
   "source": [
    "from llama_index.core.response.notebook_utils import display_source_node\n",
    "\n",
    "\n",
    "for text_node in retrieved_nodes:\n",
    "    print(text_node)"
   ]
  },
  {
   "cell_type": "markdown",
   "id": "43f66250",
   "metadata": {},
   "source": [
    "The `similarity_top_k` parameter directly controls the context window size for RAG responses by determining how many semantically similar nodes are retrieved. This parameter represents a crucial trade-off in RAG systems:\n",
    "\n",
    "- higher values provide more comprehensive context but may introduce noise,\n",
    "- while lower values ensure focused context but might miss relevant information. \n",
    "\n",
    "> The optimal `similarity_top_k` setting depends on factors such as document chunk size, query complexity, and the desired balance between context completeness and response coherence."
   ]
  },
  {
   "cell_type": "markdown",
   "id": "d4c8458c",
   "metadata": {},
   "source": [
    "## Evaluation\n",
    "\n",
    "Necessary to measuring whether a found document is either relevant or irrelevant: the most commonly used valuation metrics are **precision** \\eqref{eq:precision} and **recall** \\eqref{eq:recall} where Precision is the fraction of retrieved documents that are relevant, while recall is the fraction of relevant documents that are successfully retrieved.\n",
    "\n",
    "\\\\(R\\\\) - represents all the relevant documents\n",
    "\n",
    "\\\\(NR\\\\) - represent all the irrelevant ones in a corpus of documents $$D$$\n",
    "\n",
    "\\\\(Rq\\\\) - represent relevant documents found\n",
    "\n",
    "\\\\(Dq\\\\) - represent documents returned by the system\n",
    "\n",
    "$$\n",
    "\\begin{equation}\n",
    "\\text{precision}=\\dfrac{Rq}{Dq} \\label{eq:precision}\n",
    "\\end{equation}\n",
    "$$\n",
    "\n",
    "$$\n",
    "\\begin{equation}\n",
    "\\text{recall}=\\dfrac{R_{q}}{R} \\label{eq:recall}\n",
    "\\end{equation}\n",
    "$$\n",
    "\n",
    "However, these two metrics don't represent ranking. Therefore, retriever uses the ***top-k*** of documents for the context to rank to assume. \n",
    "\n",
    "> Whenever we find a relevant document in the rank, **recall** increases. **Precision**, on the other hand, increases with documents but decreases with each irrelevant document.\n",
    "{:.info-box}\n",
    "\n",
    "**Hit Rate** in LlamaIndex is a fundamental retrieval evaluation metric that measures how often the correct or relevant document appears within the ***top-k*** retrieved results for a given query. The calculation is straightforward: for each query, you assign a score of 1 if the ground truth (correct) node appears anywhere in the top-k retrieved results, and 0 if it doesn't. The overall hit rate is then the average across all queries. For example, if you have 10 queries and 8 of them have their correct answer node present in the top-k retrieved results, your hit rate would be 8/10 = 0.8.\n",
    "\n",
    "You must have a method to evaluate whether changes in the system prompt improve user-query hit rates. Is the improvement 1%, 2%, or more[^5]?\n",
    "\n",
    "**Mean average precision** (***MAP***) \\eqref{eq:map} calculate precision values at the points where a relevant item is retrieved called average precision (AP) and then average these APs. For example\n",
    "\n",
    "The avarage precision (AP) value for the single query is\n",
    "\n",
    "$$\n",
    "\\begin{equation}\n",
    "MAP = \\dfrac{\\sum_{\\text{} }^{} \\text{precision at each relevant item}}{\\text{Total number of relevant items}} \\label{eq:map}\n",
    "\\end{equation}\n",
    "$$\n",
    "\n",
    "> Hit rate will not be always a right metric to look for in the retrieval evaluation. It doesn't take into account whether the correct node is in the first few position let's say the first position or the second position or say towards the nth position of the retrieved nodes. This is why it's often used alongside Mean Reciprocal Rank (MRR), which considers the position of the correct result.\n",
    "\n",
    "The **Mean Reciprocal Rrank** (***MRR***) \\eqref{eq:mrr}  which access the quality of shrot-ranked list having the correct answer (usually of human labels). The reciprocal rank is the reciprocal of the rank of the first item relevant to the question. For a set of queries $Q$, we take the reciprocal ranks and conduct the average:\n",
    "\n",
    "$$\n",
    "\\begin{equation}\n",
    "MRR = \\frac{1}{Q} \\sum_{i = 1}^{Q} \\frac{1}{rank_{i}} \\label{eq:mrr}\n",
    "\\end{equation}\n",
    "$$\n",
    "\n",
    "### Response Evaluation\n",
    "\n",
    "Response evaluation in LlamaIndex represents the critical final assessment phase of RAG system performance, *focusing on the quality of generated answers rather than just retrieval accuracy*. This evaluation paradigm operates on multiple dimensions to ensure comprehensive quality assessment:\n",
    "\n",
    "**Core Evaluation Dimensions:**\n",
    "\n",
    "- **Faithfulness**: The cornerstone of RAG evaluation, faithfulness measures whether generated responses are grounded in retrieved context without hallucination. LlamaIndex's `FaithfulnessEvaluator` analyzes whether each statement in the response can be traced back to the source documents, providing a quantitative measure of factual accuracy and preventing the LLM from generating information not present in the knowledge base.\n",
    "\n",
    "- **Relevance**: This metric evaluates *semantic alignment between the user's query and the generated response*. LlamaIndex's `RelevancyEvaluator` assesses whether the answer directly addresses the question asked, considering both topical relevance and the appropriateness of the response scope.\n",
    "\n",
    "- **Coherence**: *Measures the logical flow, readability, and structural quality of generated text*. This includes evaluating\n",
    "\n",
    "    - sentence transitions, \n",
    "    - argument consistency, and \n",
    "    - overall narrative structure \n",
    "\n",
    "to ensure responses are not only accurate but also well-articulated.\n",
    "\n",
    "- **Completeness**: Determines whether *responses fully address all aspects of complex queries*. This is particularly important for multi-part questions or requests requiring comprehensive explanations across multiple topics.\n",
    "\n",
    "**Advanced Evaluation Capabilities:**\n",
    "\n",
    "LlamaIndex provides automated evaluation workflows through its `DatasetGenerator`, which can autonomously generate question-answer pairs from your knowledge base. This capability enables:\n",
    "\n",
    "- **Synthetic Dataset Creation**: Automatically generating evaluation datasets that reflect your specific domain and use case\n",
    "- **Continuous Evaluation Pipelines**: Setting up automated testing as your RAG system evolves\n",
    "- **Comparative Analysis**: Benchmarking different RAG configurations using consistent evaluation criteria\n",
    "\n",
    "**Evaluation Methodologies:**\n",
    "\n",
    "The framework supports both **reference-based evaluation** (comparing against ground truth answers) and **reference-free evaluation** (assessing quality without predefined answers). Reference-free evaluation is particularly valuable for RAG systems where creating comprehensive ground truth datasets is impractical.\n",
    "\n",
    "**Integration with Retrieval Metrics:**\n",
    "\n",
    "Response evaluation works synergistically with retrieval metrics (***Hit Rate***, ***MRR***, ***MAP***) to provide end-to-end RAG assessment. While retrieval metrics focus on finding relevant information, response evaluation ensures that retrieved context is effectively synthesized into high-quality answers.\n",
    "\n",
    "> LlamaIndex's evaluation framework enables iterative RAG improvement through quantitative feedback loops, allowing developers to systematically optimize both retrieval and generation components for production-ready applications.\n"
   ]
  },
  {
   "cell_type": "code",
   "execution_count": 74,
   "id": "efaed6e2",
   "metadata": {},
   "outputs": [],
   "source": [
    "import nest_asyncio\n",
    "nest_asyncio.apply()\n",
    "\n",
    "import logging\n",
    "import sys\n",
    "\n",
    "logger = logging.getLogger()\n",
    "logger.setLevel(logging.INFO)\n",
    "\n",
    "# clear any existing handlers\n",
    "logger.handlers = []\n",
    "\n",
    "# Setup the stream handler\n",
    "handler = logging.StreamHandler(sys.stdout)\n",
    "handler.setLevel(logging.INFO)\n",
    "\n",
    "logger.addHandler(handler)"
   ]
  },
  {
   "cell_type": "code",
   "execution_count": 75,
   "id": "647c3780",
   "metadata": {},
   "outputs": [],
   "source": [
    "import pandas as pd\n",
    "\n",
    "logging.basicConfig(stream=sys.stdout, level=logging.INFO)\n",
    "logging.getLogger().addFilter(logging.StreamHandler(stream=sys.stdout))\n",
    "\n",
    "from llama_index.core.evaluation import (DatasetGenerator\n",
    "    , FaithfulnessEvaluator\n",
    "    , RelevancyEvaluator\n",
    "    , CorrectnessEvaluator\n",
    "    , RetrieverEvaluator\n",
    "    , generate_qa_embedding_pairs\n",
    ")\n",
    "\n",
    "from llama_index.core import (SimpleDirectoryReader\n",
    "    , VectorStoreIndex\n",
    "    , Response\n",
    ")\n",
    "\n"
   ]
  },
  {
   "cell_type": "markdown",
   "id": "7c882088",
   "metadata": {},
   "source": [
    "Some important evaluators:\n",
    "\n",
    "- The `CorrectnessEvaluator` to assess the relevance and correctness of generated answers by comparing them to reference ground-truth answers.\n",
    "\n",
    "- The `EmbeddingSimilarityEvaluator` is designed to assess the semantic similarity between generated responses and reference answers by comparing their embeddings using cosine similarity."
   ]
  },
  {
   "cell_type": "code",
   "execution_count": null,
   "id": "c155797b",
   "metadata": {},
   "outputs": [],
   "source": [
    "dataset_generator = DatasetGenerator.from_documents(documents\n",
    "    , llm=llm\n",
    "    , show_progress=False\n",
    ")\n",
    "\n",
    "eval_dataset = dataset_generator.generate_dataset_from_nodes(num=20)"
   ]
  },
  {
   "cell_type": "markdown",
   "id": "a0bd6f7a",
   "metadata": {},
   "source": [
    "Here the generated 20 questions:"
   ]
  },
  {
   "cell_type": "code",
   "execution_count": 85,
   "id": "cb4506b3",
   "metadata": {},
   "outputs": [
    {
     "name": "stdout",
     "output_type": "stream",
     "text": [
      "Q.1: What pivotal childhood experience did Albert Einstein have that contributed to his scientific curiosity?\n",
      "Q.2: Describe the circumstances under which Einstein left school in Munich and how he eventually gained admission to the Swiss Federal Polytechnic.\n",
      "Q.3: What role did Einstein's position at the Swiss Patent Office play in his scientific career?\n",
      "Q.4: List and briefly explain the four groundbreaking papers Einstein published during his \"Annus Mirabilis\" in 1905.\n",
      "Q.5: How did Einstein's work on the photoelectric effect contribute to quantum theory, and what recognition did he receive for it?\n",
      "Q.6: Explain the significance of Einstein's theory of special relativity and its impact on the concepts of space and time.\n",
      "Q.7: What is the famous equation derived from Einstein's work on special relativity, and what does it signify?\n",
      "Q.8: Outline Einstein's academic career progression from 1908 to 1914, including the institutions he was affiliated with.\n",
      "Q.9: How did Sir Arthur Eddington's 1919 solar eclipse expedition contribute to Einstein's international fame?\n",
      "Q.10: Describe Einstein's contributions to quantum mechanics and his stance on its probabilistic interpretation.\n",
      "Q.11: What significant scientific theory did Albert Einstein complete in 1915, and how did it redefine the concept of gravity?\n",
      "Q.12: How did the 1919 solar eclipse expedition led by Sir Arthur Eddington contribute to Einstein's international fame?\n",
      "Q.13: Describe Einstein's contributions to quantum mechanics and his philosophical stance on its probabilistic interpretation.\n",
      "Q.14: Outline Einstein's personal life, including his marriages and family, highlighting any significant events.\n",
      "Q.15: What were the circumstances that led Einstein to flee Nazi Germany in 1933, and where did he eventually settle?\n",
      "Q.16: Discuss Einstein's involvement in the development of atomic weapons during World War II and his reasons for supporting this research.\n",
      "Q.17: What was Einstein's focus during his later years, and how was his pursuit of a unified field theory perceived by his contemporaries?\n",
      "Q.18: How did Einstein contribute to political and social causes, and what notable position did he decline in 1952?\n",
      "Q.19: Summarize the scientific legacy of Albert Einstein, including his contributions to relativity, quantum mechanics, and cosmology.\n",
      "Q.20: How has Einstein's cultural impact extended beyond his scientific achievements, and what are some of his famous quotes that reflect his philosophy?\n"
     ]
    }
   ],
   "source": [
    "for i, q  in enumerate(list(eval_dataset.queries.values())):\n",
    "    print(f\"Q.{i+1}: {q}\")"
   ]
  },
  {
   "cell_type": "markdown",
   "id": "d64fa842",
   "metadata": {},
   "source": [
    "Create a evaluation qurey to evaluate which is consistent with the above."
   ]
  },
  {
   "cell_type": "code",
   "execution_count": 88,
   "id": "14ca18ba",
   "metadata": {},
   "outputs": [],
   "source": [
    "eval_query = \"What is Einstein's miracle year?\""
   ]
  },
  {
   "cell_type": "markdown",
   "id": "94136668",
   "metadata": {},
   "source": [
    "Using GTP-3.5-Turbo for generate response and GPT-4 for evaluation:"
   ]
  },
  {
   "cell_type": "code",
   "execution_count": 86,
   "id": "53814c65",
   "metadata": {},
   "outputs": [],
   "source": [
    "gpt35_llm = OpenAI(model=\"gpt-3.5-turbo\", temperature=0)\n",
    "gpt4_llm = OpenAI(model=\"gpt-4\", temperature=0)"
   ]
  },
  {
   "cell_type": "markdown",
   "id": "51001e41",
   "metadata": {},
   "source": [
    "Create vector index and query engine from that for evaluation:"
   ]
  },
  {
   "cell_type": "code",
   "execution_count": 87,
   "id": "54155823",
   "metadata": {},
   "outputs": [
    {
     "name": "stdout",
     "output_type": "stream",
     "text": [
      "HTTP Request: POST https://api.openai.com/v1/embeddings \"HTTP/1.1 200 OK\"\n"
     ]
    }
   ],
   "source": [
    "vector_index = VectorStoreIndex.from_documents( documents, llm=gpt35_llm)\n",
    "query_eval_engine = vector_index.as_query_engine()\n"
   ]
  },
  {
   "cell_type": "markdown",
   "id": "bf8b1b28",
   "metadata": {},
   "source": [
    "Now create a retriever:"
   ]
  },
  {
   "cell_type": "code",
   "execution_count": 90,
   "id": "39684a69",
   "metadata": {},
   "outputs": [
    {
     "name": "stdout",
     "output_type": "stream",
     "text": [
      "HTTP Request: POST https://api.openai.com/v1/embeddings \"HTTP/1.1 200 OK\"\n"
     ]
    }
   ],
   "source": [
    "query_eval_retriever = vector_index.as_retriever(similarity_top_k=3)\n",
    "eval_nodes = query_eval_retriever.retrieve(eval_query)"
   ]
  },
  {
   "cell_type": "code",
   "execution_count": 101,
   "id": "07a3bdd8",
   "metadata": {},
   "outputs": [
    {
     "name": "stdout",
     "output_type": "stream",
     "text": [
      "('# Albert Einstein: A Biography\\n'\n",
      " '\\n'\n",
      " '## Early Life (1879-1896)\\n'\n",
      " '\\n'\n",
      " 'Albert Einstein was born on March 14, 1879, in Ulm, in the Kingdom of '\n",
      " 'Württemberg in the German Empire. His parents were Hermann Einstein, a '\n",
      " 'salesman and engineer, and Pauline Koch Einstein. When Albert was one year '\n",
      " 'old, the family moved to Munich, where his father and uncle founded '\n",
      " 'Elektrotechnische Fabrik J. Einstein & Cie, a company that manufactured '\n",
      " 'electrical equipment.\\n'\n",
      " '\\n'\n",
      " 'Einstein showed early signs of intellectual curiosity, though contrary to '\n",
      " 'popular myth, he was not a poor student. He excelled in mathematics and '\n",
      " 'physics from a young age. When he was five, his father gave him a compass, '\n",
      " 'and Einstein was fascinated by the invisible forces that moved the needle—an '\n",
      " 'experience he later described as pivotal in developing his scientific '\n",
      " 'curiosity.\\n'\n",
      " '\\n'\n",
      " \"In 1894, Einstein's family moved to Italy for business reasons, but Albert \"\n",
      " 'remained in Munich to finish his education. However, he left school early '\n",
      " 'and rejoined his family in Italy. He then applied to the Swiss Federal '\n",
      " 'Polytechnic in Zurich but failed the entrance exam, though he scored '\n",
      " 'exceptionally well in mathematics and physics. After completing his '\n",
      " 'secondary education in Switzerland, he was accepted to the Polytechnic in '\n",
      " '1896.\\n'\n",
      " '\\n'\n",
      " '## Education and Early Career (1896-1905)\\n'\n",
      " '\\n'\n",
      " 'Einstein studied at the Swiss Federal Polytechnic from 1896 to 1900, where '\n",
      " 'he met Mileva Marić, a fellow physics student who would later become his '\n",
      " 'first wife. After graduating in 1900, Einstein struggled to find academic '\n",
      " 'employment and worked various temporary jobs, including as a tutor and '\n",
      " 'substitute teacher.\\n'\n",
      " '\\n'\n",
      " 'In 1902, he secured a position at the Swiss Patent Office in Bern, where he '\n",
      " 'worked as a technical assistant examiner. This job provided him with '\n",
      " 'financial stability and, perhaps more importantly, time to pursue his own '\n",
      " 'scientific research. The work at the patent office also exposed him to '\n",
      " 'practical applications of electromagnetic theory, which influenced his later '\n",
      " 'work.\\n'\n",
      " '\\n'\n",
      " 'Einstein earned his doctorate from the University of Zurich in 1905 with a '\n",
      " 'dissertation titled \"On a New Determination of Molecular Dimensions.\"\\n'\n",
      " '\\n'\n",
      " '## The Miracle Year (1905)\\n'\n",
      " '\\n'\n",
      " '1905 became known as Einstein\\'s \"Annus Mirabilis\" (miracle year) because he '\n",
      " 'published four groundbreaking papers that revolutionized physics:\\n'\n",
      " '\\n'\n",
      " '### 1. Photoelectric Effect\\n'\n",
      " \"Einstein's paper on the photoelectric effect explained how light could \"\n",
      " 'behave as particles (photons), providing crucial evidence for quantum '\n",
      " 'theory. This work earned him the Nobel Prize in Physics in 1921.\\n'\n",
      " '\\n'\n",
      " '### 2. Brownian Motion\\n'\n",
      " 'His explanation of Brownian motion provided empirical evidence for the '\n",
      " 'existence of atoms and molecules, convincing skeptics of atomic theory.\\n'\n",
      " '\\n'\n",
      " '### 3. Special Theory of Relativity\\n'\n",
      " 'Perhaps his most famous contribution, special relativity introduced the '\n",
      " 'concept that space and time are interwoven into spacetime, and that the '\n",
      " 'speed of light is constant for all observers. This theory challenged '\n",
      " \"Newton's absolute concepts of space and time.\\n\"\n",
      " '\\n'\n",
      " '### 4. Mass-Energy Equivalence\\n'\n",
      " 'The famous equation E=mc² emerged from his work on special relativity, '\n",
      " 'showing that mass and energy are interchangeable.\\n'\n",
      " '\\n'\n",
      " '## Academic Career and General Relativity (1905-1915)\\n'\n",
      " '\\n'\n",
      " 'Following his 1905 publications, Einstein gained recognition in the '\n",
      " 'scientific community. He moved through various academic positions:\\n'\n",
      " '\\n'\n",
      " '- 1908: Lecturer at the University of Bern\\n'\n",
      " '- 1909: Professor at the University of Zurich\\n'\n",
      " '- 1911: Professor at Charles University in Prague\\n'\n",
      " '- 1912: Professor at ETH Zurich\\n'\n",
      " '- 1914: Director of the Kaiser Wilhelm Institute for Physics in Berlin\\n'\n",
      " '\\n'\n",
      " 'During this period, Einstein worked on extending his special theory of '\n",
      " 'relativity to include gravity. In 1915, he completed his General Theory of '\n",
      " 'Relativity, which described gravity not as a force, but as a curvature of '\n",
      " 'spacetime caused by mass and energy. This theory made several predictions '\n",
      " 'that were later confirmed experimentally, including the bending of light '\n",
      " 'around massive objects.\\n'\n",
      " '\\n'\n",
      " '## International Fame (1915-1933)\\n'\n",
      " '\\n'\n",
      " \"Einstein's general relativity gained worldwide attention when Sir Arthur \"\n",
      " \"Eddington's 1919 solar eclipse expedition confirmed the theory's prediction \"\n",
      " 'that light would bend around the sun. Overnight, Einstein became an '\n",
      " 'international celebrity and the face of modern science.\\n'\n",
      " '\\n'\n",
      " 'During this period, Einstein made significant contributions to quantum '\n",
      " 'mechanics, statistical mechanics, and cosmology, though he remained '\n",
      " \"skeptical of quantum mechanics' probabilistic interpretation, famously \"\n",
      " 'stating \"God does not play dice with the universe.\"\\n'\n",
      " '\\n'\n",
      " '## Personal Life\\n'\n",
      " '\\n'\n",
      " 'Einstein married Mileva Marić in 1903, and they had two sons: Hans Albert '\n",
      " 'and Eduard.')\n"
     ]
    }
   ],
   "source": [
    "import pprint\n",
    "pprint.pprint(eval_nodes[1].get_text())"
   ]
  },
  {
   "cell_type": "markdown",
   "id": "9d425102",
   "metadata": {},
   "source": [
    "### Faithfullness Evaluator\n",
    "\n",
    "Measures for the **hallucination** if the response from a query engine matches any source nodes. LlamaIndex's `FaithfulnessEvaluator` employs a sophisticated approach by breaking down the generated response into individual statements and systematically verifying whether each statement can be directly supported by the retrieved context nodes. "
   ]
  },
  {
   "cell_type": "code",
   "execution_count": 93,
   "id": "05fa0926",
   "metadata": {},
   "outputs": [],
   "source": [
    "faithfulness_evaluator = FaithfulnessEvaluator(llm=gpt4_llm)"
   ]
  },
  {
   "cell_type": "code",
   "execution_count": 94,
   "id": "3d4a6c3f",
   "metadata": {},
   "outputs": [
    {
     "name": "stdout",
     "output_type": "stream",
     "text": [
      "HTTP Request: POST https://api.openai.com/v1/embeddings \"HTTP/1.1 200 OK\"\n",
      "HTTP Request: POST https://api.openai.com/v1/chat/completions \"HTTP/1.1 200 OK\"\n"
     ]
    }
   ],
   "source": [
    "eval_response_vector = query_eval_engine.query(eval_query)"
   ]
  },
  {
   "cell_type": "markdown",
   "id": "81ef67be",
   "metadata": {},
   "source": [
    "This evaluation process *uses the LLM itself to perform fact-checking, comparing each claim in the response against the source material to detect hallucinations, contradictions, or fabricated information*."
   ]
  },
  {
   "cell_type": "code",
   "execution_count": 95,
   "id": "f5947de0",
   "metadata": {},
   "outputs": [
    {
     "name": "stdout",
     "output_type": "stream",
     "text": [
      "HTTP Request: POST https://api.openai.com/v1/chat/completions \"HTTP/1.1 200 OK\"\n"
     ]
    }
   ],
   "source": [
    "eval_response_result = faithfulness_evaluator.evaluate_response(\n",
    "    response=eval_response_vector\n",
    ")"
   ]
  },
  {
   "cell_type": "markdown",
   "id": "f83666d6",
   "metadata": {},
   "source": [
    "The evaluator returns a binary pass/fail result along with detailed feedback, making it an essential tool for ensuring RAG systems maintain factual accuracy and don't generate misleading information that goes beyond what's actually contained in the knowledge base.\n",
    "\n",
    "If not hallucinated, `passing` should be `True` as the following:"
   ]
  },
  {
   "cell_type": "code",
   "execution_count": 96,
   "id": "98b781c7",
   "metadata": {},
   "outputs": [
    {
     "data": {
      "text/plain": [
       "True"
      ]
     },
     "execution_count": 96,
     "metadata": {},
     "output_type": "execute_result"
    }
   ],
   "source": [
    "eval_response_result.passing"
   ]
  },
  {
   "cell_type": "code",
   "execution_count": null,
   "id": "d0e111bd",
   "metadata": {},
   "outputs": [
    {
     "name": "stdout",
     "output_type": "stream",
     "text": [
      "['In 1915, he completed his General Theory of Relativity, which described '\n",
      " 'gravity not as a force, but as a curvature of spacetime caused by mass and '\n",
      " 'energy. This theory made several predictions that were later confirmed '\n",
      " 'experimentally, including the bending of light around massive objects.\\n'\n",
      " '\\n'\n",
      " '## International Fame (1915-1933)\\n'\n",
      " '\\n'\n",
      " \"Einstein's general relativity gained worldwide attention when Sir Arthur \"\n",
      " \"Eddington's 1919 solar eclipse expedition confirmed the theory's prediction \"\n",
      " 'that light would bend around the sun. Overnight, Einstein became an '\n",
      " 'international celebrity and the face of modern science.\\n'\n",
      " '\\n'\n",
      " 'During this period, Einstein made significant contributions to quantum '\n",
      " 'mechanics, statistical mechanics, and cosmology, though he remained '\n",
      " \"skeptical of quantum mechanics' probabilistic interpretation, famously \"\n",
      " 'stating \"God does not play dice with the universe.\"\\n'\n",
      " '\\n'\n",
      " '## Personal Life\\n'\n",
      " '\\n'\n",
      " 'Einstein married Mileva Marić in 1903, and they had two sons: Hans Albert '\n",
      " 'and Eduard. The couple also had a daughter, Lieserl, born before their '\n",
      " 'marriage, whose fate remains unknown. Einstein and Mileva divorced in 1919.\\n'\n",
      " '\\n'\n",
      " 'Later in 1919, Einstein married his cousin Elsa Löwenthal, who had been '\n",
      " 'caring for him during his illness. Elsa died in 1936.\\n'\n",
      " '\\n'\n",
      " 'Einstein was known for his distinctive appearance—wild hair, casual dress, '\n",
      " 'and pipe smoking—and his quirky personality. He was a pacifist, civil rights '\n",
      " 'advocate, and spoke out against racism and nationalism.\\n'\n",
      " '\\n'\n",
      " '## Flight from Nazi Germany (1933-1939)\\n'\n",
      " '\\n'\n",
      " 'As the Nazi party rose to power in Germany, Einstein, being Jewish, faced '\n",
      " 'increasing persecution. His books were burned, and he was forced to flee '\n",
      " 'Germany in 1933. He accepted a position at the Institute for Advanced Study '\n",
      " 'in Princeton, New Jersey, where he would spend the rest of his life.\\n'\n",
      " '\\n'\n",
      " 'Einstein became an American citizen in 1940 while retaining his Swiss '\n",
      " 'citizenship. During World War II, despite his pacifist beliefs, he wrote a '\n",
      " 'letter to President Roosevelt urging the development of atomic weapons '\n",
      " 'research, fearing Nazi Germany might develop them first. This led to the '\n",
      " 'Manhattan Project, though Einstein himself was not involved in the actual '\n",
      " 'development of the atomic bomb.\\n'\n",
      " '\\n'\n",
      " '## Later Years and Unified Field Theory (1939-1955)\\n'\n",
      " '\\n'\n",
      " 'Einstein spent his later years searching for a \"theory of everything\" that '\n",
      " 'would unify the fundamental forces of nature. His pursuit of a unified field '\n",
      " 'theory was unsuccessful, and many colleagues thought he was pursuing an '\n",
      " 'impossible dream.\\n'\n",
      " '\\n'\n",
      " 'He continued his work at Princeton and remained active in political and '\n",
      " 'social causes, advocating for civil rights, nuclear disarmament, and world '\n",
      " 'government. He declined an offer to become the second President of Israel in '\n",
      " '1952.\\n'\n",
      " '\\n'\n",
      " '## Death and Legacy\\n'\n",
      " '\\n'\n",
      " 'Einstein died on April 18, 1955, at age 76, from an abdominal aortic '\n",
      " \"aneurysm. His last words were spoken in German to a night nurse who didn't \"\n",
      " 'understand the language, so they are lost to history.\\n'\n",
      " '\\n'\n",
      " '## Scientific Legacy\\n'\n",
      " '\\n'\n",
      " \"Einstein's contributions to science are immeasurable:\\n\"\n",
      " '\\n'\n",
      " '- **Relativity**: Both special and general relativity remain cornerstones of '\n",
      " 'modern physics and have practical applications in GPS systems, particle '\n",
      " 'accelerators, and astronomy.\\n'\n",
      " '\\n'\n",
      " '- **Quantum Mechanics**: Despite his philosophical objections to quantum '\n",
      " 'mechanics, his early work laid important foundations for the field.\\n'\n",
      " '\\n'\n",
      " '- **Cosmology**: His field equations became the basis for modern '\n",
      " \"cosmological models of the universe's expansion and evolution.\\n\"\n",
      " '\\n'\n",
      " '- **Scientific Method**: Einstein emphasized the importance of thought '\n",
      " 'experiments and conceptual clarity in physics.\\n'\n",
      " '\\n'\n",
      " '## Cultural Impact\\n'\n",
      " '\\n'\n",
      " 'Beyond science, Einstein became a cultural icon representing genius and '\n",
      " 'intellectual achievement. His image and quotes are widely recognized, and he '\n",
      " 'remains a symbol of creativity, curiosity, and the power of human '\n",
      " 'imagination.\\n'\n",
      " '\\n'\n",
      " \"Einstein's work fundamentally changed our understanding of reality, space, \"\n",
      " 'time, and the universe itself. His theories continue to be tested and '\n",
      " 'confirmed, and his influence on physics and human thought remains profound '\n",
      " 'more than a century after his greatest discoveries.\\n'\n",
      " '\\n'\n",
      " '## Famous Quotes\\n'\n",
      " '\\n'\n",
      " '\"Imagination is more important than knowledge.\"\\n'\n",
      " '\\n'\n",
      " '\"The important thing is not to stop questioning.\"\\n'\n",
      " '\\n'\n",
      " '\"Try not to become a person of success, but rather try to become a person of '\n",
      " 'value.\"\\n'\n",
      " '\\n'\n",
      " '\"Logic will get you from A to B. Imagination will take you everywhere.\"\\n'\n",
      " '\\n'\n",
      " \"Einstein's life story is one of intellectual courage, scientific revolution, \"\n",
      " 'and humanitarian concern—a testament to the power of human curiosity and the '\n",
      " 'pursuit of truth.',\n",
      " '# Albert Einstein: A Biography\\n'\n",
      " '\\n'\n",
      " '## Early Life (1879-1896)\\n'\n",
      " '\\n'\n",
      " 'Albert Einstein was born on March 14, 1879, in Ulm, in the Kingdom of '\n",
      " 'Württemberg in the German Empire. His parents were Hermann Einstein, a '\n",
      " 'salesman and engineer, and Pauline Koch Einstein. When Albert was one year '\n",
      " 'old, the family moved to Munich, where his father and uncle founded '\n",
      " 'Elektrotechnische Fabrik J. Einstein & Cie, a company that manufactured '\n",
      " 'electrical equipment.\\n'\n",
      " '\\n'\n",
      " 'Einstein showed early signs of intellectual curiosity, though contrary to '\n",
      " 'popular myth, he was not a poor student. He excelled in mathematics and '\n",
      " 'physics from a young age. When he was five, his father gave him a compass, '\n",
      " 'and Einstein was fascinated by the invisible forces that moved the needle—an '\n",
      " 'experience he later described as pivotal in developing his scientific '\n",
      " 'curiosity.\\n'\n",
      " '\\n'\n",
      " \"In 1894, Einstein's family moved to Italy for business reasons, but Albert \"\n",
      " 'remained in Munich to finish his education. However, he left school early '\n",
      " 'and rejoined his family in Italy. He then applied to the Swiss Federal '\n",
      " 'Polytechnic in Zurich but failed the entrance exam, though he scored '\n",
      " 'exceptionally well in mathematics and physics. After completing his '\n",
      " 'secondary education in Switzerland, he was accepted to the Polytechnic in '\n",
      " '1896.\\n'\n",
      " '\\n'\n",
      " '## Education and Early Career (1896-1905)\\n'\n",
      " '\\n'\n",
      " 'Einstein studied at the Swiss Federal Polytechnic from 1896 to 1900, where '\n",
      " 'he met Mileva Marić, a fellow physics student who would later become his '\n",
      " 'first wife. After graduating in 1900, Einstein struggled to find academic '\n",
      " 'employment and worked various temporary jobs, including as a tutor and '\n",
      " 'substitute teacher.\\n'\n",
      " '\\n'\n",
      " 'In 1902, he secured a position at the Swiss Patent Office in Bern, where he '\n",
      " 'worked as a technical assistant examiner. This job provided him with '\n",
      " 'financial stability and, perhaps more importantly, time to pursue his own '\n",
      " 'scientific research. The work at the patent office also exposed him to '\n",
      " 'practical applications of electromagnetic theory, which influenced his later '\n",
      " 'work.\\n'\n",
      " '\\n'\n",
      " 'Einstein earned his doctorate from the University of Zurich in 1905 with a '\n",
      " 'dissertation titled \"On a New Determination of Molecular Dimensions.\"\\n'\n",
      " '\\n'\n",
      " '## The Miracle Year (1905)\\n'\n",
      " '\\n'\n",
      " '1905 became known as Einstein\\'s \"Annus Mirabilis\" (miracle year) because he '\n",
      " 'published four groundbreaking papers that revolutionized physics:\\n'\n",
      " '\\n'\n",
      " '### 1. Photoelectric Effect\\n'\n",
      " \"Einstein's paper on the photoelectric effect explained how light could \"\n",
      " 'behave as particles (photons), providing crucial evidence for quantum '\n",
      " 'theory. This work earned him the Nobel Prize in Physics in 1921.\\n'\n",
      " '\\n'\n",
      " '### 2. Brownian Motion\\n'\n",
      " 'His explanation of Brownian motion provided empirical evidence for the '\n",
      " 'existence of atoms and molecules, convincing skeptics of atomic theory.\\n'\n",
      " '\\n'\n",
      " '### 3. Special Theory of Relativity\\n'\n",
      " 'Perhaps his most famous contribution, special relativity introduced the '\n",
      " 'concept that space and time are interwoven into spacetime, and that the '\n",
      " 'speed of light is constant for all observers. This theory challenged '\n",
      " \"Newton's absolute concepts of space and time.\\n\"\n",
      " '\\n'\n",
      " '### 4. Mass-Energy Equivalence\\n'\n",
      " 'The famous equation E=mc² emerged from his work on special relativity, '\n",
      " 'showing that mass and energy are interchangeable.\\n'\n",
      " '\\n'\n",
      " '## Academic Career and General Relativity (1905-1915)\\n'\n",
      " '\\n'\n",
      " 'Following his 1905 publications, Einstein gained recognition in the '\n",
      " 'scientific community. He moved through various academic positions:\\n'\n",
      " '\\n'\n",
      " '- 1908: Lecturer at the University of Bern\\n'\n",
      " '- 1909: Professor at the University of Zurich\\n'\n",
      " '- 1911: Professor at Charles University in Prague\\n'\n",
      " '- 1912: Professor at ETH Zurich\\n'\n",
      " '- 1914: Director of the Kaiser Wilhelm Institute for Physics in Berlin\\n'\n",
      " '\\n'\n",
      " 'During this period, Einstein worked on extending his special theory of '\n",
      " 'relativity to include gravity. In 1915, he completed his General Theory of '\n",
      " 'Relativity, which described gravity not as a force, but as a curvature of '\n",
      " 'spacetime caused by mass and energy. This theory made several predictions '\n",
      " 'that were later confirmed experimentally, including the bending of light '\n",
      " 'around massive objects.\\n'\n",
      " '\\n'\n",
      " '## International Fame (1915-1933)\\n'\n",
      " '\\n'\n",
      " \"Einstein's general relativity gained worldwide attention when Sir Arthur \"\n",
      " \"Eddington's 1919 solar eclipse expedition confirmed the theory's prediction \"\n",
      " 'that light would bend around the sun. Overnight, Einstein became an '\n",
      " 'international celebrity and the face of modern science.\\n'\n",
      " '\\n'\n",
      " 'During this period, Einstein made significant contributions to quantum '\n",
      " 'mechanics, statistical mechanics, and cosmology, though he remained '\n",
      " \"skeptical of quantum mechanics' probabilistic interpretation, famously \"\n",
      " 'stating \"God does not play dice with the universe.\"\\n'\n",
      " '\\n'\n",
      " '## Personal Life\\n'\n",
      " '\\n'\n",
      " 'Einstein married Mileva Marić in 1903, and they had two sons: Hans Albert '\n",
      " 'and Eduard.']\n"
     ]
    }
   ],
   "source": [
    "pprint.pprint(eval_response_result.contexts)"
   ]
  },
  {
   "cell_type": "markdown",
   "id": "d5cd45a7",
   "metadata": {},
   "source": [
    "### Relevency Evaluation\n",
    "\n",
    "Mesures if the response and source nodes match the query. LlamaIndex's `RelevancyEvaluator` assesses the semantic alignment between user queries and generated responses by analyzing whether the answer directly addresses the question's intent and scope. \n",
    "\n",
    "This evaluator goes beyond simple keyword matching to understand contextual relevance, evaluating if the response stays on-topic, addresses all parts of multi-faceted questions, and provides information that genuinely helps answer what was asked. \n",
    "\n",
    "\n",
    "Create relevancy evaluator:"
   ]
  },
  {
   "cell_type": "code",
   "execution_count": 105,
   "id": "d029e3d5",
   "metadata": {},
   "outputs": [],
   "source": [
    "relevancy_evaluator = RelevancyEvaluator(llm=gpt4_llm)"
   ]
  },
  {
   "cell_type": "markdown",
   "id": "4c67fb98",
   "metadata": {},
   "source": [
    "The evaluation process considers both the retrieved context relevance and the final response relevance, ensuring that not only are appropriate source materials found, but that the LLM synthesizes them into answers that are meaningfully connected to the user's information need rather than providing tangentially related but ultimately unhelpful responses."
   ]
  },
  {
   "cell_type": "code",
   "execution_count": 106,
   "id": "b2cf4491",
   "metadata": {},
   "outputs": [
    {
     "name": "stdout",
     "output_type": "stream",
     "text": [
      "Retrying request to /chat/completions in 0.477346 seconds\n",
      "HTTP Request: POST https://api.openai.com/v1/chat/completions \"HTTP/1.1 200 OK\"\n"
     ]
    }
   ],
   "source": [
    "from llama_index.core.indices import query\n",
    "\n",
    "\n",
    "eval_response_result = relevancy_evaluator.evaluate_response(\n",
    "    query=eval_query, response=eval_response_vector\n",
    ")"
   ]
  },
  {
   "cell_type": "code",
   "execution_count": 107,
   "id": "8fda1a6b",
   "metadata": {},
   "outputs": [
    {
     "data": {
      "text/plain": [
       "\"What is Einstein's miracle year?\""
      ]
     },
     "execution_count": 107,
     "metadata": {},
     "output_type": "execute_result"
    }
   ],
   "source": [
    "eval_response_result.query"
   ]
  },
  {
   "cell_type": "code",
   "execution_count": 108,
   "id": "45542c96",
   "metadata": {},
   "outputs": [
    {
     "data": {
      "text/plain": [
       "\"Einstein's miracle year is 1905.\""
      ]
     },
     "execution_count": 108,
     "metadata": {},
     "output_type": "execute_result"
    }
   ],
   "source": [
    "eval_response_result.response"
   ]
  },
  {
   "cell_type": "code",
   "execution_count": 109,
   "id": "ebfcfe36",
   "metadata": {},
   "outputs": [
    {
     "data": {
      "text/plain": [
       "True"
      ]
     },
     "execution_count": 109,
     "metadata": {},
     "output_type": "execute_result"
    }
   ],
   "source": [
    "eval_response_result.passing"
   ]
  },
  {
   "cell_type": "markdown",
   "id": "b398c755",
   "metadata": {},
   "source": [
    "### Retrieval Evaluation\n",
    "\n",
    "Retrieval evaluation forms the foundation of RAG system assessment, specifically targeting the quality and effectiveness of the retriever module in LlamaIndex. This evaluation phase is crucial because retrieval quality directly impacts downstream response generation - poor retrieval leads to irrelevant or incomplete answers regardless of LLM capabilities.\n",
    "\n",
    "**Core Retrieval Evaluation Paradigm:**\n",
    "\n",
    "The retrieval evaluation process in LlamaIndex assesses how effectively the retriever identifies and ranks relevant documents from the knowledge base. RAG retrieval evaluation must consider semantic relevance, contextual appropriateness, and the ability to support accurate answer generation.\n",
    "\n",
    "**Evaluation Components:**\n",
    "\n",
    "- **Semantic Accuracy**: Measures whether retrieved nodes contain information semantically relevant to the query, even when exact keywords don't match\n",
    "- **Ranking Quality**: Assesses how well the retriever orders results by relevance, ensuring the most pertinent information appears in top-k results\n",
    "- **Coverage Analysis**: Evaluates whether the retriever captures all necessary information to answer complex, multi-faceted queries\n",
    "- **Noise Reduction**: Determines the retriever's ability to exclude irrelevant or tangentially related content that could mislead the generation process\n",
    "\n",
    "**LlamaIndex RetrieverEvaluator Framework:**\n",
    "\n",
    "LlamaIndex's `RetrieverEvaluator` provides comprehensive assessment capabilities using industry-standard metrics like Mean Reciprocal Rank (***MRR***) and ***Hit Rate***. This framework enables:\n",
    "\n",
    "- **Ground Truth Comparison**: Evaluating retrieval performance against manually curated relevant document sets\n",
    "- **Multi-metric Analysis**: Simultaneous assessment using complementary metrics to provide holistic performance insights  \n",
    "- **Batch Evaluation**: Processing entire evaluation datasets to measure consistent retriever performance across diverse queries\n",
    "- **Comparative Benchmarking**: Testing different retriever configurations to optimize similarity_top_k, embedding models, and indexing strategies\n",
    "\n",
    "**Practical Implementation Considerations:**\n",
    "\n",
    "Effective retrieval evaluation requires careful consideration of evaluation dataset quality, ground truth annotation accuracy, and the alignment between evaluation metrics and actual RAG system performance. The evaluation results guide critical decisions about embedding model selection, chunking strategies, and similarity threshold tuning.\n",
    "\n",
    "Will reuse `query_eval_retriever` to demonstrate these evaluation principles:"
   ]
  },
  {
   "cell_type": "code",
   "execution_count": 111,
   "id": "e3e8b75b",
   "metadata": {},
   "outputs": [
    {
     "name": "stdout",
     "output_type": "stream",
     "text": [
      "HTTP Request: POST https://api.openai.com/v1/embeddings \"HTTP/1.1 200 OK\"\n"
     ]
    }
   ],
   "source": [
    "retrieval_eval_nodes = query_eval_retriever.retrieve(eval_query)"
   ]
  },
  {
   "cell_type": "code",
   "execution_count": 115,
   "id": "8b102682",
   "metadata": {},
   "outputs": [
    {
     "name": "stdout",
     "output_type": "stream",
     "text": [
      "NodeWithScore(node=TextNode(id_='61b7c18b-b156-4e27-9904-c9ff286975af', embedding=None, metadata={'file_path': '/Users/ojitha/GitHub/rag_llamaindex/Science_Community/data/AlbertEinstein.txt', 'file_name': 'AlbertEinstein.txt', 'file_type': 'text/plain', 'file_size': 8235, 'creation_date': '2025-09-12', 'last_modified_date': '2025-09-12'}, excluded_embed_metadata_keys=['file_name', 'file_type', 'file_size', 'creation_date', 'last_modified_date', 'last_accessed_date'], excluded_llm_metadata_keys=['file_name', 'file_type', 'file_size', 'creation_date', 'last_modified_date', 'last_accessed_date'], relationships={<NodeRelationship.SOURCE: '1'>: RelatedNodeInfo(node_id='2a37d51d-ac93-4091-aad5-06b963941e44', node_type='4', metadata={'file_path': '/Users/ojitha/GitHub/rag_llamaindex/Science_Community/data/AlbertEinstein.txt', 'file_name': 'AlbertEinstein.txt', 'file_type': 'text/plain', 'file_size': 8235, 'creation_date': '2025-09-12', 'last_modified_date': '2025-09-12'}, hash='ebbeab8f1fb4d45db4be9071d503bd1d253736c0a2213119e2ac3946f6f207d0'), <NodeRelationship.PREVIOUS: '2'>: RelatedNodeInfo(node_id='4c8360c9-ad67-4171-b113-2215001eb01e', node_type='1', metadata={'file_path': '/Users/ojitha/GitHub/rag_llamaindex/Science_Community/data/AlbertEinstein.txt', 'file_name': 'AlbertEinstein.txt', 'file_type': 'text/plain', 'file_size': 8235, 'creation_date': '2025-09-12', 'last_modified_date': '2025-09-12'}, hash='9ae1df663260d045e1cbe0f113223faa4ea914fcfb8973706c3a90fc68bf06aa')}, metadata_template='{key}: {value}', metadata_separator='\\n', text='In 1915, he completed his General Theory of Relativity, which described gravity not as a force, but as a curvature of spacetime caused by mass and energy. This theory made several predictions that were later confirmed experimentally, including the bending of light around massive objects.\\n\\n## International Fame (1915-1933)\\n\\nEinstein\\'s general relativity gained worldwide attention when Sir Arthur Eddington\\'s 1919 solar eclipse expedition confirmed the theory\\'s prediction that light would bend around the sun. Overnight, Einstein became an international celebrity and the face of modern science.\\n\\nDuring this period, Einstein made significant contributions to quantum mechanics, statistical mechanics, and cosmology, though he remained skeptical of quantum mechanics\\' probabilistic interpretation, famously stating \"God does not play dice with the universe.\"\\n\\n## Personal Life\\n\\nEinstein married Mileva Marić in 1903, and they had two sons: Hans Albert and Eduard. The couple also had a daughter, Lieserl, born before their marriage, whose fate remains unknown. Einstein and Mileva divorced in 1919.\\n\\nLater in 1919, Einstein married his cousin Elsa Löwenthal, who had been caring for him during his illness. Elsa died in 1936.\\n\\nEinstein was known for his distinctive appearance—wild hair, casual dress, and pipe smoking—and his quirky personality. He was a pacifist, civil rights advocate, and spoke out against racism and nationalism.\\n\\n## Flight from Nazi Germany (1933-1939)\\n\\nAs the Nazi party rose to power in Germany, Einstein, being Jewish, faced increasing persecution. His books were burned, and he was forced to flee Germany in 1933. He accepted a position at the Institute for Advanced Study in Princeton, New Jersey, where he would spend the rest of his life.\\n\\nEinstein became an American citizen in 1940 while retaining his Swiss citizenship. During World War II, despite his pacifist beliefs, he wrote a letter to President Roosevelt urging the development of atomic weapons research, fearing Nazi Germany might develop them first. This led to the Manhattan Project, though Einstein himself was not involved in the actual development of the atomic bomb.\\n\\n## Later Years and Unified Field Theory (1939-1955)\\n\\nEinstein spent his later years searching for a \"theory of everything\" that would unify the fundamental forces of nature. His pursuit of a unified field theory was unsuccessful, and many colleagues thought he was pursuing an impossible dream.\\n\\nHe continued his work at Princeton and remained active in political and social causes, advocating for civil rights, nuclear disarmament, and world government. He declined an offer to become the second President of Israel in 1952.\\n\\n## Death and Legacy\\n\\nEinstein died on April 18, 1955, at age 76, from an abdominal aortic aneurysm. His last words were spoken in German to a night nurse who didn\\'t understand the language, so they are lost to history.\\n\\n## Scientific Legacy\\n\\nEinstein\\'s contributions to science are immeasurable:\\n\\n- **Relativity**: Both special and general relativity remain cornerstones of modern physics and have practical applications in GPS systems, particle accelerators, and astronomy.\\n\\n- **Quantum Mechanics**: Despite his philosophical objections to quantum mechanics, his early work laid important foundations for the field.\\n\\n- **Cosmology**: His field equations became the basis for modern cosmological models of the universe\\'s expansion and evolution.\\n\\n- **Scientific Method**: Einstein emphasized the importance of thought experiments and conceptual clarity in physics.\\n\\n## Cultural Impact\\n\\nBeyond science, Einstein became a cultural icon representing genius and intellectual achievement. His image and quotes are widely recognized, and he remains a symbol of creativity, curiosity, and the power of human imagination.\\n\\nEinstein\\'s work fundamentally changed our understanding of reality, space, time, and the universe itself. His theories continue to be tested and confirmed, and his influence on physics and human thought remains profound more than a century after his greatest discoveries.\\n\\n## Famous Quotes\\n\\n\"Imagination is more important than knowledge.\"\\n\\n\"The important thing is not to stop questioning.\"\\n\\n\"Try not to become a person of success, but rather try to become a person of value.\"\\n\\n\"Logic will get you from A to B. Imagination will take you everywhere.\"\\n\\nEinstein\\'s life story is one of intellectual courage, scientific revolution, and humanitarian concern—a testament to the power of human curiosity and the pursuit of truth.', mimetype='text/plain', start_char_idx=3691, end_char_idx=8222, metadata_seperator='\\n', text_template='{metadata_str}\\n\\n{content}'), score=0.8298978569689672)\n",
      "NodeWithScore(node=TextNode(id_='4c8360c9-ad67-4171-b113-2215001eb01e', embedding=None, metadata={'file_path': '/Users/ojitha/GitHub/rag_llamaindex/Science_Community/data/AlbertEinstein.txt', 'file_name': 'AlbertEinstein.txt', 'file_type': 'text/plain', 'file_size': 8235, 'creation_date': '2025-09-12', 'last_modified_date': '2025-09-12'}, excluded_embed_metadata_keys=['file_name', 'file_type', 'file_size', 'creation_date', 'last_modified_date', 'last_accessed_date'], excluded_llm_metadata_keys=['file_name', 'file_type', 'file_size', 'creation_date', 'last_modified_date', 'last_accessed_date'], relationships={<NodeRelationship.SOURCE: '1'>: RelatedNodeInfo(node_id='2a37d51d-ac93-4091-aad5-06b963941e44', node_type='4', metadata={'file_path': '/Users/ojitha/GitHub/rag_llamaindex/Science_Community/data/AlbertEinstein.txt', 'file_name': 'AlbertEinstein.txt', 'file_type': 'text/plain', 'file_size': 8235, 'creation_date': '2025-09-12', 'last_modified_date': '2025-09-12'}, hash='ebbeab8f1fb4d45db4be9071d503bd1d253736c0a2213119e2ac3946f6f207d0'), <NodeRelationship.NEXT: '3'>: RelatedNodeInfo(node_id='61b7c18b-b156-4e27-9904-c9ff286975af', node_type='1', metadata={}, hash='c0cb8aeb3ee55886421ab49b5cc8b2cfba747e0b11de1c5cb9bbc908117f7dda')}, metadata_template='{key}: {value}', metadata_separator='\\n', text='# Albert Einstein: A Biography\\n\\n## Early Life (1879-1896)\\n\\nAlbert Einstein was born on March 14, 1879, in Ulm, in the Kingdom of Württemberg in the German Empire. His parents were Hermann Einstein, a salesman and engineer, and Pauline Koch Einstein. When Albert was one year old, the family moved to Munich, where his father and uncle founded Elektrotechnische Fabrik J. Einstein & Cie, a company that manufactured electrical equipment.\\n\\nEinstein showed early signs of intellectual curiosity, though contrary to popular myth, he was not a poor student. He excelled in mathematics and physics from a young age. When he was five, his father gave him a compass, and Einstein was fascinated by the invisible forces that moved the needle—an experience he later described as pivotal in developing his scientific curiosity.\\n\\nIn 1894, Einstein\\'s family moved to Italy for business reasons, but Albert remained in Munich to finish his education. However, he left school early and rejoined his family in Italy. He then applied to the Swiss Federal Polytechnic in Zurich but failed the entrance exam, though he scored exceptionally well in mathematics and physics. After completing his secondary education in Switzerland, he was accepted to the Polytechnic in 1896.\\n\\n## Education and Early Career (1896-1905)\\n\\nEinstein studied at the Swiss Federal Polytechnic from 1896 to 1900, where he met Mileva Marić, a fellow physics student who would later become his first wife. After graduating in 1900, Einstein struggled to find academic employment and worked various temporary jobs, including as a tutor and substitute teacher.\\n\\nIn 1902, he secured a position at the Swiss Patent Office in Bern, where he worked as a technical assistant examiner. This job provided him with financial stability and, perhaps more importantly, time to pursue his own scientific research. The work at the patent office also exposed him to practical applications of electromagnetic theory, which influenced his later work.\\n\\nEinstein earned his doctorate from the University of Zurich in 1905 with a dissertation titled \"On a New Determination of Molecular Dimensions.\"\\n\\n## The Miracle Year (1905)\\n\\n1905 became known as Einstein\\'s \"Annus Mirabilis\" (miracle year) because he published four groundbreaking papers that revolutionized physics:\\n\\n### 1. Photoelectric Effect\\nEinstein\\'s paper on the photoelectric effect explained how light could behave as particles (photons), providing crucial evidence for quantum theory. This work earned him the Nobel Prize in Physics in 1921.\\n\\n### 2. Brownian Motion\\nHis explanation of Brownian motion provided empirical evidence for the existence of atoms and molecules, convincing skeptics of atomic theory.\\n\\n### 3. Special Theory of Relativity\\nPerhaps his most famous contribution, special relativity introduced the concept that space and time are interwoven into spacetime, and that the speed of light is constant for all observers. This theory challenged Newton\\'s absolute concepts of space and time.\\n\\n### 4. Mass-Energy Equivalence\\nThe famous equation E=mc² emerged from his work on special relativity, showing that mass and energy are interchangeable.\\n\\n## Academic Career and General Relativity (1905-1915)\\n\\nFollowing his 1905 publications, Einstein gained recognition in the scientific community. He moved through various academic positions:\\n\\n- 1908: Lecturer at the University of Bern\\n- 1909: Professor at the University of Zurich\\n- 1911: Professor at Charles University in Prague\\n- 1912: Professor at ETH Zurich\\n- 1914: Director of the Kaiser Wilhelm Institute for Physics in Berlin\\n\\nDuring this period, Einstein worked on extending his special theory of relativity to include gravity. In 1915, he completed his General Theory of Relativity, which described gravity not as a force, but as a curvature of spacetime caused by mass and energy. This theory made several predictions that were later confirmed experimentally, including the bending of light around massive objects.\\n\\n## International Fame (1915-1933)\\n\\nEinstein\\'s general relativity gained worldwide attention when Sir Arthur Eddington\\'s 1919 solar eclipse expedition confirmed the theory\\'s prediction that light would bend around the sun. Overnight, Einstein became an international celebrity and the face of modern science.\\n\\nDuring this period, Einstein made significant contributions to quantum mechanics, statistical mechanics, and cosmology, though he remained skeptical of quantum mechanics\\' probabilistic interpretation, famously stating \"God does not play dice with the universe.\"\\n\\n## Personal Life\\n\\nEinstein married Mileva Marić in 1903, and they had two sons: Hans Albert and Eduard.', mimetype='text/plain', start_char_idx=0, end_char_idx=4656, metadata_seperator='\\n', text_template='{metadata_str}\\n\\n{content}'), score=0.8272692481783651)\n",
      "NodeWithScore(node=TextNode(id_='dee2bf96-618c-49e1-96a7-066a86efa166', embedding=None, metadata={'file_path': '/Users/ojitha/GitHub/rag_llamaindex/Science_Community/data/meetingMarieAlbert.txt', 'file_name': 'meetingMarieAlbert.txt', 'file_type': 'text/plain', 'file_size': 2970, 'creation_date': '2025-09-12', 'last_modified_date': '2025-09-12'}, excluded_embed_metadata_keys=['file_name', 'file_type', 'file_size', 'creation_date', 'last_modified_date', 'last_accessed_date'], excluded_llm_metadata_keys=['file_name', 'file_type', 'file_size', 'creation_date', 'last_modified_date', 'last_accessed_date'], relationships={<NodeRelationship.SOURCE: '1'>: RelatedNodeInfo(node_id='3671ed1c-c30f-49a7-b114-89ae1c502763', node_type='4', metadata={'file_path': '/Users/ojitha/GitHub/rag_llamaindex/Science_Community/data/meetingMarieAlbert.txt', 'file_name': 'meetingMarieAlbert.txt', 'file_type': 'text/plain', 'file_size': 2970, 'creation_date': '2025-09-12', 'last_modified_date': '2025-09-12'}, hash='2c787a09eb16dae22374d0976a5d2909d7e639a9399b9a160c14036f46544a4d')}, metadata_template='{key}: {value}', metadata_separator='\\n', text='# When Marie Curie Met Albert Einstein\\n\\n## Brussels, October 1911\\n\\nThe first Solvay Conference buzzed with intellectual energy as the greatest minds in physics gathered to discuss the revolutionary concept of quantum theory. Among the distinguished attendees, two figures commanded particular attention: the legendary Marie Curie, recently awarded her second Nobel Prize, and the rising star Albert Einstein, whose theories were reshaping our understanding of space and time.\\n\\nEinstein, then 32, approached the 44-year-old Curie during a break between sessions. His wild hair was already becoming his trademark, while she maintained her characteristic composed demeanor despite the recent scandal surrounding her personal life that had dominated French newspapers.\\n\\n\"Madame Curie,\" Einstein said in his accented French, offering a slight bow. \"Your work on radioactivity has opened entirely new realms of physics. I confess, your dedication to isolating pure radium by hand is something I could never accomplish—I lack both the patience and the physical strength.\"\\n\\nMarie smiled, a rare moment of warmth crossing her typically serious expression. \"Monsieur Einstein, your theory of relativity has challenged everything we thought we knew about the universe. I find myself wondering how radioactive decay might behave in your curved spacetime.\"\\n\\nThey found themselves deep in conversation, sketching equations on napkins and gesturing animatedly. Einstein was struck by Marie\\'s methodical approach to problems, while she admired his ability to visualize complex physical phenomena through thought experiments.\\n\\n\"You know,\" Einstein said, lowering his voice, \"I\\'ve read about the treatment you\\'ve received in the French press. It\\'s shameful how they attack your character when they should be celebrating your genius.\"\\n\\nMarie\\'s eyes hardened slightly. \"Science doesn\\'t care about scandal, only truth. My work speaks for itself.\"\\n\\n\"Indeed it does,\" Einstein replied with conviction. \"And history will remember your contributions long after the gossips are forgotten.\"\\n\\nAs the conference continued, they often sought each other out during breaks, discussing not only physics but also their shared concerns about the growing tensions in Europe. Both had experienced the challenges of being outsiders in the scientific community—she as a woman, he as a Jew—and they found understanding in each other\\'s struggles.\\n\\nYears later, when Einstein reflected on that first meeting, he would write: \"Marie Curie is, of all celebrated beings, the only one whom fame has not corrupted.\" Their mutual respect would endure through correspondence and later meetings, two revolutionary minds bound by their dedication to unraveling the mysteries of the universe.\\n\\nIn that bustling hotel in Brussels, surrounded by the leading scientists of their age, Marie Curie and Albert Einstein discovered something rarer than radium or more elegant than relativity—a kindred intellectual spirit.', mimetype='text/plain', start_char_idx=0, end_char_idx=2962, metadata_seperator='\\n', text_template='{metadata_str}\\n\\n{content}'), score=0.8038104489514425)\n"
     ]
    }
   ],
   "source": [
    "for node in retrieval_eval_nodes:\n",
    "    pprint.pprint(node)"
   ]
  },
  {
   "cell_type": "markdown",
   "id": "07078689",
   "metadata": {},
   "source": [
    "Let's create dataset for quality assurance:"
   ]
  },
  {
   "cell_type": "code",
   "execution_count": null,
   "id": "c1b862c5",
   "metadata": {},
   "outputs": [
    {
     "name": "stderr",
     "output_type": "stream",
     "text": [
      "  0%|          | 0/3 [00:00<?, ?it/s]"
     ]
    },
    {
     "name": "stdout",
     "output_type": "stream",
     "text": [
      "HTTP Request: POST https://api.openai.com/v1/chat/completions \"HTTP/1.1 200 OK\"\n"
     ]
    },
    {
     "name": "stderr",
     "output_type": "stream",
     "text": [
      " 33%|███▎      | 1/3 [00:01<00:03,  1.98s/it]"
     ]
    },
    {
     "name": "stdout",
     "output_type": "stream",
     "text": [
      "HTTP Request: POST https://api.openai.com/v1/chat/completions \"HTTP/1.1 200 OK\"\n"
     ]
    },
    {
     "name": "stderr",
     "output_type": "stream",
     "text": [
      " 67%|██████▋   | 2/3 [00:06<00:03,  3.32s/it]"
     ]
    },
    {
     "name": "stdout",
     "output_type": "stream",
     "text": [
      "HTTP Request: POST https://api.openai.com/v1/chat/completions \"HTTP/1.1 200 OK\"\n"
     ]
    },
    {
     "name": "stderr",
     "output_type": "stream",
     "text": [
      "100%|██████████| 3/3 [00:08<00:00,  2.97s/it]\n"
     ]
    }
   ],
   "source": [
    "from llama_index.core.evaluation import generate_question_context_pairs\n",
    "\n",
    "qa_dataset = generate_question_context_pairs(\n",
    "    retrieval_eval_nodes, llm=gpt4_llm, num_questions_per_chunk=2,show\n",
    ")"
   ]
  },
  {
   "cell_type": "markdown",
   "id": "e729b35c",
   "metadata": {},
   "source": [
    "Check the results fo the QA dataset:"
   ]
  },
  {
   "cell_type": "code",
   "execution_count": 119,
   "id": "bfb12171",
   "metadata": {},
   "outputs": [],
   "source": [
    "qa_queries = qa_dataset.queries.values()"
   ]
  },
  {
   "cell_type": "code",
   "execution_count": 120,
   "id": "02aef90c",
   "metadata": {},
   "outputs": [
    {
     "name": "stdout",
     "output_type": "stream",
     "text": [
      "('Describe the initial interaction between Marie Curie and Albert Einstein at '\n",
      " 'the first Solvay Conference in 1911. What were the key topics they discussed '\n",
      " 'and how did they express their mutual respect and admiration for each '\n",
      " \"other's work?\")\n"
     ]
    }
   ],
   "source": [
    "pprint.pprint(list(qa_queries)[4])"
   ]
  },
  {
   "cell_type": "markdown",
   "id": "cbaf28f2",
   "metadata": {},
   "source": [
    "Create MRR evaluator:"
   ]
  },
  {
   "cell_type": "code",
   "execution_count": 121,
   "id": "8beddc97",
   "metadata": {},
   "outputs": [],
   "source": [
    "retriever_evaluator = RetrieverEvaluator.from_metric_names(\n",
    "    [\"mrr\", \"hit_rate\"], retriever=query_eval_retriever\n",
    ")"
   ]
  },
  {
   "cell_type": "markdown",
   "id": "4c3d6696",
   "metadata": {},
   "source": [
    "Test for the sample query"
   ]
  },
  {
   "cell_type": "code",
   "execution_count": 122,
   "id": "000755cd",
   "metadata": {},
   "outputs": [
    {
     "name": "stdout",
     "output_type": "stream",
     "text": [
      "HTTP Request: POST https://api.openai.com/v1/embeddings \"HTTP/1.1 200 OK\"\n",
      "Query: \"Discuss the impact of Einstein's General Theory of Relativity on modern physics and provide examples of its practical applications as mentioned in the text.\"\n",
      "Metrics: {'mrr': 1.0, 'hit_rate': 1.0}\n",
      "\n"
     ]
    }
   ],
   "source": [
    "sample_id, sample_query = list(qa_dataset.queries.items())[0]\n",
    "sample_expected = qa_dataset.relevant_docs[sample_id]\n",
    "\n",
    "eval_result = retriever_evaluator.evaluate(sample_query, sample_expected)\n",
    "print(eval_result)"
   ]
  },
  {
   "cell_type": "markdown",
   "id": "5e9c4432",
   "metadata": {},
   "source": [
    "Evaluate for entire dataset"
   ]
  },
  {
   "cell_type": "code",
   "execution_count": 123,
   "id": "9639598c",
   "metadata": {},
   "outputs": [
    {
     "name": "stdout",
     "output_type": "stream",
     "text": [
      "Retrying request to /embeddings in 0.488101 seconds\n",
      "HTTP Request: POST https://api.openai.com/v1/embeddings \"HTTP/1.1 200 OK\"\n",
      "HTTP Request: POST https://api.openai.com/v1/embeddings \"HTTP/1.1 200 OK\"\n",
      "HTTP Request: POST https://api.openai.com/v1/embeddings \"HTTP/1.1 200 OK\"\n",
      "HTTP Request: POST https://api.openai.com/v1/embeddings \"HTTP/1.1 200 OK\"\n",
      "HTTP Request: POST https://api.openai.com/v1/embeddings \"HTTP/1.1 200 OK\"\n",
      "HTTP Request: POST https://api.openai.com/v1/embeddings \"HTTP/1.1 200 OK\"\n"
     ]
    }
   ],
   "source": [
    "# try it out on an entire dataset\n",
    "qa_dataset_eval_results = await retriever_evaluator.aevaluate_dataset(qa_dataset)"
   ]
  },
  {
   "cell_type": "code",
   "execution_count": 128,
   "id": "d6bf665d",
   "metadata": {},
   "outputs": [
    {
     "data": {
      "text/html": [
       "<div>\n",
       "<style scoped>\n",
       "    .dataframe tbody tr th:only-of-type {\n",
       "        vertical-align: middle;\n",
       "    }\n",
       "\n",
       "    .dataframe tbody tr th {\n",
       "        vertical-align: top;\n",
       "    }\n",
       "\n",
       "    .dataframe thead th {\n",
       "        text-align: right;\n",
       "    }\n",
       "</style>\n",
       "<table border=\"1\" class=\"dataframe\">\n",
       "  <thead>\n",
       "    <tr style=\"text-align: right;\">\n",
       "      <th></th>\n",
       "      <th>Hit Rate</th>\n",
       "      <th>MRR</th>\n",
       "    </tr>\n",
       "  </thead>\n",
       "  <tbody>\n",
       "    <tr>\n",
       "      <th>0</th>\n",
       "      <td>1.0</td>\n",
       "      <td>0.833333</td>\n",
       "    </tr>\n",
       "  </tbody>\n",
       "</table>\n",
       "</div>"
      ],
      "text/plain": [
       "   Hit Rate       MRR\n",
       "0       1.0  0.833333"
      ]
     },
     "execution_count": 128,
     "metadata": {},
     "output_type": "execute_result"
    }
   ],
   "source": [
    "metric_dicts = []\n",
    "for eval_result in qa_dataset_eval_results:\n",
    "    metric_dict = eval_result.metric_vals_dict\n",
    "    metric_dicts.append(metric_dict)\n",
    "\n",
    "full_df = pd.DataFrame(metric_dicts)\n",
    "\n",
    "hit_rate = full_df[\"hit_rate\"].mean()\n",
    "mrr = full_df[\"mrr\"].mean()\n",
    "\n",
    "metric_df = pd.DataFrame(\n",
    "    { \"Hit Rate\": [hit_rate], \"MRR\": [mrr]}\n",
    ")\n",
    "\n",
    "metric_df\n",
    "\n"
   ]
  },
  {
   "cell_type": "markdown",
   "id": "e010653d",
   "metadata": {},
   "source": [
    "As shown in the above, results are pretty good may be because I am using only three documents and my evaluation question is very straight where inferencing is very easy to demonstrate the concepts in here."
   ]
  },
  {
   "cell_type": "markdown",
   "id": "7b951d03",
   "metadata": {},
   "source": [
    "[^1]: [Generative AI for Cloud Solutions](https://learning.oreilly.com/library/view/generative-ai-for/9781835084786/){:target=\"_blank\"}\n",
    "\n",
    "[^2]: [Building Retrieval Augmented Generation (RAG) Applications with LlamaIndex: From Basic Components to Advanced RAG Systems](https://learning.oreilly.com/course/building-retrieval-augmented/0790145860415/){:target=\"_blank\"}\n",
    "\n",
    "[^3]: [30 Agents Every AI Engineer Must Build](https://learning.oreilly.com/library/view/30-agents-every/9781806109012/){:target=\"_blank\"}\n",
    "\n",
    "[^4]: [Building Data-Driven Applications with LlamaIndex](https://learning.oreilly.com/library/view/building-data-driven-applications/9781835089507/)\n",
    "\n",
    "[^5]: [Effective Conversational AI](https://learning.oreilly.com/library/view/effective-conversational-ai/9781633436404/)\n",
    "\n",
    "{:gtxt: .message color=\"green\"}\n",
    "\n",
    "{:rtxt: .message color=\"red\"}"
   ]
  }
 ],
 "metadata": {
  "kernelspec": {
   "display_name": "rag-llamaindex",
   "language": "python",
   "name": "python3"
  },
  "language_info": {
   "codemirror_mode": {
    "name": "ipython",
    "version": 3
   },
   "file_extension": ".py",
   "mimetype": "text/x-python",
   "name": "python",
   "nbconvert_exporter": "python",
   "pygments_lexer": "ipython3",
   "version": "3.12.11"
  }
 },
 "nbformat": 4,
 "nbformat_minor": 5
}
