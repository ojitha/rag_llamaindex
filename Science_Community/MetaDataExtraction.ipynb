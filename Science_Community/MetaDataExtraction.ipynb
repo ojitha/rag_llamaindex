{
 "cells": [
  {
   "cell_type": "markdown",
   "id": "ddb63fa7",
   "metadata": {},
   "source": "## Metadata Extraction with AWS Bedrock and LlamaIndex\n\nThis comprehensive technical guide demonstrates how to leverage [LlamaIndex metadata extractors](https://docs.llamaindex.ai/en/stable/module_guides/loading/node_parsers/modules/#metadata-extractors) with [AWS Bedrock](https://aws.amazon.com/bedrock/) LLMs to dramatically improve Retrieval-Augmented Generation (RAG) system performance. These extractors enhance document chunks with structured metadata that improves retrieval quality and semantic understanding, enabling more accurate and contextually relevant responses.\n\n### Available Metadata Extractors\n\nLlamaIndex provides several powerful metadata extraction modules that work seamlessly with AWS Bedrock:\n\n- **`SummaryExtractor`** - Automatically generates concise summaries for document nodes/chunks, providing quick content overviews for better retrieval relevance\n- **`QuestionsAnsweredExtractor`** - Identifies and extracts potential questions that each node/chunk can answer, enabling [question-based retrieval strategies](https://docs.llamaindex.ai/en/stable/understanding/querying/querying/)\n- **`TitleExtractor`** - Creates descriptive titles for document chunks based on their content context, improving document organization and navigation\n- **`EntityExtractor`** - Identifies and extracts [named entities](https://en.wikipedia.org/wiki/Named-entity_recognition) (people, places, organizations, concepts) from document content, enabling entity-based search and knowledge graph construction\n- **`PydanticProgramExtractor`** - Uses [structured Pydantic models](https://ojitha.github.io/python/ai/langgraph/langchain/chatgpt/2025/09/07/Python_Type_Annotation.html) to extract custom metadata schemas, providing flexible and type-safe metadata extraction\n\n### Benefits of Metadata Extraction\n\n- **Enhanced Retrieval**: Rich metadata improves semantic matching and retrieval accuracy by providing additional context clues\n- **Better Organization**: Automated titles and summaries help structure large document collections for easier navigation\n- **Query Understanding**: Question extraction enables more intuitive natural language queries and better question-answering capabilities\n- **Knowledge Discovery**: Entity extraction reveals relationships and key concepts across documents, enabling semantic search\n- **Structured Data**: Pydantic models ensure consistent, validated metadata that can be easily processed and filtered\n\n### Technical Implementation\n\nThis notebook demonstrates:\n1. **Basic Extractors**: Using built-in `QuestionsAnsweredExtractor` to generate potential questions from document chunks\n2. **Custom Pydantic Extractors**: Creating structured metadata extraction using custom schemas and AWS Bedrock LLMs\n3. **Performance Comparison**: Comparing retrieval quality between original nodes and metadata-enhanced nodes\n4. **Index Integration**: Building vector indices with enhanced metadata for improved semantic search\n\nThis approach is particularly valuable for scientific literature, research papers, and knowledge-intensive domains where precise information retrieval is critical for generating accurate, contextually relevant responses."
  },
  {
   "cell_type": "code",
   "execution_count": 1,
   "id": "855fa46c",
   "metadata": {},
   "outputs": [
    {
     "name": "stdout",
     "output_type": "stream",
     "text": [
      "{\n",
      "  \"amazon\": [\n",
      "    \"amazon.titan-embed-text-v1\",\n",
      "    \"amazon.titan-embed-text-v2:0\",\n",
      "    \"amazon.titan-embed-g1-text-02\"\n",
      "  ],\n",
      "  \"cohere\": [\n",
      "    \"cohere.embed-english-v3\",\n",
      "    \"cohere.embed-multilingual-v3\"\n",
      "  ]\n",
      "}\n"
     ]
    }
   ],
   "source": [
    "from llama_index.embeddings.bedrock import BedrockEmbedding\n",
    "from llama_index.core import get_response_synthesizer\n",
    "from llama_index.llms.bedrock_converse import BedrockConverse\n",
    "from llama_index.embeddings.bedrock import BedrockEmbedding\n",
    "from llama_index.core import Settings\n",
    "import json\n",
    "\n",
    "supported_models = BedrockEmbedding.list_supported_models()\n",
    "print(json.dumps(supported_models, indent=2))\n",
    "\n",
    "\n",
    "llm = BedrockConverse(model=\"amazon.nova-pro-v1:0\",\n",
    "            temperature=0,\n",
    "            max_tokens=3000\n",
    ")\n",
    "Settings.llm = llm\n",
    "# Basic embedding model setup\n",
    "embed_model = BedrockEmbedding(\n",
    "    model_name=\"amazon.titan-embed-text-v2:0\"\n",
    ")\n",
    "Settings.embed_model = embed_model"
   ]
  },
  {
   "cell_type": "markdown",
   "id": "43796d2c",
   "metadata": {},
   "source": [
    "Helper function:"
   ]
  },
  {
   "cell_type": "code",
   "execution_count": 59,
   "id": "9d826524",
   "metadata": {},
   "outputs": [],
   "source": [
    "from IPython.display import Markdown, display\n",
    "def in_md(md_txt):\n",
    "    md_formated_txt = f\"\"\"--- Response ---   \n",
    "    {md_txt}     \n",
    "    ----\n",
    "    \"\"\"\n",
    "    display(Markdown(md_formated_txt))"
   ]
  },
  {
   "cell_type": "markdown",
   "id": "xohhmsds6",
   "metadata": {},
   "source": [
    "### Node Parser and Metadata Extractors\n",
    "\n",
    "The `TokenTextSplitter` divides documents into 256-token chunks with 128-token overlap to maintain semantic continuity across boundaries. The `QuestionsAnsweredExtractor` automatically generates 3 potential questions each chunk can answer, enriching the metadata for improved retrieval accuracy."
   ]
  },
  {
   "cell_type": "code",
   "execution_count": 2,
   "id": "516af9df",
   "metadata": {},
   "outputs": [],
   "source": [
    "from llama_index.core.node_parser import TokenTextSplitter\n",
    "from llama_index.core.extractors import  QuestionsAnsweredExtractor\n",
    "from llama_index.core.schema import MetadataMode\n",
    "\n",
    "\n",
    "node_parse = TokenTextSplitter(\n",
    "    separator = \" \", chunk_size=256, chunk_overlap=128)\n",
    "\n",
    "question_extractor = QuestionsAnsweredExtractor(\n",
    "    questions= 3, llm=llm, meta_mode=MetadataMode.EMBED\n",
    ")\n"
   ]
  },
  {
   "cell_type": "code",
   "execution_count": 49,
   "id": "31de4118",
   "metadata": {},
   "outputs": [],
   "source": [
    "from llama_index.readers.web import SimpleWebPageReader\n",
    "reader = SimpleWebPageReader(html_to_text=True)\n",
    "docs = reader.load_data(urls=[\"https://www.nobelprize.org/prizes/physics/1921/einstein/biographical/\"])"
   ]
  },
  {
   "cell_type": "markdown",
   "id": "0b0b4590",
   "metadata": {},
   "source": [
    "### Nodes"
   ]
  },
  {
   "cell_type": "code",
   "execution_count": 50,
   "id": "a50aade8",
   "metadata": {},
   "outputs": [
    {
     "name": "stdout",
     "output_type": "stream",
     "text": [
      "('url: https://www.nobelprize.org/prizes/physics/1921/einstein/biographical/\\n'\n",
      " '\\n'\n",
      " '_\\n'\n",
      " '\\n'\n",
      " 'This autobiography/biography was written at the time of the award and first\\n'\n",
      " 'published in the book series [_Les Prix\\n'\n",
      " 'Nobel_](/nobel_organizations/nobelfoundation/publications/lesprix.html). It\\n'\n",
      " 'was later edited and republished in _[Nobel\\n'\n",
      " 'Lectures](/nobel_organizations/nobelfoundation/publications/lectures/index.html)_.\\n'\n",
      " 'To cite this document, always state the source as shown above.\\n'\n",
      " '\\n'\n",
      " '* * *\\n'\n",
      " '\\n'\n",
      " '[](/nobel_prizes/physics/laureates/1921/)* Albert Einstein was formally\\n'\n",
      " 'associated with the Institute for Advanced Study located in Princeton, New\\n'\n",
      " 'Jersey.\\n'\n",
      " '\\n'\n",
      " 'Copyright (C) The Nobel Foundation 1922\\n'\n",
      " '\\n'\n",
      " 'To cite this section  \\n'\n",
      " 'MLA style: Albert Einstein - Biographical. NobelPrize.org. Nobel Prize\\n'\n",
      " 'Outreach 2025. Mon. 15 Sep 2025.\\n'\n",
      " '<https://www.nobelprize.org/prizes/physics/1921/einstein/biographical/>\\n'\n",
      " '\\n'\n",
      " 'Back to top  Back To Top Takes users back to the top of the page\\n'\n",
      " '\\n'\n",
      " '### Nobel Prize announcements')\n"
     ]
    }
   ],
   "source": [
    "orig_nodes = node_parse.get_nodes_from_documents(docs)\n",
    "pprint.pprint(orig_nodes[20:28][3].get_content(metadata_mode='all'))"
   ]
  },
  {
   "cell_type": "code",
   "execution_count": 51,
   "id": "ebf356da",
   "metadata": {},
   "outputs": [
    {
     "name": "stderr",
     "output_type": "stream",
     "text": [
      "100%|██████████| 8/8 [00:06<00:00,  1.24it/s]\n"
     ]
    }
   ],
   "source": [
    "nodes_20_28 = orig_nodes[20:28]\n",
    "nodes_20_28_q = question_extractor(nodes_20_28)"
   ]
  },
  {
   "cell_type": "markdown",
   "id": "af0d8503",
   "metadata": {},
   "source": [
    "### Question extraction\n",
    "\n",
    "This code selects 8 document nodes (indices 20-28) and applies the question extractor to generate potential questions for each chunk. The extractor uses the configured LLM to analyze each node's content and automatically creates 3 relevant questions that the text can answer, enriching the metadata for improved semantic search.\n",
    "\n",
    "> The output contain `questions_this_excerpt_can_answer` metadata that improves semantic matching during retrieval, helping the vector search find more relevant matches when users ask questions."
   ]
  },
  {
   "cell_type": "code",
   "execution_count": 52,
   "id": "d049f263",
   "metadata": {},
   "outputs": [
    {
     "name": "stdout",
     "output_type": "stream",
     "text": [
      "('[Excerpt from document]\\n'\n",
      " 'url: https://www.nobelprize.org/prizes/physics/1921/einstein/biographical/\\n'\n",
      " 'questions_this_excerpt_can_answer: Certainly! Here are three specific '\n",
      " 'questions that this context can provide unique answers to, along with '\n",
      " 'higher-level summaries to frame them:\\n'\n",
      " '\\n'\n",
      " '### Higher-Level Summaries:\\n'\n",
      " '1. **Historical Context of the Nobel Prize Announcement**:\\n'\n",
      " '   The context provides specific details about the announcement and '\n",
      " \"documentation of Albert Einstein's Nobel Prize in Physics in 1921. It \"\n",
      " 'highlights the original publication in \"Les Prix Nobel\" and its later '\n",
      " 'inclusion in \"Nobel Lectures.\"\\n'\n",
      " '\\n'\n",
      " '2. **Associations and Affiliations**:\\n'\n",
      " \"   The biographical information specifies Einstein's formal association with \"\n",
      " 'the Institute for Advanced Study in Princeton, New Jersey, at the time of '\n",
      " 'the award.\\n'\n",
      " '\\n'\n",
      " '3. **Citation and Copyright Information**:\\n'\n",
      " '   The document includes precise citation guidelines in MLA style and '\n",
      " 'specifies the copyright held by The Nobel Foundation.\\n'\n",
      " '\\n'\n",
      " '### Specific Questions:\\n'\n",
      " '\\n'\n",
      " \"1. **What was the original publication in which Albert Einstein's 1921 Nobel \"\n",
      " 'Prize autobiography first appeared, and how was it later republished?**\\n'\n",
      " \"   - **Answer**: Albert Einstein's 1921 Nobel Prize autobiography was first \"\n",
      " 'published in the book series \"Les Prix Nobel.\" It was later edited and '\n",
      " 'republished in \"Nobel Lectures.\"\\n'\n",
      " '\\n'\n",
      " '2. **At the time of receiving the Nobel Prize in Physics in 1921, with which '\n",
      " 'institution was Albert Einstein formally associated?**\\n'\n",
      " '   - **Answer**: At the time of receiving the Nobel Prize in Physics in '\n",
      " '1921, Albert Einstein was formally associated with the Institute for '\n",
      " 'Advanced Study located in Princeton, New Jersey.\\n'\n",
      " '\\n'\n",
      " \"3. **What is the correct MLA citation for Albert Einstein's biographical \"\n",
      " 'information on the NobelPrize.org website as of September 15, 2025?**\\n'\n",
      " '   - **Answer**: The correct MLA citation is: Albert Einstein - '\n",
      " 'Biographical. NobelPrize.org. Nobel Prize Outreach 2025. Mon. 15 Sep 2025. '\n",
      " '<https://www.nobelprize.org/prizes/physics/1921/einstein/biographical/>\\n'\n",
      " 'Excerpt:\\n'\n",
      " '-----\\n'\n",
      " '_\\n'\n",
      " '\\n'\n",
      " 'This autobiography/biography was written at the time of the award and first\\n'\n",
      " 'published in the book series [_Les Prix\\n'\n",
      " 'Nobel_](/nobel_organizations/nobelfoundation/publications/lesprix.html). It\\n'\n",
      " 'was later edited and republished in _[Nobel\\n'\n",
      " 'Lectures](/nobel_organizations/nobelfoundation/publications/lectures/index.html)_.\\n'\n",
      " 'To cite this document, always state the source as shown above.\\n'\n",
      " '\\n'\n",
      " '* * *\\n'\n",
      " '\\n'\n",
      " '[](/nobel_prizes/physics/laureates/1921/)* Albert Einstein was formally\\n'\n",
      " 'associated with the Institute for Advanced Study located in Princeton, New\\n'\n",
      " 'Jersey.\\n'\n",
      " '\\n'\n",
      " 'Copyright (C) The Nobel Foundation 1922\\n'\n",
      " '\\n'\n",
      " 'To cite this section  \\n'\n",
      " 'MLA style: Albert Einstein - Biographical. NobelPrize.org. Nobel Prize\\n'\n",
      " 'Outreach 2025. Mon. 15 Sep 2025.\\n'\n",
      " '<https://www.nobelprize.org/prizes/physics/1921/einstein/biographical/>\\n'\n",
      " '\\n'\n",
      " 'Back to top  Back To Top Takes users back to the top of the page\\n'\n",
      " '\\n'\n",
      " '### Nobel Prize announcements\\n'\n",
      " '-----')\n"
     ]
    }
   ],
   "source": [
    "pprint.pprint(nodes_20_28_q[3].get_content(metadata_mode='all'), indent=2)"
   ]
  },
  {
   "cell_type": "markdown",
   "id": "f2d94c83",
   "metadata": {},
   "source": [
    "## Build indices\n",
    "\n",
    "Two vector store indices are created for performance comparison:\n",
    "\n",
    "- `index_0` - Built from original nodes without metadata enhancement\n",
    "- `index_1` - Metadata enhanced index combining:\n",
    "  - `orig_nodes[:20]` - First 20 original nodes (unchanged)\n",
    "  - `nodes_20_28_q` - Nodes 20-28 enhanced with question metadata from `QuestionsAnsweredExtractor`\n",
    "  - `orig_nodes[28:]` - Remaining original nodes (unchanged)\n",
    "\n",
    "The enhanced nodes contain `questions_this_excerpt_can_answer` metadata that improves semantic matching during retrieval, helping the vector search find more relevant matches when users ask questions."
   ]
  },
  {
   "cell_type": "code",
   "execution_count": 54,
   "id": "56b72a2e",
   "metadata": {},
   "outputs": [],
   "source": [
    "from llama_index.core import VectorStoreIndex\n",
    "from llama_index.core.response.notebook_utils import (\n",
    "    display_source_node, display_response\n",
    ")\n",
    "\n",
    "index_0 = VectorStoreIndex(orig_nodes)\n",
    "index_1 = VectorStoreIndex(orig_nodes[:20]+nodes_20_28_q+orig_nodes[28:])"
   ]
  },
  {
   "cell_type": "markdown",
   "id": "5ddb9e17",
   "metadata": {},
   "source": [
    "Create query engines"
   ]
  },
  {
   "cell_type": "code",
   "execution_count": 57,
   "id": "400231ec",
   "metadata": {},
   "outputs": [],
   "source": [
    "# Query engines\n",
    "query_engine_0 = index_0.as_query_engine(similarity_top_k=1)\n",
    "query_engine_1 = index_1.as_query_engine(similarity_top_k=1)"
   ]
  },
  {
   "cell_type": "markdown",
   "id": "c806fad5",
   "metadata": {},
   "source": [
    "### Question which is not answerable"
   ]
  },
  {
   "cell_type": "code",
   "execution_count": null,
   "id": "d21e1ad9",
   "metadata": {},
   "outputs": [],
   "source": [
    "query_1 = \"What is the photoelectric effect?\""
   ]
  },
  {
   "cell_type": "code",
   "execution_count": 75,
   "id": "a4b9b852",
   "metadata": {},
   "outputs": [],
   "source": [
    "response_1_0 = query_engine_0.query(query_1)\n",
    "response_1_1 = query_engine_1.query(query_1)"
   ]
  },
  {
   "cell_type": "markdown",
   "id": "4dd90fd2",
   "metadata": {},
   "source": [
    "--------- Response_0: --------"
   ]
  },
  {
   "cell_type": "code",
   "execution_count": 76,
   "id": "42015c17",
   "metadata": {},
   "outputs": [
    {
     "data": {
      "text/markdown": [
       "**`Final Response:`** The context provided does not explicitly mention the photoelectric effect. Therefore, based on the given information, I cannot provide an answer to the query about the photoelectric effect."
      ],
      "text/plain": [
       "<IPython.core.display.Markdown object>"
      ]
     },
     "metadata": {},
     "output_type": "display_data"
    },
    {
     "data": {
      "text/markdown": [
       "---"
      ],
      "text/plain": [
       "<IPython.core.display.Markdown object>"
      ]
     },
     "metadata": {},
     "output_type": "display_data"
    },
    {
     "data": {
      "text/markdown": [
       "**`Source Node 1/1`**"
      ],
      "text/plain": [
       "<IPython.core.display.Markdown object>"
      ]
     },
     "metadata": {},
     "output_type": "display_data"
    },
    {
     "data": {
      "text/markdown": [
       "**Node ID:** 9af54332-06a2-4152-b896-397cdcea4e6c<br>**Similarity:** 0.1352490042404992<br>**Text:** the Brownian movement of molecules. He investigated the\n",
       "thermal properties of light with a low radiation density and his observations\n",
       "laid the foundation of the photon theory of light.\n",
       "\n",
       "In his early days in Berlin, Einstein postulated that the correct\n",
       "interpretation of the special theory of relativity must also furnish a theory\n",
       "of gravitation and in 1916 he published his paper on the general theory of\n",
       "relativity. During this time he also contributed to the problems of the theory\n",
       "of radiation and statistical mechanics.\n",
       "\n",
       "In the 1920s, Einstein embarked on the construction of unified field theories,\n",
       "although he continued to work on the probabilistic interpretation of quantum\n",
       "theory, and he persevered with this work in America. He contributed to\n",
       "statistical mechanics by his development of the quantum theory of a monatomic\n",
       "gas and he has also accomplished valuable work in connection with atomic\n",
       "transition probabilities and relativistic cosmology.\n",
       "\n",
       "After his retirement he continued to wor...<br>"
      ],
      "text/plain": [
       "<IPython.core.display.Markdown object>"
      ]
     },
     "metadata": {},
     "output_type": "display_data"
    },
    {
     "data": {
      "text/plain": [
       "{'9af54332-06a2-4152-b896-397cdcea4e6c': {'url': 'https://www.nobelprize.org/prizes/physics/1921/einstein/biographical/'}}"
      ]
     },
     "metadata": {},
     "output_type": "display_data"
    }
   ],
   "source": [
    "\n",
    "display_response(response_1_0 \n",
    "    , source_length=1000\n",
    "    , show_source=True\n",
    "    , show_metadata=True)\n"
   ]
  },
  {
   "cell_type": "markdown",
   "id": "9618e463",
   "metadata": {},
   "source": [
    "--------- response_1: --------"
   ]
  },
  {
   "cell_type": "code",
   "execution_count": 77,
   "id": "e44996b3",
   "metadata": {},
   "outputs": [
    {
     "data": {
      "text/markdown": [
       "**`Final Response:`** The photoelectric effect is not explicitly mentioned in the provided context. However, it can be inferred that Einstein's investigations into the thermal properties of light with a low radiation density and his observations that laid the foundation of the photon theory of light are related to the principles underlying the photoelectric effect. The photoelectric effect demonstrates that light can be thought of as consisting of particles, or photons, which can eject electrons from a material when they strike it. This concept is foundational to the photon theory of light."
      ],
      "text/plain": [
       "<IPython.core.display.Markdown object>"
      ]
     },
     "metadata": {},
     "output_type": "display_data"
    },
    {
     "data": {
      "text/markdown": [
       "---"
      ],
      "text/plain": [
       "<IPython.core.display.Markdown object>"
      ]
     },
     "metadata": {},
     "output_type": "display_data"
    },
    {
     "data": {
      "text/markdown": [
       "**`Source Node 1/1`**"
      ],
      "text/plain": [
       "<IPython.core.display.Markdown object>"
      ]
     },
     "metadata": {},
     "output_type": "display_data"
    },
    {
     "data": {
      "text/markdown": [
       "**Node ID:** 9af54332-06a2-4152-b896-397cdcea4e6c<br>**Similarity:** 0.1352490042404992<br>**Text:** the Brownian movement of molecules. He investigated the\n",
       "thermal properties of light with a low radiation density and his observations\n",
       "laid the foundation of the photon theory of light.\n",
       "\n",
       "In his early days in Berlin, Einstein postulated that the correct\n",
       "interpretation of the special theory of relativity must also furnish a theory\n",
       "of gravitation and in 1916 he published his paper on the general theory of\n",
       "relativity. During this time he also contributed to the problems of the theory\n",
       "of radiation and statistical mechanics.\n",
       "\n",
       "In the 1920s, Einstein embarked on the construction of unified field theories,\n",
       "although he continued to work on the probabilistic interpretation of quantum\n",
       "theory, and he persevered with this work in America. He contributed to\n",
       "statistical mechanics by his development of the quantum theory of a monatomic\n",
       "gas and he has also accomplished valuable work in connection with atomic\n",
       "transition probabilities and relativistic cosmology.\n",
       "\n",
       "After his retirement he continued to wor...<br>"
      ],
      "text/plain": [
       "<IPython.core.display.Markdown object>"
      ]
     },
     "metadata": {},
     "output_type": "display_data"
    },
    {
     "data": {
      "text/plain": [
       "{'9af54332-06a2-4152-b896-397cdcea4e6c': {'url': 'https://www.nobelprize.org/prizes/physics/1921/einstein/biographical/'}}"
      ]
     },
     "metadata": {},
     "output_type": "display_data"
    }
   ],
   "source": [
    "display_response(response_1_1 \n",
    "    , source_length=1000\n",
    "    , show_source=True\n",
    "    , show_metadata=True)\n"
   ]
  },
  {
   "cell_type": "markdown",
   "id": "638c9b4e",
   "metadata": {},
   "source": [
    "------------------------------"
   ]
  },
  {
   "cell_type": "code",
   "execution_count": 78,
   "id": "1ca7d5dd",
   "metadata": {},
   "outputs": [],
   "source": [
    "query_2= \"What was the original publication in which Albert Einstein's 1921 Nobel?\""
   ]
  },
  {
   "cell_type": "code",
   "execution_count": 79,
   "id": "8a2205c8",
   "metadata": {},
   "outputs": [],
   "source": [
    "response_2_0 = query_engine_0.query(query_2)\n",
    "response_2_1 = query_engine_1.query(query_2)"
   ]
  },
  {
   "cell_type": "markdown",
   "id": "86cd5891",
   "metadata": {},
   "source": [
    "--------- Response_0: --------"
   ]
  },
  {
   "cell_type": "code",
   "execution_count": 80,
   "id": "3d38456d",
   "metadata": {},
   "outputs": [
    {
     "data": {
      "text/markdown": [
       "**`Final Response:`** Albert Einstein's 1921 Nobel Prize autobiography was first published in the book series \"Les Prix Nobel.\""
      ],
      "text/plain": [
       "<IPython.core.display.Markdown object>"
      ]
     },
     "metadata": {},
     "output_type": "display_data"
    },
    {
     "data": {
      "text/markdown": [
       "---"
      ],
      "text/plain": [
       "<IPython.core.display.Markdown object>"
      ]
     },
     "metadata": {},
     "output_type": "display_data"
    },
    {
     "data": {
      "text/markdown": [
       "**`Source Node 1/1`**"
      ],
      "text/plain": [
       "<IPython.core.display.Markdown object>"
      ]
     },
     "metadata": {},
     "output_type": "display_data"
    },
    {
     "data": {
      "text/markdown": [
       "**Node ID:** 19fdaaa8-b8c7-444c-bb4b-cb141b590de9<br>**Similarity:** 0.6599053823598307<br>**Text:** _\n",
       "\n",
       "This autobiography/biography was written at the time of the award and first\n",
       "published in the book series [_Les Prix\n",
       "Nobel_](/nobel_organizations/nobelfoundation/publications/lesprix.html). It\n",
       "was later edited and republished in _[Nobel\n",
       "Lectures](/nobel_organizations/nobelfoundation/publications/lectures/index.html)_.\n",
       "To cite this document, always state the source as shown above.\n",
       "\n",
       "* * *\n",
       "\n",
       "[](/nobel_prizes/physics/laureates/1921/)* Albert Einstein was formally\n",
       "associated with the Institute for Advanced Study located in Princeton, New\n",
       "Jersey.\n",
       "\n",
       "Copyright (C) The Nobel Foundation 1922\n",
       "\n",
       "To cite this section  \n",
       "MLA style: Albert Einstein - Biographical. NobelPrize.org. Nobel Prize\n",
       "Outreach 2025. Mon. 15 Sep 2025.\n",
       "<https://www.nobelprize.org/prizes/physics/1921/einstein/biographical/>\n",
       "\n",
       "Back to top  Back To Top Takes users back to the top of the page\n",
       "\n",
       "### Nobel Prize announcements<br>"
      ],
      "text/plain": [
       "<IPython.core.display.Markdown object>"
      ]
     },
     "metadata": {},
     "output_type": "display_data"
    },
    {
     "data": {
      "text/plain": [
       "{'19fdaaa8-b8c7-444c-bb4b-cb141b590de9': {'url': 'https://www.nobelprize.org/prizes/physics/1921/einstein/biographical/',\n",
       "  'questions_this_excerpt_can_answer': 'Certainly! Here are three specific questions that this context can provide unique answers to, along with higher-level summaries to frame them:\\n\\n### Higher-Level Summaries:\\n1. **Historical Context of the Nobel Prize Announcement**:\\n   The context provides specific details about the announcement and documentation of Albert Einstein\\'s Nobel Prize in Physics in 1921. It highlights the original publication in \"Les Prix Nobel\" and its later inclusion in \"Nobel Lectures.\"\\n\\n2. **Associations and Affiliations**:\\n   The biographical information specifies Einstein\\'s formal association with the Institute for Advanced Study in Princeton, New Jersey, at the time of the award.\\n\\n3. **Citation and Copyright Information**:\\n   The document includes precise citation guidelines in MLA style and specifies the copyright held by The Nobel Foundation.\\n\\n### Specific Questions:\\n\\n1. **What was the original publication in which Albert Einstein\\'s 1921 Nobel Prize autobiography first appeared, and how was it later republished?**\\n   - **Answer**: Albert Einstein\\'s 1921 Nobel Prize autobiography was first published in the book series \"Les Prix Nobel.\" It was later edited and republished in \"Nobel Lectures.\"\\n\\n2. **At the time of receiving the Nobel Prize in Physics in 1921, with which institution was Albert Einstein formally associated?**\\n   - **Answer**: At the time of receiving the Nobel Prize in Physics in 1921, Albert Einstein was formally associated with the Institute for Advanced Study located in Princeton, New Jersey.\\n\\n3. **What is the correct MLA citation for Albert Einstein\\'s biographical information on the NobelPrize.org website as of September 15, 2025?**\\n   - **Answer**: The correct MLA citation is: Albert Einstein - Biographical. NobelPrize.org. Nobel Prize Outreach 2025. Mon. 15 Sep 2025. <https://www.nobelprize.org/prizes/physics/1921/einstein/biographical/>'}}"
      ]
     },
     "metadata": {},
     "output_type": "display_data"
    }
   ],
   "source": [
    "\n",
    "display_response(response_2_0 \n",
    "    , source_length=1000\n",
    "    , show_source=True\n",
    "    , show_metadata=True)\n"
   ]
  },
  {
   "cell_type": "markdown",
   "id": "483b6e60",
   "metadata": {},
   "source": [
    "--------- response_1: --------"
   ]
  },
  {
   "cell_type": "code",
   "execution_count": 81,
   "id": "9706f88f",
   "metadata": {},
   "outputs": [
    {
     "data": {
      "text/markdown": [
       "**`Final Response:`** Albert Einstein's 1921 Nobel Prize autobiography was first published in the book series \"Les Prix Nobel.\""
      ],
      "text/plain": [
       "<IPython.core.display.Markdown object>"
      ]
     },
     "metadata": {},
     "output_type": "display_data"
    },
    {
     "data": {
      "text/markdown": [
       "---"
      ],
      "text/plain": [
       "<IPython.core.display.Markdown object>"
      ]
     },
     "metadata": {},
     "output_type": "display_data"
    },
    {
     "data": {
      "text/markdown": [
       "**`Source Node 1/1`**"
      ],
      "text/plain": [
       "<IPython.core.display.Markdown object>"
      ]
     },
     "metadata": {},
     "output_type": "display_data"
    },
    {
     "data": {
      "text/markdown": [
       "**Node ID:** 19fdaaa8-b8c7-444c-bb4b-cb141b590de9<br>**Similarity:** 0.6599053823598307<br>**Text:** _\n",
       "\n",
       "This autobiography/biography was written at the time of the award and first\n",
       "published in the book series [_Les Prix\n",
       "Nobel_](/nobel_organizations/nobelfoundation/publications/lesprix.html). It\n",
       "was later edited and republished in _[Nobel\n",
       "Lectures](/nobel_organizations/nobelfoundation/publications/lectures/index.html)_.\n",
       "To cite this document, always state the source as shown above.\n",
       "\n",
       "* * *\n",
       "\n",
       "[](/nobel_prizes/physics/laureates/1921/)* Albert Einstein was formally\n",
       "associated with the Institute for Advanced Study located in Princeton, New\n",
       "Jersey.\n",
       "\n",
       "Copyright (C) The Nobel Foundation 1922\n",
       "\n",
       "To cite this section  \n",
       "MLA style: Albert Einstein - Biographical. NobelPrize.org. Nobel Prize\n",
       "Outreach 2025. Mon. 15 Sep 2025.\n",
       "<https://www.nobelprize.org/prizes/physics/1921/einstein/biographical/>\n",
       "\n",
       "Back to top  Back To Top Takes users back to the top of the page\n",
       "\n",
       "### Nobel Prize announcements<br>"
      ],
      "text/plain": [
       "<IPython.core.display.Markdown object>"
      ]
     },
     "metadata": {},
     "output_type": "display_data"
    },
    {
     "data": {
      "text/plain": [
       "{'19fdaaa8-b8c7-444c-bb4b-cb141b590de9': {'url': 'https://www.nobelprize.org/prizes/physics/1921/einstein/biographical/',\n",
       "  'questions_this_excerpt_can_answer': 'Certainly! Here are three specific questions that this context can provide unique answers to, along with higher-level summaries to frame them:\\n\\n### Higher-Level Summaries:\\n1. **Historical Context of the Nobel Prize Announcement**:\\n   The context provides specific details about the announcement and documentation of Albert Einstein\\'s Nobel Prize in Physics in 1921. It highlights the original publication in \"Les Prix Nobel\" and its later inclusion in \"Nobel Lectures.\"\\n\\n2. **Associations and Affiliations**:\\n   The biographical information specifies Einstein\\'s formal association with the Institute for Advanced Study in Princeton, New Jersey, at the time of the award.\\n\\n3. **Citation and Copyright Information**:\\n   The document includes precise citation guidelines in MLA style and specifies the copyright held by The Nobel Foundation.\\n\\n### Specific Questions:\\n\\n1. **What was the original publication in which Albert Einstein\\'s 1921 Nobel Prize autobiography first appeared, and how was it later republished?**\\n   - **Answer**: Albert Einstein\\'s 1921 Nobel Prize autobiography was first published in the book series \"Les Prix Nobel.\" It was later edited and republished in \"Nobel Lectures.\"\\n\\n2. **At the time of receiving the Nobel Prize in Physics in 1921, with which institution was Albert Einstein formally associated?**\\n   - **Answer**: At the time of receiving the Nobel Prize in Physics in 1921, Albert Einstein was formally associated with the Institute for Advanced Study located in Princeton, New Jersey.\\n\\n3. **What is the correct MLA citation for Albert Einstein\\'s biographical information on the NobelPrize.org website as of September 15, 2025?**\\n   - **Answer**: The correct MLA citation is: Albert Einstein - Biographical. NobelPrize.org. Nobel Prize Outreach 2025. Mon. 15 Sep 2025. <https://www.nobelprize.org/prizes/physics/1921/einstein/biographical/>'}}"
      ]
     },
     "metadata": {},
     "output_type": "display_data"
    }
   ],
   "source": [
    "display_response(response_2_1 \n",
    "    , source_length=1000\n",
    "    , show_source=True\n",
    "    , show_metadata=True)\n"
   ]
  },
  {
   "cell_type": "markdown",
   "id": "0cbf832c",
   "metadata": {},
   "source": [
    "------------------------------"
   ]
  },
  {
   "cell_type": "markdown",
   "id": "320d3f7e",
   "metadata": {},
   "source": [
    "### Question already extracted"
   ]
  },
  {
   "cell_type": "code",
   "execution_count": null,
   "id": "65d872cd",
   "metadata": {},
   "outputs": [],
   "source": [
    "query_2 = \"Why did Albert Einstein awarded the Nobel Prize in Physics? \""
   ]
  },
  {
   "cell_type": "code",
   "execution_count": null,
   "id": "67f34001",
   "metadata": {},
   "outputs": [],
   "source": [
    "response_1_0 = query_engine_0.query(query_1)\n",
    "response_1_1 = query_engine_1.query(query_1)"
   ]
  },
  {
   "cell_type": "markdown",
   "id": "e6253b1a",
   "metadata": {},
   "source": [
    "--------- Response_0: --------"
   ]
  },
  {
   "cell_type": "code",
   "execution_count": null,
   "id": "951580c4",
   "metadata": {},
   "outputs": [
    {
     "data": {
      "text/markdown": [
       "**`Final Response:`** The context provided does not explicitly mention the photoelectric effect. Therefore, based on the given information, I cannot provide an answer to the query about the photoelectric effect."
      ],
      "text/plain": [
       "<IPython.core.display.Markdown object>"
      ]
     },
     "metadata": {},
     "output_type": "display_data"
    },
    {
     "data": {
      "text/markdown": [
       "---"
      ],
      "text/plain": [
       "<IPython.core.display.Markdown object>"
      ]
     },
     "metadata": {},
     "output_type": "display_data"
    },
    {
     "data": {
      "text/markdown": [
       "**`Source Node 1/1`**"
      ],
      "text/plain": [
       "<IPython.core.display.Markdown object>"
      ]
     },
     "metadata": {},
     "output_type": "display_data"
    },
    {
     "data": {
      "text/markdown": [
       "**Node ID:** 9af54332-06a2-4152-b896-397cdcea4e6c<br>**Similarity:** 0.1352490042404992<br>**Text:** the Brownian movement of molecules. He investigated the\n",
       "thermal properties of light with a low radiation density and his observations\n",
       "laid the foundation of the photon theory of light.\n",
       "\n",
       "In his early days in Berlin, Einstein postulated that the correct\n",
       "interpretation of the special theory of relativity must also furnish a theory\n",
       "of gravitation and in 1916 he published his paper on the general theory of\n",
       "relativity. During this time he also contributed to the problems of the theory\n",
       "of radiation and statistical mechanics.\n",
       "\n",
       "In the 1920s, Einstein embarked on the construction of unified field theories,\n",
       "although he continued to work on the probabilistic interpretation of quantum\n",
       "theory, and he persevered with this work in America. He contributed to\n",
       "statistical mechanics by his development of the quantum theory of a monatomic\n",
       "gas and he has also accomplished valuable work in connection with atomic\n",
       "transition probabilities and relativistic cosmology.\n",
       "\n",
       "After his retirement he continued to wor...<br>"
      ],
      "text/plain": [
       "<IPython.core.display.Markdown object>"
      ]
     },
     "metadata": {},
     "output_type": "display_data"
    },
    {
     "data": {
      "text/plain": [
       "{'9af54332-06a2-4152-b896-397cdcea4e6c': {'url': 'https://www.nobelprize.org/prizes/physics/1921/einstein/biographical/'}}"
      ]
     },
     "metadata": {},
     "output_type": "display_data"
    }
   ],
   "source": [
    "\n",
    "display_response(response_1_0 \n",
    "    , source_length=1000\n",
    "    , show_source=True\n",
    "    , show_metadata=True)\n"
   ]
  },
  {
   "cell_type": "markdown",
   "id": "b1a69c4b",
   "metadata": {},
   "source": [
    "--------- response_1: --------"
   ]
  },
  {
   "cell_type": "code",
   "execution_count": null,
   "id": "f839a955",
   "metadata": {},
   "outputs": [
    {
     "data": {
      "text/markdown": [
       "**`Final Response:`** The photoelectric effect is not explicitly mentioned in the provided context. However, it can be inferred that Einstein's investigations into the thermal properties of light with a low radiation density and his observations that laid the foundation of the photon theory of light are related to the principles underlying the photoelectric effect. The photoelectric effect demonstrates that light can be thought of as consisting of particles, or photons, which can eject electrons from a material when they strike it. This concept is foundational to the photon theory of light."
      ],
      "text/plain": [
       "<IPython.core.display.Markdown object>"
      ]
     },
     "metadata": {},
     "output_type": "display_data"
    },
    {
     "data": {
      "text/markdown": [
       "---"
      ],
      "text/plain": [
       "<IPython.core.display.Markdown object>"
      ]
     },
     "metadata": {},
     "output_type": "display_data"
    },
    {
     "data": {
      "text/markdown": [
       "**`Source Node 1/1`**"
      ],
      "text/plain": [
       "<IPython.core.display.Markdown object>"
      ]
     },
     "metadata": {},
     "output_type": "display_data"
    },
    {
     "data": {
      "text/markdown": [
       "**Node ID:** 9af54332-06a2-4152-b896-397cdcea4e6c<br>**Similarity:** 0.1352490042404992<br>**Text:** the Brownian movement of molecules. He investigated the\n",
       "thermal properties of light with a low radiation density and his observations\n",
       "laid the foundation of the photon theory of light.\n",
       "\n",
       "In his early days in Berlin, Einstein postulated that the correct\n",
       "interpretation of the special theory of relativity must also furnish a theory\n",
       "of gravitation and in 1916 he published his paper on the general theory of\n",
       "relativity. During this time he also contributed to the problems of the theory\n",
       "of radiation and statistical mechanics.\n",
       "\n",
       "In the 1920s, Einstein embarked on the construction of unified field theories,\n",
       "although he continued to work on the probabilistic interpretation of quantum\n",
       "theory, and he persevered with this work in America. He contributed to\n",
       "statistical mechanics by his development of the quantum theory of a monatomic\n",
       "gas and he has also accomplished valuable work in connection with atomic\n",
       "transition probabilities and relativistic cosmology.\n",
       "\n",
       "After his retirement he continued to wor...<br>"
      ],
      "text/plain": [
       "<IPython.core.display.Markdown object>"
      ]
     },
     "metadata": {},
     "output_type": "display_data"
    },
    {
     "data": {
      "text/plain": [
       "{'9af54332-06a2-4152-b896-397cdcea4e6c': {'url': 'https://www.nobelprize.org/prizes/physics/1921/einstein/biographical/'}}"
      ]
     },
     "metadata": {},
     "output_type": "display_data"
    }
   ],
   "source": [
    "display_response(response_1_1 \n",
    "    , source_length=1000\n",
    "    , show_source=True\n",
    "    , show_metadata=True)\n"
   ]
  },
  {
   "cell_type": "markdown",
   "id": "b4e796f3",
   "metadata": {},
   "source": [
    "------------------------------"
   ]
  },
  {
   "cell_type": "markdown",
   "id": "a0f172f5",
   "metadata": {},
   "source": [
    "### New Question"
   ]
  },
  {
   "cell_type": "code",
   "execution_count": 91,
   "id": "e1024b15",
   "metadata": {},
   "outputs": [],
   "source": [
    "query_3 = \"In his early days in Berlin, What was Einstein postulated?\""
   ]
  },
  {
   "cell_type": "code",
   "execution_count": 92,
   "id": "b2c6f1e5",
   "metadata": {},
   "outputs": [],
   "source": [
    "response_3_0 = query_engine_0.query(query_3)\n",
    "response_3_1 = query_engine_1.query(query_3)"
   ]
  },
  {
   "cell_type": "markdown",
   "id": "91293d3a",
   "metadata": {},
   "source": [
    "--------- Response_0: --------"
   ]
  },
  {
   "cell_type": "code",
   "execution_count": 93,
   "id": "8c72572f",
   "metadata": {},
   "outputs": [
    {
     "data": {
      "text/markdown": [
       "**`Final Response:`** In his early days in Berlin, Einstein postulated that the correct interpretation of the special theory of relativity must also furnish a theory of gravitation."
      ],
      "text/plain": [
       "<IPython.core.display.Markdown object>"
      ]
     },
     "metadata": {},
     "output_type": "display_data"
    },
    {
     "data": {
      "text/markdown": [
       "---"
      ],
      "text/plain": [
       "<IPython.core.display.Markdown object>"
      ]
     },
     "metadata": {},
     "output_type": "display_data"
    },
    {
     "data": {
      "text/markdown": [
       "**`Source Node 1/1`**"
      ],
      "text/plain": [
       "<IPython.core.display.Markdown object>"
      ]
     },
     "metadata": {},
     "output_type": "display_data"
    },
    {
     "data": {
      "text/markdown": [
       "**Node ID:** 7d309b43-b600-4ab7-8c00-46df30c92f58<br>**Similarity:** 0.5993445308060565<br>**Text:** stages on the way to his goal. He regarded his major\n",
       "achievements as mere stepping-stones for the next advance.\n",
       "\n",
       "At the start of his scientific work, Einstein realized the inadequacies of\n",
       "Newtonian mechanics and his special theory of relativity stemmed from an\n",
       "attempt to reconcile the laws of mechanics with the laws of the\n",
       "electromagnetic field. He dealt with classical problems of statistical\n",
       "mechanics and problems in which they were merged with quantum theory: this led\n",
       "to an explanation of the Brownian movement of molecules. He investigated the\n",
       "thermal properties of light with a low radiation density and his observations\n",
       "laid the foundation of the photon theory of light.\n",
       "\n",
       "In his early days in Berlin, Einstein postulated that the correct\n",
       "interpretation of the special theory of relativity must also furnish a theory\n",
       "of gravitation and in 1916 he published his paper on the general theory of\n",
       "relativity. During this time he also contributed to the problems of the theory\n",
       "of radiation and ...<br>"
      ],
      "text/plain": [
       "<IPython.core.display.Markdown object>"
      ]
     },
     "metadata": {},
     "output_type": "display_data"
    },
    {
     "data": {
      "text/plain": [
       "{'7d309b43-b600-4ab7-8c00-46df30c92f58': {'url': 'https://www.nobelprize.org/prizes/physics/1921/einstein/biographical/'}}"
      ]
     },
     "metadata": {},
     "output_type": "display_data"
    }
   ],
   "source": [
    "\n",
    "display_response(response_3_0 \n",
    "    , source_length=1000\n",
    "    , show_source=True\n",
    "    , show_metadata=True)\n"
   ]
  },
  {
   "cell_type": "markdown",
   "id": "ac5a8336",
   "metadata": {},
   "source": [
    "--------- response_1: --------"
   ]
  },
  {
   "cell_type": "code",
   "execution_count": 94,
   "id": "151fbfe5",
   "metadata": {},
   "outputs": [
    {
     "data": {
      "text/markdown": [
       "**`Final Response:`** In his early days in Berlin, Einstein postulated that the correct interpretation of the special theory of relativity must also furnish a theory of gravitation."
      ],
      "text/plain": [
       "<IPython.core.display.Markdown object>"
      ]
     },
     "metadata": {},
     "output_type": "display_data"
    },
    {
     "data": {
      "text/markdown": [
       "---"
      ],
      "text/plain": [
       "<IPython.core.display.Markdown object>"
      ]
     },
     "metadata": {},
     "output_type": "display_data"
    },
    {
     "data": {
      "text/markdown": [
       "**`Source Node 1/1`**"
      ],
      "text/plain": [
       "<IPython.core.display.Markdown object>"
      ]
     },
     "metadata": {},
     "output_type": "display_data"
    },
    {
     "data": {
      "text/markdown": [
       "**Node ID:** 7d309b43-b600-4ab7-8c00-46df30c92f58<br>**Similarity:** 0.5993445308060565<br>**Text:** stages on the way to his goal. He regarded his major\n",
       "achievements as mere stepping-stones for the next advance.\n",
       "\n",
       "At the start of his scientific work, Einstein realized the inadequacies of\n",
       "Newtonian mechanics and his special theory of relativity stemmed from an\n",
       "attempt to reconcile the laws of mechanics with the laws of the\n",
       "electromagnetic field. He dealt with classical problems of statistical\n",
       "mechanics and problems in which they were merged with quantum theory: this led\n",
       "to an explanation of the Brownian movement of molecules. He investigated the\n",
       "thermal properties of light with a low radiation density and his observations\n",
       "laid the foundation of the photon theory of light.\n",
       "\n",
       "In his early days in Berlin, Einstein postulated that the correct\n",
       "interpretation of the special theory of relativity must also furnish a theory\n",
       "of gravitation and in 1916 he published his paper on the general theory of\n",
       "relativity. During this time he also contributed to the problems of the theory\n",
       "of radiation and ...<br>"
      ],
      "text/plain": [
       "<IPython.core.display.Markdown object>"
      ]
     },
     "metadata": {},
     "output_type": "display_data"
    },
    {
     "data": {
      "text/plain": [
       "{'7d309b43-b600-4ab7-8c00-46df30c92f58': {'url': 'https://www.nobelprize.org/prizes/physics/1921/einstein/biographical/'}}"
      ]
     },
     "metadata": {},
     "output_type": "display_data"
    }
   ],
   "source": [
    "display_response(response_3_1 \n",
    "    , source_length=1000\n",
    "    , show_source=True\n",
    "    , show_metadata=True)\n"
   ]
  },
  {
   "cell_type": "markdown",
   "id": "46fd65e4",
   "metadata": {},
   "source": [
    "------------------------------"
   ]
  },
  {
   "cell_type": "markdown",
   "id": "23668e54",
   "metadata": {},
   "source": "## Use of Pydantic Model\nDefine a basic [structured schema](https://ojitha.github.io/python/ai/langgraph/langchain/chatgpt/2025/09/07/Python_Type_Annotation.html) that we want to extract:"
  },
  {
   "cell_type": "code",
   "execution_count": 95,
   "id": "cc00b22c",
   "metadata": {},
   "outputs": [],
   "source": [
    "from pydantic import BaseModel, Field\n",
    "class NodeMetadata(BaseModel):\n",
    "    entities: list[str] = Field(\n",
    "        ..., description=\"Unique entities in this text chunk.\"\n",
    "    )\n",
    "    summary: str = Field(\n",
    "        ..., description=\"A concise summary of this text chunk\"\n",
    "    )"
   ]
  },
  {
   "cell_type": "markdown",
   "id": "178e026e",
   "metadata": {},
   "source": [
    "### Extractor\n",
    "\n",
    "The extractor combines a Pydantic schema with LlamaIndex's `LLMTextCompletionProgram` to create structured metadata extraction. It uses the Bedrock LLM to analyze document nodes and extract entities and summaries according to the defined `NodeMetadata` model. "
   ]
  },
  {
   "cell_type": "code",
   "execution_count": 101,
   "id": "76f06941",
   "metadata": {},
   "outputs": [],
   "source": [
    "extractor_template = \"\"\"\\\n",
    "Here is the content of the section:\n",
    "-------------\n",
    "{context_str}\n",
    "-------------\n",
    "Given the contextual information, extract out a {class_name} object.\\\n",
    "\"\"\""
   ]
  },
  {
   "cell_type": "markdown",
   "id": "8061d02f",
   "metadata": {},
   "source": [
    "Above `extractor_template` provides the prompt structure that instructs the LLM how to process the document content and extract the required schema fields."
   ]
  },
  {
   "cell_type": "code",
   "execution_count": 118,
   "id": "2b41f9cf",
   "metadata": {},
   "outputs": [],
   "source": [
    "# bedrock PyDantic\n",
    "from llama_index.core.program import LLMTextCompletionProgram\n",
    "\n",
    "# Create program with Bedrock LLM\n",
    "bedrock_program = LLMTextCompletionProgram.from_defaults(\n",
    "    output_cls=NodeMetadata  # your output schema\n",
    "    , prompt_template_str=\"{input}\"\n",
    "    , llm=llm\n",
    "    , extractor_template =extractor_template\n",
    ")\n"
   ]
  },
  {
   "cell_type": "code",
   "execution_count": 119,
   "id": "db9f0e42",
   "metadata": {},
   "outputs": [],
   "source": [
    "from llama_index.core.extractors import PydanticProgramExtractor\n",
    "\n",
    "metadata_extractor = PydanticProgramExtractor(\n",
    "    program=bedrock_program, input_key=\"input\", show_progress=True\n",
    ")"
   ]
  },
  {
   "cell_type": "code",
   "execution_count": null,
   "id": "87ec5c47",
   "metadata": {},
   "outputs": [
    {
     "name": "stderr",
     "output_type": "stream",
     "text": [
      "100%|██████████| 1/1 [00:02<00:00,  2.04s/it]\n"
     ]
    }
   ],
   "source": [
    "extract_metadata = metadata_extractor.extract(orig_nodes[0:1])"
   ]
  },
  {
   "cell_type": "code",
   "execution_count": 125,
   "id": "7b24c707",
   "metadata": {},
   "outputs": [
    {
     "data": {
      "text/plain": [
       "[{'entities': ['https://www.nobelprize.org/prizes/physics/1921/einstein/biographical/',\n",
       "   'Nobel Prizes & laureates',\n",
       "   'All Nobel Prizes',\n",
       "   'All Nobel Prizes 2024',\n",
       "   'Physics prize',\n",
       "   'Chemistry prize',\n",
       "   'Medicine prize',\n",
       "   'Literature prize',\n",
       "   'Peace prize',\n",
       "   'Prize in economic sciences',\n",
       "   'About',\n",
       "   'About the prize',\n",
       "   'Alfred'],\n",
       "  'summary': 'The content is a section from the Nobel Prize website, specifically focusing on the biographical information of Albert Einstein, who won the Nobel Prize in Physics in 1921. It includes navigation links to various Nobel Prizes categories and information about the Nobel Prizes.'}]"
      ]
     },
     "execution_count": 125,
     "metadata": {},
     "output_type": "execute_result"
    }
   ],
   "source": [
    "extract_metadata"
   ]
  },
  {
   "cell_type": "markdown",
   "id": "496565cc",
   "metadata": {},
   "source": [
    "### Metadata Nodes\n",
    "\n",
    "The `metadata_nodes` represent the original document nodes enhanced with structured metadata extracted using the Pydantic model. Unlike the raw extraction dictionary, these nodes retain their original text content while adding the extracted entities and summary to their metadata fields, making them ready for indexing and retrieval with enriched semantic information."
   ]
  },
  {
   "cell_type": "code",
   "execution_count": 126,
   "id": "82d32353",
   "metadata": {},
   "outputs": [
    {
     "name": "stderr",
     "output_type": "stream",
     "text": [
      "100%|██████████| 1/1 [00:00<00:00,  1.03it/s]\n"
     ]
    }
   ],
   "source": [
    "metadata_nodes = metadata_extractor.process_nodes(orig_nodes[0:1])"
   ]
  },
  {
   "cell_type": "code",
   "execution_count": 133,
   "id": "9f94d1a6",
   "metadata": {},
   "outputs": [
    {
     "data": {
      "text/plain": [
       "[TextNode(id_='cab40088-3371-4bbe-9fde-9e0cb549df07', embedding=None, metadata={'url': 'https://www.nobelprize.org/prizes/physics/1921/einstein/biographical/', 'entities': ['https://www.nobelprize.org/prizes/physics/1921/einstein/biographical/', 'Nobel Prizes & laureates', 'All Nobel Prizes', 'All Nobel Prizes 2024', 'Physics prize', 'Chemistry prize', 'Medicine prize', 'Literature prize', 'Peace prize', 'Prize in economic sciences', 'About', 'About the prize', 'Alfred'], 'summary': 'The content is a section from the Nobel Prize website, specifically focusing on the biographical information of Albert Einstein, who won the 1921 Nobel Prize in Physics. It includes navigation links to various Nobel Prizes categories and information about the prizes.'}, excluded_embed_metadata_keys=[], excluded_llm_metadata_keys=[], relationships={<NodeRelationship.SOURCE: '1'>: RelatedNodeInfo(node_id='35ceaca2-31bf-471a-92ae-7754022ca516', node_type=<ObjectType.DOCUMENT: '4'>, metadata={'url': 'https://www.nobelprize.org/prizes/physics/1921/einstein/biographical/'}, hash='597fa035338c2e6f0e70ac9e1a81c0f65d5f07fadc889cfca7be8f53717225f3'), <NodeRelationship.NEXT: '3'>: RelatedNodeInfo(node_id='7a33f6e4-9032-4b4a-95be-85b5f318ad8d', node_type=<ObjectType.TEXT: '1'>, metadata={}, hash='545d8abe5a45711f369e9731770929332fdd106a4da06920e04d3dfe8d7006dd')}, metadata_template='{key}: {value}', metadata_separator='\\n', text='Skip to content\\n\\n#  [ ](https://www.nobelprize.org)\\n\\nOpen the search menu Close the search menu Close Mobile Menu\\n\\nToggle Mobile Menu\\n\\n  * [Nobel Prizes & laureates](/prizes/)\\n    * [All Nobel Prizes](/prizes/lists/all-nobel-prizes/)\\n    * [All Nobel Prizes 2024](https://www.nobelprize.org/all-nobel-prizes-2024/)\\n    * [Physics prize](/prizes/physics/)\\n    * [Chemistry prize](/prizes/chemistry/)\\n    * [Medicine prize](/prizes/medicine/)\\n    * [Literature prize](/prizes/literature/)\\n    * [Peace prize](/prizes/peace/)\\n    * [Prize in economic sciences](/prizes/economic-sciences/)\\n  * [About](javascript:void\\\\(0\\\\);)\\n    * [About the prize](/about-the-nobel-prize/)\\n    * [Alfred', mimetype='text/plain', start_char_idx=0, end_char_idx=683, metadata_seperator='\\n', text_template='[Excerpt from document]\\n{metadata_str}\\nExcerpt:\\n-----\\n{content}\\n-----\\n')]"
      ]
     },
     "execution_count": 133,
     "metadata": {},
     "output_type": "execute_result"
    }
   ],
   "source": [
    "metadata_nodes"
   ]
  }
 ],
 "metadata": {
  "kernelspec": {
   "display_name": "rag-llamaindex",
   "language": "python",
   "name": "python3"
  },
  "language_info": {
   "codemirror_mode": {
    "name": "ipython",
    "version": 3
   },
   "file_extension": ".py",
   "mimetype": "text/x-python",
   "name": "python",
   "nbconvert_exporter": "python",
   "pygments_lexer": "ipython3",
   "version": "3.12.11"
  }
 },
 "nbformat": 4,
 "nbformat_minor": 5
}